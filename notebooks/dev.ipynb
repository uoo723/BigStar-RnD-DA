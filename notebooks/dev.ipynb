{
 "cells": [
  {
   "cell_type": "code",
   "execution_count": 1,
   "id": "eb9b8859-cfe0-4677-89ce-78ae23c5d3d1",
   "metadata": {},
   "outputs": [
    {
     "name": "stdout",
     "output_type": "stream",
     "text": [
      "/jupyter-lab/repo/bigstar\n"
     ]
    }
   ],
   "source": [
    "%load_ext autoreload\n",
    "%autoreload 2\n",
    "%config Completer.use_jedi = False\n",
    "%cd .."
   ]
  },
  {
   "cell_type": "markdown",
   "id": "84b649be-3f49-4a3f-9ee5-20a74a6071d1",
   "metadata": {},
   "source": [
    "# Import Modules"
   ]
  },
  {
   "cell_type": "code",
   "execution_count": 150,
   "id": "d0118613-f1dd-48ce-929d-c8907e4e0ced",
   "metadata": {},
   "outputs": [],
   "source": [
    "import os\n",
    "\n",
    "os.environ[\"CUDA_VISIBLE_DEVICES\"] = \"1\"\n",
    "os.environ[\"TOKENIZERS_PARALLELISM\"] = \"false\"\n",
    "\n",
    "import pickle\n",
    "from collections import Counter\n",
    "from functools import partial\n",
    "\n",
    "import joblib\n",
    "import matplotlib.pyplot as plt\n",
    "import numpy as np\n",
    "import pandas as pd\n",
    "import seaborn as sns\n",
    "import torch\n",
    "from sklearn.metrics import (\n",
    "    accuracy_score,\n",
    "    confusion_matrix,\n",
    "    f1_score,\n",
    "    precision_recall_fscore_support,\n",
    "    precision_score,\n",
    "    recall_score,\n",
    ")\n",
    "from sklearn.model_selection import train_test_split\n",
    "from sklearn.preprocessing import LabelEncoder\n",
    "from src.base_trainer import get_ckpt_path, get_model_hparams, load_model_state\n",
    "from src.baseline.models import BaselineModel, BaselineModelWithMLAttention\n",
    "from src.baseline.trainer import BaselineTrainerModel\n",
    "from src.datasets import LotteQADataset, collate_fn\n",
    "from src.eda import EDA\n",
    "from src.utils import filter_arguments, get_label_encoder\n",
    "from torch.utils.data import DataLoader\n",
    "from tqdm.auto import tqdm\n",
    "from transformers import AutoConfig, AutoTokenizer"
   ]
  },
  {
   "cell_type": "markdown",
   "id": "fd4fa06a-4eb3-4288-844c-13f454a81e6f",
   "metadata": {},
   "source": [
    "# EDA"
   ]
  },
  {
   "cell_type": "markdown",
   "id": "397db83b-cf9b-4921-b582-39dcc169e72e",
   "metadata": {},
   "source": [
    "## # of Samples"
   ]
  },
  {
   "cell_type": "code",
   "execution_count": 30,
   "id": "8214f907-a9be-4518-8347-ac473a328c29",
   "metadata": {},
   "outputs": [
    {
     "name": "stdout",
     "output_type": "stream",
     "text": [
      "# of rows (train01): 441,874\n",
      "# of rows (train02): 273,175\n",
      "# of rows (validation): 114,288\n",
      "# of rows (test): 89,878\n"
     ]
    },
    {
     "data": {
      "text/html": [
       "<div>\n",
       "<style scoped>\n",
       "    .dataframe tbody tr th:only-of-type {\n",
       "        vertical-align: middle;\n",
       "    }\n",
       "\n",
       "    .dataframe tbody tr th {\n",
       "        vertical-align: top;\n",
       "    }\n",
       "\n",
       "    .dataframe thead th {\n",
       "        text-align: right;\n",
       "    }\n",
       "</style>\n",
       "<table border=\"1\" class=\"dataframe\">\n",
       "  <thead>\n",
       "    <tr style=\"text-align: right;\">\n",
       "      <th></th>\n",
       "      <th>IDX</th>\n",
       "      <th>발화자</th>\n",
       "      <th>발화문</th>\n",
       "      <th>카테고리</th>\n",
       "      <th>QA번호</th>\n",
       "      <th>QA여부</th>\n",
       "      <th>감성</th>\n",
       "      <th>인텐트</th>\n",
       "      <th>가격</th>\n",
       "      <th>수량</th>\n",
       "      <th>크기</th>\n",
       "      <th>장소</th>\n",
       "      <th>조직</th>\n",
       "      <th>사람</th>\n",
       "      <th>시간</th>\n",
       "      <th>날짜</th>\n",
       "      <th>상품명</th>\n",
       "      <th>상담번호</th>\n",
       "      <th>상담내순번</th>\n",
       "    </tr>\n",
       "  </thead>\n",
       "  <tbody>\n",
       "    <tr>\n",
       "      <th>0</th>\n",
       "      <td>433813</td>\n",
       "      <td>c</td>\n",
       "      <td>높이 길이를 좀 더 길게 해주실 수 있나요?</td>\n",
       "      <td>가구인테리어</td>\n",
       "      <td>1</td>\n",
       "      <td>q</td>\n",
       "      <td>m</td>\n",
       "      <td>제품_정보</td>\n",
       "      <td>NaN</td>\n",
       "      <td>NaN</td>\n",
       "      <td>NaN</td>\n",
       "      <td>NaN</td>\n",
       "      <td>NaN</td>\n",
       "      <td>NaN</td>\n",
       "      <td>NaN</td>\n",
       "      <td>NaN</td>\n",
       "      <td>NaN</td>\n",
       "      <td>1</td>\n",
       "      <td>1</td>\n",
       "    </tr>\n",
       "    <tr>\n",
       "      <th>2</th>\n",
       "      <td>441787</td>\n",
       "      <td>c</td>\n",
       "      <td>그레이 커튼을 배송받았는데요레이스 커튼이 흰색이 아니고 회색이네요 잘못 온 건가요?</td>\n",
       "      <td>가구인테리어</td>\n",
       "      <td>2</td>\n",
       "      <td>q</td>\n",
       "      <td>m</td>\n",
       "      <td>배송_오류</td>\n",
       "      <td>NaN</td>\n",
       "      <td>NaN</td>\n",
       "      <td>NaN</td>\n",
       "      <td>NaN</td>\n",
       "      <td>NaN</td>\n",
       "      <td>NaN</td>\n",
       "      <td>NaN</td>\n",
       "      <td>NaN</td>\n",
       "      <td>그레이 커튼|레이스 커튼</td>\n",
       "      <td>2</td>\n",
       "      <td>1</td>\n",
       "    </tr>\n",
       "    <tr>\n",
       "      <th>4</th>\n",
       "      <td>325930</td>\n",
       "      <td>c</td>\n",
       "      <td>거실 총길이가 가로 480세로 230인데 어떤 걸로 신청해야 하나요?</td>\n",
       "      <td>가구인테리어</td>\n",
       "      <td>4</td>\n",
       "      <td>q</td>\n",
       "      <td>m</td>\n",
       "      <td>제품_정보</td>\n",
       "      <td>NaN</td>\n",
       "      <td>NaN</td>\n",
       "      <td>NaN</td>\n",
       "      <td>NaN</td>\n",
       "      <td>NaN</td>\n",
       "      <td>NaN</td>\n",
       "      <td>NaN</td>\n",
       "      <td>NaN</td>\n",
       "      <td>NaN</td>\n",
       "      <td>4</td>\n",
       "      <td>1</td>\n",
       "    </tr>\n",
       "    <tr>\n",
       "      <th>6</th>\n",
       "      <td>70824</td>\n",
       "      <td>c</td>\n",
       "      <td>레이스 커튼만 개별 구매 안 될까요?</td>\n",
       "      <td>가구인테리어</td>\n",
       "      <td>5</td>\n",
       "      <td>q</td>\n",
       "      <td>m</td>\n",
       "      <td>구매_제품</td>\n",
       "      <td>NaN</td>\n",
       "      <td>NaN</td>\n",
       "      <td>NaN</td>\n",
       "      <td>NaN</td>\n",
       "      <td>NaN</td>\n",
       "      <td>NaN</td>\n",
       "      <td>NaN</td>\n",
       "      <td>NaN</td>\n",
       "      <td>레이스 커튼</td>\n",
       "      <td>5</td>\n",
       "      <td>1</td>\n",
       "    </tr>\n",
       "    <tr>\n",
       "      <th>8</th>\n",
       "      <td>253329</td>\n",
       "      <td>c</td>\n",
       "      <td>화이트 구입 시 봉색이 화이트로 오나요?</td>\n",
       "      <td>가구인테리어</td>\n",
       "      <td>6</td>\n",
       "      <td>q</td>\n",
       "      <td>m</td>\n",
       "      <td>제품_구성</td>\n",
       "      <td>NaN</td>\n",
       "      <td>NaN</td>\n",
       "      <td>NaN</td>\n",
       "      <td>NaN</td>\n",
       "      <td>NaN</td>\n",
       "      <td>NaN</td>\n",
       "      <td>NaN</td>\n",
       "      <td>NaN</td>\n",
       "      <td>NaN</td>\n",
       "      <td>6</td>\n",
       "      <td>1</td>\n",
       "    </tr>\n",
       "  </tbody>\n",
       "</table>\n",
       "</div>"
      ],
      "text/plain": [
       "      IDX 발화자                                             발화문    카테고리  QA번호  \\\n",
       "0  433813   c                        높이 길이를 좀 더 길게 해주실 수 있나요?  가구인테리어     1   \n",
       "2  441787   c  그레이 커튼을 배송받았는데요레이스 커튼이 흰색이 아니고 회색이네요 잘못 온 건가요?  가구인테리어     2   \n",
       "4  325930   c          거실 총길이가 가로 480세로 230인데 어떤 걸로 신청해야 하나요?  가구인테리어     4   \n",
       "6   70824   c                            레이스 커튼만 개별 구매 안 될까요?  가구인테리어     5   \n",
       "8  253329   c                          화이트 구입 시 봉색이 화이트로 오나요?  가구인테리어     6   \n",
       "\n",
       "  QA여부 감성    인텐트   가격   수량   크기   장소   조직   사람   시간   날짜            상품명  상담번호  \\\n",
       "0    q  m  제품_정보  NaN  NaN  NaN  NaN  NaN  NaN  NaN  NaN            NaN     1   \n",
       "2    q  m  배송_오류  NaN  NaN  NaN  NaN  NaN  NaN  NaN  NaN  그레이 커튼|레이스 커튼     2   \n",
       "4    q  m  제품_정보  NaN  NaN  NaN  NaN  NaN  NaN  NaN  NaN            NaN     4   \n",
       "6    q  m  구매_제품  NaN  NaN  NaN  NaN  NaN  NaN  NaN  NaN         레이스 커튼     5   \n",
       "8    q  m  제품_구성  NaN  NaN  NaN  NaN  NaN  NaN  NaN  NaN            NaN     6   \n",
       "\n",
       "   상담내순번  \n",
       "0      1  \n",
       "2      1  \n",
       "4      1  \n",
       "6      1  \n",
       "8      1  "
      ]
     },
     "execution_count": 30,
     "metadata": {},
     "output_type": "execute_result"
    }
   ],
   "source": [
    "train_df1 = pd.read_csv(\"data/train01.csv\")\n",
    "train_df1 = train_df1[train_df1[\"QA여부\"] == \"q\"]\n",
    "\n",
    "train_df2 = pd.read_csv(\"data/train02.csv\")\n",
    "train_df2 = train_df2[train_df2[\"QA여부\"] == \"q\"]\n",
    "\n",
    "train_df = pd.concat([train_df1, train_df2])\n",
    "\n",
    "valid_df = pd.read_csv(\"data/validation.csv\")\n",
    "valid_df = valid_df[valid_df[\"QA여부\"] == \"q\"]\n",
    "\n",
    "test_df = pd.read_csv(\"data/test.csv\")\n",
    "test_df = test_df[test_df[\"QA여부\"] == \"q\"]\n",
    "\n",
    "print(f\"# of rows (train01): {len(train_df1):,}\")\n",
    "print(f\"# of rows (train02): {len(train_df2):,}\")\n",
    "print(f\"# of rows (validation): {len(valid_df):,}\")\n",
    "print(f\"# of rows (test): {len(test_df):,}\")\n",
    "\n",
    "train_df1.head()"
   ]
  },
  {
   "cell_type": "markdown",
   "id": "d642abc8-ba22-4552-bb60-7db253d1fc52",
   "metadata": {},
   "source": [
    "## # of Samples per Label"
   ]
  },
  {
   "cell_type": "code",
   "execution_count": 83,
   "id": "8ebcb108-0326-4f13-a471-63eb3738f965",
   "metadata": {},
   "outputs": [
    {
     "data": {
      "text/html": [
       "<div>\n",
       "<style scoped>\n",
       "    .dataframe tbody tr th:only-of-type {\n",
       "        vertical-align: middle;\n",
       "    }\n",
       "\n",
       "    .dataframe tbody tr th {\n",
       "        vertical-align: top;\n",
       "    }\n",
       "\n",
       "    .dataframe thead th {\n",
       "        text-align: right;\n",
       "    }\n",
       "</style>\n",
       "<table border=\"1\" class=\"dataframe\">\n",
       "  <thead>\n",
       "    <tr style=\"text-align: right;\">\n",
       "      <th></th>\n",
       "      <th>인텐트</th>\n",
       "    </tr>\n",
       "  </thead>\n",
       "  <tbody>\n",
       "    <tr>\n",
       "      <th>배송_날짜</th>\n",
       "      <td>153516</td>\n",
       "    </tr>\n",
       "    <tr>\n",
       "      <th>제품_정보</th>\n",
       "      <td>124759</td>\n",
       "    </tr>\n",
       "    <tr>\n",
       "      <th>제품_구성</th>\n",
       "      <td>46528</td>\n",
       "    </tr>\n",
       "    <tr>\n",
       "      <th>제품_방법</th>\n",
       "      <td>42915</td>\n",
       "    </tr>\n",
       "    <tr>\n",
       "      <th>제품_추천</th>\n",
       "      <td>39719</td>\n",
       "    </tr>\n",
       "    <tr>\n",
       "      <th>...</th>\n",
       "      <td>...</td>\n",
       "    </tr>\n",
       "    <tr>\n",
       "      <th>주문_변경</th>\n",
       "      <td>132</td>\n",
       "    </tr>\n",
       "    <tr>\n",
       "      <th>포장_비용</th>\n",
       "      <td>125</td>\n",
       "    </tr>\n",
       "    <tr>\n",
       "      <th>주문_오류</th>\n",
       "      <td>106</td>\n",
       "    </tr>\n",
       "    <tr>\n",
       "      <th>주문_추가</th>\n",
       "      <td>103</td>\n",
       "    </tr>\n",
       "    <tr>\n",
       "      <th>멤버십_일반</th>\n",
       "      <td>64</td>\n",
       "    </tr>\n",
       "  </tbody>\n",
       "</table>\n",
       "<p>68 rows × 1 columns</p>\n",
       "</div>"
      ],
      "text/plain": [
       "           인텐트\n",
       "배송_날짜   153516\n",
       "제품_정보   124759\n",
       "제품_구성    46528\n",
       "제품_방법    42915\n",
       "제품_추천    39719\n",
       "...        ...\n",
       "주문_변경      132\n",
       "포장_비용      125\n",
       "주문_오류      106\n",
       "주문_추가      103\n",
       "멤버십_일반      64\n",
       "\n",
       "[68 rows x 1 columns]"
      ]
     },
     "execution_count": 83,
     "metadata": {},
     "output_type": "execute_result"
    }
   ],
   "source": [
    "value_counts = pd.DataFrame(train_df['인텐트'].value_counts())\n",
    "value_counts"
   ]
  },
  {
   "cell_type": "markdown",
   "id": "89442a9f-5ce5-41f3-888a-714e9dbe54a5",
   "metadata": {},
   "source": [
    "## Label Distribution"
   ]
  },
  {
   "cell_type": "code",
   "execution_count": 82,
   "id": "8b6413c4-a80d-4b9d-a6f7-3779ce23a127",
   "metadata": {},
   "outputs": [
    {
     "data": {
      "text/plain": [
       "<AxesSubplot:>"
      ]
     },
     "execution_count": 82,
     "metadata": {},
     "output_type": "execute_result"
    },
    {
     "data": {
      "image/png": "[encoded data removed]",
      "text/plain": [
       "<Figure size 1152x576 with 1 Axes>"
      ]
     },
     "metadata": {
      "needs_background": "light"
     },
     "output_type": "display_data"
    }
   ],
   "source": [
    "plt.figure(figsize=(16, 8))\n",
    "sns.barplot(x=np.arange(len(value_counts)), y=value_counts[\"인텐트\"].to_numpy())"
   ]
  },
  {
   "cell_type": "markdown",
   "id": "b089664d-08ac-4cf6-a956-7589db501b67",
   "metadata": {},
   "source": [
    "## Stat of Input Token"
   ]
  },
  {
   "cell_type": "code",
   "execution_count": 124,
   "id": "cc3e2d97-ec7f-428f-aa05-c708d999673f",
   "metadata": {},
   "outputs": [
    {
     "name": "stdout",
     "output_type": "stream",
     "text": [
      "avg. length of input token: 18.30\n",
      "std. length of input token: 9.30\n",
      "median length of input token: 16.0\n",
      "min length of input token: 4.00\n",
      "max length of input token: 233.00\n"
     ]
    }
   ],
   "source": [
    "tokenzier = AutoTokenizer.from_pretrained(\"monologg/koelectra-small-v3-discriminator\")\n",
    "input_lengths = []\n",
    "for text in tqdm(train_df[\"발화문\"]):\n",
    "    input_lengths.append(len(tokenzier(text)[\"input_ids\"]))\n",
    "\n",
    "input_lengths = np.array(input_lengths)\n",
    "print(f\"avg. length of input token: {np.mean(input_lengths):.2f}\")\n",
    "print(f\"std. length of input token: {np.std(input_lengths):.2f}\")\n",
    "print(f\"median length of input token: {np.median(input_lengths)}\")\n",
    "print(f\"min length of input token: {np.min(input_lengths):.2f}\")\n",
    "print(f\"max length of input token: {np.max(input_lengths):.2f}\")"
   ]
  },
  {
   "cell_type": "markdown",
   "id": "de19c854-9936-4c8d-b9b0-866a346e4108",
   "metadata": {},
   "source": [
    "# Dataset"
   ]
  },
  {
   "cell_type": "code",
   "execution_count": 161,
   "id": "6deed26f-90bf-40d4-84e6-c3e563ef4ae9",
   "metadata": {},
   "outputs": [],
   "source": [
    "dataset = LotteQADataset()\n",
    "le = LabelEncoder().fit(dataset.y)\n",
    "tokenizer = AutoTokenizer.from_pretrained(\"monologg/koelectra-small-v3-discriminator\")"
   ]
  },
  {
   "cell_type": "code",
   "execution_count": 162,
   "id": "e32d1c45-cd7d-427f-bee7-914f85621c68",
   "metadata": {},
   "outputs": [],
   "source": [
    "dataloader = DataLoader(\n",
    "    dataset,\n",
    "    batch_size=16,\n",
    "    collate_fn=partial(collate_fn, tokenizer=tokenizer, le=le, max_length=30),\n",
    ")"
   ]
  },
  {
   "cell_type": "code",
   "execution_count": 163,
   "id": "63e31d70-1548-4065-8052-094bf45e5350",
   "metadata": {},
   "outputs": [],
   "source": [
    "batch = next(iter(dataloader))"
   ]
  },
  {
   "cell_type": "markdown",
   "id": "26c79a26-83fc-41b0-994f-17e7c5480ff9",
   "metadata": {},
   "source": [
    "# Model"
   ]
  },
  {
   "cell_type": "code",
   "execution_count": 198,
   "id": "3a8358e0-59e6-48d7-934f-676ec61ddc8d",
   "metadata": {},
   "outputs": [
    {
     "name": "stderr",
     "output_type": "stream",
     "text": [
      "Some weights of the model checkpoint at monologg/koelectra-base-v3-discriminator were not used when initializing ElectraModel: ['discriminator_predictions.dense.bias', 'discriminator_predictions.dense_prediction.bias', 'discriminator_predictions.dense_prediction.weight', 'discriminator_predictions.dense.weight']\n",
      "- This IS expected if you are initializing ElectraModel from the checkpoint of a model trained on another task or with another architecture (e.g. initializing a BertForSequenceClassification model from a BertForPreTraining model).\n",
      "- This IS NOT expected if you are initializing ElectraModel from the checkpoint of a model that you expect to be exactly identical (initializing a BertForSequenceClassification model from a BertForSequenceClassification model).\n"
     ]
    }
   ],
   "source": [
    "model = BaselineModel(\n",
    "    num_labels=len(le.classes_),\n",
    "    pretrained_model_name=\"monologg/koelectra-base-v3-discriminator\",\n",
    "    use_layernorm=True,\n",
    ")"
   ]
  },
  {
   "cell_type": "code",
   "execution_count": 199,
   "id": "5ee0e952-7702-4627-82da-5b43ba8223c4",
   "metadata": {},
   "outputs": [],
   "source": [
    "with torch.no_grad():\n",
    "    outputs = model(batch[0])"
   ]
  },
  {
   "cell_type": "markdown",
   "id": "788bb096-cf69-4be0-b2d9-0ecaa48e1a44",
   "metadata": {},
   "source": [
    "# Test"
   ]
  },
  {
   "cell_type": "code",
   "execution_count": 204,
   "id": "f29185ab-644d-4d43-9fea-b7ef90bb5099",
   "metadata": {},
   "outputs": [
    {
     "name": "stderr",
     "output_type": "stream",
     "text": [
      "Some weights of the model checkpoint at monologg/koelectra-base-v3-discriminator were not used when initializing ElectraModel: ['discriminator_predictions.dense_prediction.weight', 'discriminator_predictions.dense_prediction.bias', 'discriminator_predictions.dense.weight', 'discriminator_predictions.dense.bias']\n",
      "- This IS expected if you are initializing ElectraModel from the checkpoint of a model trained on another task or with another architecture (e.g. initializing a BertForSequenceClassification model from a BertForPreTraining model).\n",
      "- This IS NOT expected if you are initializing ElectraModel from the checkpoint of a model that you expect to be exactly identical (initializing a BertForSequenceClassification model from a BertForSequenceClassification model).\n"
     ]
    },
    {
     "data": {
      "application/vnd.jupyter.widget-view+json": {
       "model_id": "cf79603386b54a13a1915c042cbe5099",
       "version_major": 2,
       "version_minor": 0
      },
      "text/plain": [
       "  0%|          | 0/2809 [00:00<?, ?it/s]"
      ]
     },
     "metadata": {},
     "output_type": "display_data"
    },
    {
     "name": "stdout",
     "output_type": "stream",
     "text": [
      "f1 (micro): 0.5271\n",
      "f1 (macro): 0.0723\n"
     ]
    }
   ],
   "source": [
    "run_id = \"d81d4ec7c72a49ca923a660103a9f631\"\n",
    "ckpt_path = get_ckpt_path(log_dir=\"./logs\", run_id=run_id, load_best=True)\n",
    "model_hparams = get_model_hparams(\"./logs\", run_id, BaselineTrainerModel.MODEL_HPARAMS)\n",
    "le = get_label_encoder(\"./cache/label_encoder\")\n",
    "\n",
    "model_cls = (\n",
    "    BaselineModel\n",
    "    if model_hparams[\"model_name\"] == \"Baseline\"\n",
    "    else BaselineModelWithMLAttention\n",
    ")\n",
    "\n",
    "model = model_cls(\n",
    "    num_labels=len(le.classes_), **filter_arguments(model_hparams, model_cls)\n",
    ")\n",
    "\n",
    "load_model_state(model, ckpt_path, substitution=(r\"^model\\.\", \"\"))\n",
    "\n",
    "test_dataset = LotteQADataset(mode=\"test\")\n",
    "tokenizer = AutoTokenizer.from_pretrained(model_hparams[\"pretrained_model_name\"])\n",
    "test_dataloader = DataLoader(\n",
    "    test_dataset,\n",
    "    batch_size=32,\n",
    "    pin_memory=True,\n",
    "    num_workers=4,\n",
    "    collate_fn=partial(\n",
    "        collate_fn, tokenizer=tokenizer, le=le, max_length=model_hparams[\"max_length\"]\n",
    "    ),\n",
    ")\n",
    "\n",
    "device = torch.device(\"cuda\")\n",
    "\n",
    "model.to(device)\n",
    "model.eval()\n",
    "predictions = []\n",
    "\n",
    "for batch_x, batch_y in tqdm(test_dataloader):\n",
    "    batch_x = {k: v.to(device) for k, v in batch_x.items()}\n",
    "    with torch.no_grad(), torch.cuda.amp.autocast():\n",
    "        outputs = model(batch_x)\n",
    "    predictions.append(outputs.argmax(dim=-1).cpu())\n",
    "\n",
    "predictions = np.concatenate(predictions)\n",
    "\n",
    "gt = le.transform(test_dataset.y)\n",
    "f1_micro = f1_score(gt, predictions, average=\"micro\")\n",
    "f1_macro = f1_score(gt, predictions, average=\"macro\")\n",
    "f1 = f1_score(gt, predictions, average=None)\n",
    "\n",
    "print(f\"f1 (micro): {f1_micro:.4f}\")\n",
    "print(f\"f1 (macro): {f1_macro:.4f}\")\n",
    "\n",
    "matrix = confusion_matrix(gt, predictions)\n",
    "\n",
    "data = {\n",
    "    \"intent\": le.classes_,\n",
    "    \"f1\": f1,\n",
    "    \"support\": matrix.sum(axis=-1),\n",
    "    \"# to tp\": np.diag(matrix),\n",
    "    \"# of predicted\": matrix.sum(axis=0),\n",
    "}\n",
    "\n",
    "df = pd.DataFrame(data)\n",
    "df.to_excel(\"outputs/predictions.xlsx\", index=False)"
   ]
  },
  {
   "cell_type": "markdown",
   "id": "3ee8487d-65cb-4895-8611-836c9d15297a",
   "metadata": {},
   "source": [
    "## Analysis Predictions"
   ]
  },
  {
   "cell_type": "code",
   "execution_count": 180,
   "id": "32dac133-50f4-41a6-8ee6-f91034a3edb4",
   "metadata": {
    "scrolled": true,
    "tags": []
   },
   "outputs": [
    {
     "data": {
      "text/html": [
       "<div>\n",
       "<style scoped>\n",
       "    .dataframe tbody tr th:only-of-type {\n",
       "        vertical-align: middle;\n",
       "    }\n",
       "\n",
       "    .dataframe tbody tr th {\n",
       "        vertical-align: top;\n",
       "    }\n",
       "\n",
       "    .dataframe thead th {\n",
       "        text-align: right;\n",
       "    }\n",
       "</style>\n",
       "<table border=\"1\" class=\"dataframe\">\n",
       "  <thead>\n",
       "    <tr style=\"text-align: right;\">\n",
       "      <th></th>\n",
       "      <th>intent</th>\n",
       "      <th># of predicted</th>\n",
       "    </tr>\n",
       "  </thead>\n",
       "  <tbody>\n",
       "    <tr>\n",
       "      <th>20</th>\n",
       "      <td>제품_정보</td>\n",
       "      <td>95</td>\n",
       "    </tr>\n",
       "    <tr>\n",
       "      <th>19</th>\n",
       "      <td>제품_재고</td>\n",
       "      <td>54</td>\n",
       "    </tr>\n",
       "    <tr>\n",
       "      <th>14</th>\n",
       "      <td>제품_방법</td>\n",
       "      <td>41</td>\n",
       "    </tr>\n",
       "    <tr>\n",
       "      <th>13</th>\n",
       "      <td>제품_구성</td>\n",
       "      <td>32</td>\n",
       "    </tr>\n",
       "    <tr>\n",
       "      <th>1</th>\n",
       "      <td>결제_일반</td>\n",
       "      <td>24</td>\n",
       "    </tr>\n",
       "    <tr>\n",
       "      <th>11</th>\n",
       "      <td>웹사이트_사용</td>\n",
       "      <td>14</td>\n",
       "    </tr>\n",
       "    <tr>\n",
       "      <th>9</th>\n",
       "      <td>배송_일반</td>\n",
       "      <td>9</td>\n",
       "    </tr>\n",
       "    <tr>\n",
       "      <th>22</th>\n",
       "      <td>제품_커스텀</td>\n",
       "      <td>7</td>\n",
       "    </tr>\n",
       "    <tr>\n",
       "      <th>18</th>\n",
       "      <td>제품_입고</td>\n",
       "      <td>7</td>\n",
       "    </tr>\n",
       "    <tr>\n",
       "      <th>21</th>\n",
       "      <td>제품_추천</td>\n",
       "      <td>5</td>\n",
       "    </tr>\n",
       "    <tr>\n",
       "      <th>15</th>\n",
       "      <td>제품_소재</td>\n",
       "      <td>4</td>\n",
       "    </tr>\n",
       "    <tr>\n",
       "      <th>27</th>\n",
       "      <td>행사_일반</td>\n",
       "      <td>4</td>\n",
       "    </tr>\n",
       "    <tr>\n",
       "      <th>17</th>\n",
       "      <td>제품_용도</td>\n",
       "      <td>3</td>\n",
       "    </tr>\n",
       "    <tr>\n",
       "      <th>5</th>\n",
       "      <td>매장_이용</td>\n",
       "      <td>3</td>\n",
       "    </tr>\n",
       "    <tr>\n",
       "      <th>4</th>\n",
       "      <td>구매_제품</td>\n",
       "      <td>3</td>\n",
       "    </tr>\n",
       "    <tr>\n",
       "      <th>23</th>\n",
       "      <td>제품_품질</td>\n",
       "      <td>3</td>\n",
       "    </tr>\n",
       "    <tr>\n",
       "      <th>0</th>\n",
       "      <td>AS_일반</td>\n",
       "      <td>3</td>\n",
       "    </tr>\n",
       "    <tr>\n",
       "      <th>8</th>\n",
       "      <td>배송_방법</td>\n",
       "      <td>2</td>\n",
       "    </tr>\n",
       "    <tr>\n",
       "      <th>2</th>\n",
       "      <td>교환|반품|환불_방법</td>\n",
       "      <td>2</td>\n",
       "    </tr>\n",
       "    <tr>\n",
       "      <th>25</th>\n",
       "      <td>포장_방식</td>\n",
       "      <td>2</td>\n",
       "    </tr>\n",
       "    <tr>\n",
       "      <th>12</th>\n",
       "      <td>웹사이트_오류</td>\n",
       "      <td>1</td>\n",
       "    </tr>\n",
       "    <tr>\n",
       "      <th>10</th>\n",
       "      <td>부가서비스_방법</td>\n",
       "      <td>1</td>\n",
       "    </tr>\n",
       "    <tr>\n",
       "      <th>7</th>\n",
       "      <td>배송_날짜</td>\n",
       "      <td>1</td>\n",
       "    </tr>\n",
       "    <tr>\n",
       "      <th>16</th>\n",
       "      <td>제품_시용</td>\n",
       "      <td>1</td>\n",
       "    </tr>\n",
       "    <tr>\n",
       "      <th>6</th>\n",
       "      <td>매장_정보</td>\n",
       "      <td>1</td>\n",
       "    </tr>\n",
       "    <tr>\n",
       "      <th>3</th>\n",
       "      <td>교환|반품|환불_일반</td>\n",
       "      <td>1</td>\n",
       "    </tr>\n",
       "    <tr>\n",
       "      <th>24</th>\n",
       "      <td>주문_제품</td>\n",
       "      <td>1</td>\n",
       "    </tr>\n",
       "    <tr>\n",
       "      <th>26</th>\n",
       "      <td>행사_기간</td>\n",
       "      <td>1</td>\n",
       "    </tr>\n",
       "  </tbody>\n",
       "</table>\n",
       "</div>"
      ],
      "text/plain": [
       "         intent  # of predicted\n",
       "20        제품_정보              95\n",
       "19        제품_재고              54\n",
       "14        제품_방법              41\n",
       "13        제품_구성              32\n",
       "1         결제_일반              24\n",
       "11      웹사이트_사용              14\n",
       "9         배송_일반               9\n",
       "22       제품_커스텀               7\n",
       "18        제품_입고               7\n",
       "21        제품_추천               5\n",
       "15        제품_소재               4\n",
       "27        행사_일반               4\n",
       "17        제품_용도               3\n",
       "5         매장_이용               3\n",
       "4         구매_제품               3\n",
       "23        제품_품질               3\n",
       "0         AS_일반               3\n",
       "8         배송_방법               2\n",
       "2   교환|반품|환불_방법               2\n",
       "25        포장_방식               2\n",
       "12      웹사이트_오류               1\n",
       "10     부가서비스_방법               1\n",
       "7         배송_날짜               1\n",
       "16        제품_시용               1\n",
       "6         매장_정보               1\n",
       "3   교환|반품|환불_일반               1\n",
       "24        주문_제품               1\n",
       "26        행사_기간               1"
      ]
     },
     "execution_count": 180,
     "metadata": {},
     "output_type": "execute_result"
    }
   ],
   "source": [
    "label_idx = le.transform([\"제품_일반\"])[0]\n",
    "predicted_label_idx = np.where(matrix[:, label_idx] != 0)[0]\n",
    "predicted_label_idx = predicted_label_idx[np.where(predicted_label_idx != label_idx)[0]]\n",
    "predicted = matrix[:, label_idx][predicted_label_idx]\n",
    "\n",
    "df = pd.DataFrame(\n",
    "    {\"intent\": le.classes_[predicted_label_idx], \"# of predicted\": predicted}\n",
    ")\n",
    "df.sort_values(by=\"# of predicted\", ascending=False)"
   ]
  },
  {
   "cell_type": "code",
   "execution_count": 196,
   "id": "e419fdae-05b4-4a89-9a54-0b3c908c4e1f",
   "metadata": {},
   "outputs": [],
   "source": [
    "train_dataset = LotteQADataset(aug_filename=\"augmented.eda.v2.csv\")\n",
    "counter = Counter(le.transform(train_dataset.y))\n",
    "label, cnt = zip(*counter.items())\n",
    "label = np.array(label)\n",
    "cnt = np.array(cnt)\n",
    "idx = np.argsort(label)\n",
    "\n",
    "data = {\"intent\": le.classes_, \"# of samples\": cnt[idx]}\n",
    "df = pd.DataFrame(data)\n",
    "df.to_excel(\"outputs/cnt.xlsx\", index=False)"
   ]
  },
  {
   "cell_type": "markdown",
   "id": "0225f29f-0900-4cd6-ae5e-d3ccd706ec9b",
   "metadata": {},
   "source": [
    "# Easy Data Augmentation"
   ]
  },
  {
   "cell_type": "code",
   "execution_count": 88,
   "id": "0f98efff-1b93-4c78-a35e-9936e3b72a55",
   "metadata": {},
   "outputs": [],
   "source": [
    "train_dataset = LotteQADataset()"
   ]
  },
  {
   "cell_type": "code",
   "execution_count": 193,
   "id": "1eccb8cb-62f7-488c-8a9c-0412e951be5c",
   "metadata": {},
   "outputs": [
    {
     "name": "stdout",
     "output_type": "stream",
     "text": [
      "Original text:\n",
      "그레이 커튼이 흰색이 아니고 회색이네요 잘못 건가요?\n",
      "\n",
      "Augmented text:\n",
      "그레이 커튼이 잘못 아니고 회색이네요 흰색이 건가요?\n",
      "그레이 아니고 잘못 건가요?\n"
     ]
    }
   ],
   "source": [
    "eda = EDA(num_aug=3, p_sr=0, p_ri=0, p_rd=0.5, p_rs=0.5)\n",
    "original = train_dataset[2][0]\n",
    "augmented = eda(original)\n",
    "\n",
    "print(\"Original text:\")\n",
    "print(original)\n",
    "print()\n",
    "print(\"Augmented text:\")\n",
    "print(\"\\n\".join(augmented))"
   ]
  },
  {
   "cell_type": "code",
   "execution_count": 194,
   "id": "ee7f1f79-a533-4184-89ba-10bb3a51ccd3",
   "metadata": {},
   "outputs": [
    {
     "data": {
      "application/vnd.jupyter.widget-view+json": {
       "model_id": "ee408ce4574549efb8e806085351068e",
       "version_major": 2,
       "version_minor": 0
      },
      "text/plain": [
       "  0%|          | 0/715049 [00:00<?, ?it/s]"
      ]
     },
     "metadata": {},
     "output_type": "display_data"
    }
   ],
   "source": [
    "eda = EDA(num_aug=3, p_sr=0, p_ri=0, p_rd=0.5, p_rs=0.5)\n",
    "train_dataset = LotteQADataset()\n",
    "augmented = []\n",
    "for text, label in tqdm(train_dataset):\n",
    "    aug = eda(text)\n",
    "    augmented.extend([(t, label) for t in aug])"
   ]
  },
  {
   "cell_type": "code",
   "execution_count": 195,
   "id": "85e9cf53-5e10-4fa4-adaa-ff98387af717",
   "metadata": {},
   "outputs": [],
   "source": [
    "text, labels = zip(*augmented)\n",
    "df = pd.DataFrame({\"발화문\": text, \"인텐트\": labels})\n",
    "df.to_csv('data/augmented.eda.v2.csv', index=False)"
   ]
  },
  {
   "cell_type": "code",
   "execution_count": 394,
   "id": "47818c06-f2a6-45b5-9846-b5c382251b0d",
   "metadata": {},
   "outputs": [
    {
     "data": {
      "application/vnd.jupyter.widget-view+json": {
       "model_id": "2075741a9c2c4d11ae4ac11123b30996",
       "version_major": 2,
       "version_minor": 0
      },
      "text/plain": [
       "  0%|          | 0/28087 [00:01<?, ?it/s]"
      ]
     },
     "metadata": {},
     "output_type": "display_data"
    },
    {
     "name": "stdout",
     "output_type": "stream",
     "text": [
      "f1 (micro): 0.7305\n",
      "f1 (macro): 0.5125\n"
     ]
    }
   ],
   "source": [
    "model.eval()\n",
    "predictions = []\n",
    "\n",
    "for batch_x, batch_y in tqdm(test_dataloader):\n",
    "    batch_x = {k: v.to(device) for k, v in batch_x.items()}\n",
    "    with torch.no_grad():\n",
    "        outputs = model(batch_x)\n",
    "    predictions.append(outputs.argmax(dim=-1).cpu())\n",
    "\n",
    "predictions = np.concatenate(predictions)\n",
    "\n",
    "le = get_label_encoder('./cache/label_encoder')\n",
    "gt = le.transform(test_dataset.y)\n",
    "f1_micro = f1_score(gt, predictions, average='micro')\n",
    "f1_macro = f1_score(gt, predictions, average='macro')\n",
    "f1 = f1_score(gt, predictions, average=None)\n",
    "\n",
    "print(f\"f1 (micro): {f1_micro:.4f}\")\n",
    "print(f\"f1 (macro): {f1_macro:.4f}\")"
   ]
  },
  {
   "cell_type": "code",
   "execution_count": 396,
   "id": "c8e4dc08-b82d-4dcd-aedd-9f1568160fea",
   "metadata": {},
   "outputs": [],
   "source": [
    "counter = Counter(gt)\n",
    "\n",
    "label, cnt = zip(*counter.items())\n",
    "label = np.array(label)\n",
    "cnt = np.array(cnt)\n",
    "idx = np.argsort(label)\n",
    "\n",
    "data = {\"intent\": le.classes_, \"f1\": f1, \"support\": cnt[idx]}\n",
    "df = pd.DataFrame(data)\n",
    "df.to_excel(\"predictions.xlsx\", index=False)"
   ]
  },
  {
   "cell_type": "markdown",
   "id": "9a82d44b-cc72-4624-927e-4b119c56465a",
   "metadata": {},
   "source": [
    "# Backtranslation"
   ]
  },
  {
   "cell_type": "code",
   "execution_count": null,
   "id": "e3a5cef4-2e28-4bec-9315-f3ecf75c514e",
   "metadata": {},
   "outputs": [],
   "source": []
  }
 ],
 "metadata": {
  "kernelspec": {
   "display_name": "Python [conda env:algorima]",
   "language": "python",
   "name": "conda-env-algorima-py"
  },
  "language_info": {
   "codemirror_mode": {
    "name": "ipython",
    "version": 3
   },
   "file_extension": ".py",
   "mimetype": "text/x-python",
   "name": "python",
   "nbconvert_exporter": "python",
   "pygments_lexer": "ipython3",
   "version": "3.7.2"
  }
 },
 "nbformat": 4,
 "nbformat_minor": 5
}
