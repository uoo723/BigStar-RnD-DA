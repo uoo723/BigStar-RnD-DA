{
 "cells": [
  {
   "cell_type": "code",
   "execution_count": 1,
   "id": "eb9b8859-cfe0-4677-89ce-78ae23c5d3d1",
   "metadata": {},
   "outputs": [
    {
     "name": "stdout",
     "output_type": "stream",
     "text": [
      "/jupyter-lab/repo/bigstar\n"
     ]
    }
   ],
   "source": [
    "%load_ext autoreload\n",
    "%autoreload 2\n",
    "%config Completer.use_jedi = False\n",
    "%cd .."
   ]
  },
  {
   "cell_type": "markdown",
   "id": "84b649be-3f49-4a3f-9ee5-20a74a6071d1",
   "metadata": {},
   "source": [
    "# Import Modules"
   ]
  },
  {
   "cell_type": "code",
   "execution_count": 371,
   "id": "d0118613-f1dd-48ce-929d-c8907e4e0ced",
   "metadata": {},
   "outputs": [],
   "source": [
    "import os\n",
    "\n",
    "os.environ[\"CUDA_VISIBLE_DEVICES\"] = \"1\"\n",
    "os.environ[\"TOKENIZERS_PARALLELISM\"] = \"false\"\n",
    "os.environ[\"TRANSFORMERS_VERBOSITY\"] = \"error\"\n",
    "\n",
    "import pickle\n",
    "from collections import Counter\n",
    "from functools import partial\n",
    "from pathlib import Path\n",
    "from typing import Dict, Iterable, Tuple\n",
    "\n",
    "import joblib\n",
    "import matplotlib.pyplot as plt\n",
    "import numpy as np\n",
    "import pandas as pd\n",
    "import seaborn as sns\n",
    "import torch\n",
    "from scipy.special import softmax\n",
    "from sklearn.metrics import (\n",
    "    accuracy_score,\n",
    "    confusion_matrix,\n",
    "    f1_score,\n",
    "    precision_recall_fscore_support,\n",
    "    precision_score,\n",
    "    recall_score,\n",
    ")\n",
    "from sklearn.model_selection import train_test_split\n",
    "from sklearn.preprocessing import LabelEncoder\n",
    "from src.base_trainer import get_ckpt_path, get_model_hparams, load_model_state\n",
    "from src.baseline.models import BaselineModel, BaselineModelWithMLAttention\n",
    "from src.baseline.trainer import BaselineTrainerModel\n",
    "from src.datasets import LotteQADataset, collate_fn\n",
    "from src.eda import EDA\n",
    "from src.utils import filter_arguments, get_label_encoder\n",
    "from torch.utils.data import DataLoader\n",
    "from tqdm.auto import tqdm\n",
    "from transformers import AutoConfig, AutoModel, AutoTokenizer, MarianMTModel\n",
    "from transformers.models.marian.convert_marian_to_pytorch import (\n",
    "    load_config_from_state_dict,\n",
    ")\n",
    "from transformers.tokenization_utils_base import PreTrainedTokenizerBase"
   ]
  },
  {
   "cell_type": "markdown",
   "id": "fd4fa06a-4eb3-4288-844c-13f454a81e6f",
   "metadata": {},
   "source": [
    "# EDA"
   ]
  },
  {
   "cell_type": "markdown",
   "id": "397db83b-cf9b-4921-b582-39dcc169e72e",
   "metadata": {},
   "source": [
    "## # of Samples"
   ]
  },
  {
   "cell_type": "code",
   "execution_count": 30,
   "id": "8214f907-a9be-4518-8347-ac473a328c29",
   "metadata": {},
   "outputs": [
    {
     "name": "stdout",
     "output_type": "stream",
     "text": [
      "# of rows (train01): 441,874\n",
      "# of rows (train02): 273,175\n",
      "# of rows (validation): 114,288\n",
      "# of rows (test): 89,878\n"
     ]
    },
    {
     "data": {
      "text/html": [
       "<div>\n",
       "<style scoped>\n",
       "    .dataframe tbody tr th:only-of-type {\n",
       "        vertical-align: middle;\n",
       "    }\n",
       "\n",
       "    .dataframe tbody tr th {\n",
       "        vertical-align: top;\n",
       "    }\n",
       "\n",
       "    .dataframe thead th {\n",
       "        text-align: right;\n",
       "    }\n",
       "</style>\n",
       "<table border=\"1\" class=\"dataframe\">\n",
       "  <thead>\n",
       "    <tr style=\"text-align: right;\">\n",
       "      <th></th>\n",
       "      <th>IDX</th>\n",
       "      <th>발화자</th>\n",
       "      <th>발화문</th>\n",
       "      <th>카테고리</th>\n",
       "      <th>QA번호</th>\n",
       "      <th>QA여부</th>\n",
       "      <th>감성</th>\n",
       "      <th>인텐트</th>\n",
       "      <th>가격</th>\n",
       "      <th>수량</th>\n",
       "      <th>크기</th>\n",
       "      <th>장소</th>\n",
       "      <th>조직</th>\n",
       "      <th>사람</th>\n",
       "      <th>시간</th>\n",
       "      <th>날짜</th>\n",
       "      <th>상품명</th>\n",
       "      <th>상담번호</th>\n",
       "      <th>상담내순번</th>\n",
       "    </tr>\n",
       "  </thead>\n",
       "  <tbody>\n",
       "    <tr>\n",
       "      <th>0</th>\n",
       "      <td>433813</td>\n",
       "      <td>c</td>\n",
       "      <td>높이 길이를 좀 더 길게 해주실 수 있나요?</td>\n",
       "      <td>가구인테리어</td>\n",
       "      <td>1</td>\n",
       "      <td>q</td>\n",
       "      <td>m</td>\n",
       "      <td>제품_정보</td>\n",
       "      <td>NaN</td>\n",
       "      <td>NaN</td>\n",
       "      <td>NaN</td>\n",
       "      <td>NaN</td>\n",
       "      <td>NaN</td>\n",
       "      <td>NaN</td>\n",
       "      <td>NaN</td>\n",
       "      <td>NaN</td>\n",
       "      <td>NaN</td>\n",
       "      <td>1</td>\n",
       "      <td>1</td>\n",
       "    </tr>\n",
       "    <tr>\n",
       "      <th>2</th>\n",
       "      <td>441787</td>\n",
       "      <td>c</td>\n",
       "      <td>그레이 커튼을 배송받았는데요레이스 커튼이 흰색이 아니고 회색이네요 잘못 온 건가요?</td>\n",
       "      <td>가구인테리어</td>\n",
       "      <td>2</td>\n",
       "      <td>q</td>\n",
       "      <td>m</td>\n",
       "      <td>배송_오류</td>\n",
       "      <td>NaN</td>\n",
       "      <td>NaN</td>\n",
       "      <td>NaN</td>\n",
       "      <td>NaN</td>\n",
       "      <td>NaN</td>\n",
       "      <td>NaN</td>\n",
       "      <td>NaN</td>\n",
       "      <td>NaN</td>\n",
       "      <td>그레이 커튼|레이스 커튼</td>\n",
       "      <td>2</td>\n",
       "      <td>1</td>\n",
       "    </tr>\n",
       "    <tr>\n",
       "      <th>4</th>\n",
       "      <td>325930</td>\n",
       "      <td>c</td>\n",
       "      <td>거실 총길이가 가로 480세로 230인데 어떤 걸로 신청해야 하나요?</td>\n",
       "      <td>가구인테리어</td>\n",
       "      <td>4</td>\n",
       "      <td>q</td>\n",
       "      <td>m</td>\n",
       "      <td>제품_정보</td>\n",
       "      <td>NaN</td>\n",
       "      <td>NaN</td>\n",
       "      <td>NaN</td>\n",
       "      <td>NaN</td>\n",
       "      <td>NaN</td>\n",
       "      <td>NaN</td>\n",
       "      <td>NaN</td>\n",
       "      <td>NaN</td>\n",
       "      <td>NaN</td>\n",
       "      <td>4</td>\n",
       "      <td>1</td>\n",
       "    </tr>\n",
       "    <tr>\n",
       "      <th>6</th>\n",
       "      <td>70824</td>\n",
       "      <td>c</td>\n",
       "      <td>레이스 커튼만 개별 구매 안 될까요?</td>\n",
       "      <td>가구인테리어</td>\n",
       "      <td>5</td>\n",
       "      <td>q</td>\n",
       "      <td>m</td>\n",
       "      <td>구매_제품</td>\n",
       "      <td>NaN</td>\n",
       "      <td>NaN</td>\n",
       "      <td>NaN</td>\n",
       "      <td>NaN</td>\n",
       "      <td>NaN</td>\n",
       "      <td>NaN</td>\n",
       "      <td>NaN</td>\n",
       "      <td>NaN</td>\n",
       "      <td>레이스 커튼</td>\n",
       "      <td>5</td>\n",
       "      <td>1</td>\n",
       "    </tr>\n",
       "    <tr>\n",
       "      <th>8</th>\n",
       "      <td>253329</td>\n",
       "      <td>c</td>\n",
       "      <td>화이트 구입 시 봉색이 화이트로 오나요?</td>\n",
       "      <td>가구인테리어</td>\n",
       "      <td>6</td>\n",
       "      <td>q</td>\n",
       "      <td>m</td>\n",
       "      <td>제품_구성</td>\n",
       "      <td>NaN</td>\n",
       "      <td>NaN</td>\n",
       "      <td>NaN</td>\n",
       "      <td>NaN</td>\n",
       "      <td>NaN</td>\n",
       "      <td>NaN</td>\n",
       "      <td>NaN</td>\n",
       "      <td>NaN</td>\n",
       "      <td>NaN</td>\n",
       "      <td>6</td>\n",
       "      <td>1</td>\n",
       "    </tr>\n",
       "  </tbody>\n",
       "</table>\n",
       "</div>"
      ],
      "text/plain": [
       "      IDX 발화자                                             발화문    카테고리  QA번호  \\\n",
       "0  433813   c                        높이 길이를 좀 더 길게 해주실 수 있나요?  가구인테리어     1   \n",
       "2  441787   c  그레이 커튼을 배송받았는데요레이스 커튼이 흰색이 아니고 회색이네요 잘못 온 건가요?  가구인테리어     2   \n",
       "4  325930   c          거실 총길이가 가로 480세로 230인데 어떤 걸로 신청해야 하나요?  가구인테리어     4   \n",
       "6   70824   c                            레이스 커튼만 개별 구매 안 될까요?  가구인테리어     5   \n",
       "8  253329   c                          화이트 구입 시 봉색이 화이트로 오나요?  가구인테리어     6   \n",
       "\n",
       "  QA여부 감성    인텐트   가격   수량   크기   장소   조직   사람   시간   날짜            상품명  상담번호  \\\n",
       "0    q  m  제품_정보  NaN  NaN  NaN  NaN  NaN  NaN  NaN  NaN            NaN     1   \n",
       "2    q  m  배송_오류  NaN  NaN  NaN  NaN  NaN  NaN  NaN  NaN  그레이 커튼|레이스 커튼     2   \n",
       "4    q  m  제품_정보  NaN  NaN  NaN  NaN  NaN  NaN  NaN  NaN            NaN     4   \n",
       "6    q  m  구매_제품  NaN  NaN  NaN  NaN  NaN  NaN  NaN  NaN         레이스 커튼     5   \n",
       "8    q  m  제품_구성  NaN  NaN  NaN  NaN  NaN  NaN  NaN  NaN            NaN     6   \n",
       "\n",
       "   상담내순번  \n",
       "0      1  \n",
       "2      1  \n",
       "4      1  \n",
       "6      1  \n",
       "8      1  "
      ]
     },
     "execution_count": 30,
     "metadata": {},
     "output_type": "execute_result"
    }
   ],
   "source": [
    "train_df1 = pd.read_csv(\"data/train01.csv\")\n",
    "train_df1 = train_df1[train_df1[\"QA여부\"] == \"q\"]\n",
    "\n",
    "train_df2 = pd.read_csv(\"data/train02.csv\")\n",
    "train_df2 = train_df2[train_df2[\"QA여부\"] == \"q\"]\n",
    "\n",
    "train_df = pd.concat([train_df1, train_df2])\n",
    "\n",
    "valid_df = pd.read_csv(\"data/validation.csv\")\n",
    "valid_df = valid_df[valid_df[\"QA여부\"] == \"q\"]\n",
    "\n",
    "test_df = pd.read_csv(\"data/test.csv\")\n",
    "test_df = test_df[test_df[\"QA여부\"] == \"q\"]\n",
    "\n",
    "print(f\"# of rows (train01): {len(train_df1):,}\")\n",
    "print(f\"# of rows (train02): {len(train_df2):,}\")\n",
    "print(f\"# of rows (validation): {len(valid_df):,}\")\n",
    "print(f\"# of rows (test): {len(test_df):,}\")\n",
    "\n",
    "train_df1.head()"
   ]
  },
  {
   "cell_type": "markdown",
   "id": "d642abc8-ba22-4552-bb60-7db253d1fc52",
   "metadata": {},
   "source": [
    "## # of Samples per Label"
   ]
  },
  {
   "cell_type": "code",
   "execution_count": 83,
   "id": "8ebcb108-0326-4f13-a471-63eb3738f965",
   "metadata": {},
   "outputs": [
    {
     "data": {
      "text/html": [
       "<div>\n",
       "<style scoped>\n",
       "    .dataframe tbody tr th:only-of-type {\n",
       "        vertical-align: middle;\n",
       "    }\n",
       "\n",
       "    .dataframe tbody tr th {\n",
       "        vertical-align: top;\n",
       "    }\n",
       "\n",
       "    .dataframe thead th {\n",
       "        text-align: right;\n",
       "    }\n",
       "</style>\n",
       "<table border=\"1\" class=\"dataframe\">\n",
       "  <thead>\n",
       "    <tr style=\"text-align: right;\">\n",
       "      <th></th>\n",
       "      <th>인텐트</th>\n",
       "    </tr>\n",
       "  </thead>\n",
       "  <tbody>\n",
       "    <tr>\n",
       "      <th>배송_날짜</th>\n",
       "      <td>153516</td>\n",
       "    </tr>\n",
       "    <tr>\n",
       "      <th>제품_정보</th>\n",
       "      <td>124759</td>\n",
       "    </tr>\n",
       "    <tr>\n",
       "      <th>제품_구성</th>\n",
       "      <td>46528</td>\n",
       "    </tr>\n",
       "    <tr>\n",
       "      <th>제품_방법</th>\n",
       "      <td>42915</td>\n",
       "    </tr>\n",
       "    <tr>\n",
       "      <th>제품_추천</th>\n",
       "      <td>39719</td>\n",
       "    </tr>\n",
       "    <tr>\n",
       "      <th>...</th>\n",
       "      <td>...</td>\n",
       "    </tr>\n",
       "    <tr>\n",
       "      <th>주문_변경</th>\n",
       "      <td>132</td>\n",
       "    </tr>\n",
       "    <tr>\n",
       "      <th>포장_비용</th>\n",
       "      <td>125</td>\n",
       "    </tr>\n",
       "    <tr>\n",
       "      <th>주문_오류</th>\n",
       "      <td>106</td>\n",
       "    </tr>\n",
       "    <tr>\n",
       "      <th>주문_추가</th>\n",
       "      <td>103</td>\n",
       "    </tr>\n",
       "    <tr>\n",
       "      <th>멤버십_일반</th>\n",
       "      <td>64</td>\n",
       "    </tr>\n",
       "  </tbody>\n",
       "</table>\n",
       "<p>68 rows × 1 columns</p>\n",
       "</div>"
      ],
      "text/plain": [
       "           인텐트\n",
       "배송_날짜   153516\n",
       "제품_정보   124759\n",
       "제품_구성    46528\n",
       "제품_방법    42915\n",
       "제품_추천    39719\n",
       "...        ...\n",
       "주문_변경      132\n",
       "포장_비용      125\n",
       "주문_오류      106\n",
       "주문_추가      103\n",
       "멤버십_일반      64\n",
       "\n",
       "[68 rows x 1 columns]"
      ]
     },
     "execution_count": 83,
     "metadata": {},
     "output_type": "execute_result"
    }
   ],
   "source": [
    "value_counts = pd.DataFrame(train_df['인텐트'].value_counts())\n",
    "value_counts"
   ]
  },
  {
   "cell_type": "markdown",
   "id": "89442a9f-5ce5-41f3-888a-714e9dbe54a5",
   "metadata": {},
   "source": [
    "## Label Distribution"
   ]
  },
  {
   "cell_type": "code",
   "execution_count": 82,
   "id": "8b6413c4-a80d-4b9d-a6f7-3779ce23a127",
   "metadata": {},
   "outputs": [
    {
     "data": {
      "text/plain": [
       "<AxesSubplot:>"
      ]
     },
     "execution_count": 82,
     "metadata": {},
     "output_type": "execute_result"
    },
    {
     "data": {
      "image/png": "[encoded data removed]",
      "text/plain": [
       "<Figure size 1152x576 with 1 Axes>"
      ]
     },
     "metadata": {
      "needs_background": "light"
     },
     "output_type": "display_data"
    }
   ],
   "source": [
    "plt.figure(figsize=(16, 8))\n",
    "sns.barplot(x=np.arange(len(value_counts)), y=value_counts[\"인텐트\"].to_numpy())"
   ]
  },
  {
   "cell_type": "markdown",
   "id": "b089664d-08ac-4cf6-a956-7589db501b67",
   "metadata": {},
   "source": [
    "## Stat of Input Token"
   ]
  },
  {
   "cell_type": "code",
   "execution_count": 124,
   "id": "cc3e2d97-ec7f-428f-aa05-c708d999673f",
   "metadata": {},
   "outputs": [
    {
     "name": "stdout",
     "output_type": "stream",
     "text": [
      "avg. length of input token: 18.30\n",
      "std. length of input token: 9.30\n",
      "median length of input token: 16.0\n",
      "min length of input token: 4.00\n",
      "max length of input token: 233.00\n"
     ]
    }
   ],
   "source": [
    "tokenzier = AutoTokenizer.from_pretrained(\"monologg/koelectra-small-v3-discriminator\")\n",
    "input_lengths = []\n",
    "for text in tqdm(train_df[\"발화문\"]):\n",
    "    input_lengths.append(len(tokenzier(text)[\"input_ids\"]))\n",
    "\n",
    "input_lengths = np.array(input_lengths)\n",
    "print(f\"avg. length of input token: {np.mean(input_lengths):.2f}\")\n",
    "print(f\"std. length of input token: {np.std(input_lengths):.2f}\")\n",
    "print(f\"median length of input token: {np.median(input_lengths)}\")\n",
    "print(f\"min length of input token: {np.min(input_lengths):.2f}\")\n",
    "print(f\"max length of input token: {np.max(input_lengths):.2f}\")"
   ]
  },
  {
   "cell_type": "markdown",
   "id": "de19c854-9936-4c8d-b9b0-866a346e4108",
   "metadata": {},
   "source": [
    "# Dataset"
   ]
  },
  {
   "cell_type": "code",
   "execution_count": 161,
   "id": "6deed26f-90bf-40d4-84e6-c3e563ef4ae9",
   "metadata": {},
   "outputs": [],
   "source": [
    "dataset = LotteQADataset()\n",
    "le = LabelEncoder().fit(dataset.y)\n",
    "tokenizer = AutoTokenizer.from_pretrained(\"monologg/koelectra-small-v3-discriminator\")"
   ]
  },
  {
   "cell_type": "code",
   "execution_count": 162,
   "id": "e32d1c45-cd7d-427f-bee7-914f85621c68",
   "metadata": {},
   "outputs": [],
   "source": [
    "dataloader = DataLoader(\n",
    "    dataset,\n",
    "    batch_size=16,\n",
    "    collate_fn=partial(collate_fn, tokenizer=tokenizer, le=le, max_length=30),\n",
    ")"
   ]
  },
  {
   "cell_type": "code",
   "execution_count": 163,
   "id": "63e31d70-1548-4065-8052-094bf45e5350",
   "metadata": {},
   "outputs": [],
   "source": [
    "batch = next(iter(dataloader))"
   ]
  },
  {
   "cell_type": "markdown",
   "id": "26c79a26-83fc-41b0-994f-17e7c5480ff9",
   "metadata": {},
   "source": [
    "# Model"
   ]
  },
  {
   "cell_type": "code",
   "execution_count": 198,
   "id": "3a8358e0-59e6-48d7-934f-676ec61ddc8d",
   "metadata": {},
   "outputs": [
    {
     "name": "stderr",
     "output_type": "stream",
     "text": [
      "Some weights of the model checkpoint at monologg/koelectra-base-v3-discriminator were not used when initializing ElectraModel: ['discriminator_predictions.dense.bias', 'discriminator_predictions.dense_prediction.bias', 'discriminator_predictions.dense_prediction.weight', 'discriminator_predictions.dense.weight']\n",
      "- This IS expected if you are initializing ElectraModel from the checkpoint of a model trained on another task or with another architecture (e.g. initializing a BertForSequenceClassification model from a BertForPreTraining model).\n",
      "- This IS NOT expected if you are initializing ElectraModel from the checkpoint of a model that you expect to be exactly identical (initializing a BertForSequenceClassification model from a BertForSequenceClassification model).\n"
     ]
    }
   ],
   "source": [
    "model = BaselineModel(\n",
    "    num_labels=len(le.classes_),\n",
    "    pretrained_model_name=\"monologg/koelectra-base-v3-discriminator\",\n",
    "    use_layernorm=True,\n",
    ")"
   ]
  },
  {
   "cell_type": "markdown",
   "id": "788bb096-cf69-4be0-b2d9-0ecaa48e1a44",
   "metadata": {},
   "source": [
    "# Test"
   ]
  },
  {
   "cell_type": "code",
   "execution_count": 413,
   "id": "09ef63b1-1cad-4446-b60b-ef41d1e9242e",
   "metadata": {
    "scrolled": true,
    "tags": []
   },
   "outputs": [
    {
     "name": "stderr",
     "output_type": "stream",
     "text": [
      "Some weights of the model checkpoint at klue/bert-base were not used when initializing BertModel: ['cls.predictions.transform.LayerNorm.bias', 'cls.seq_relationship.weight', 'cls.predictions.transform.dense.weight', 'cls.predictions.bias', 'cls.predictions.decoder.weight', 'cls.predictions.decoder.bias', 'cls.seq_relationship.bias', 'cls.predictions.transform.LayerNorm.weight', 'cls.predictions.transform.dense.bias']\n",
      "- This IS expected if you are initializing BertModel from the checkpoint of a model trained on another task or with another architecture (e.g. initializing a BertForSequenceClassification model from a BertForPreTraining model).\n",
      "- This IS NOT expected if you are initializing BertModel from the checkpoint of a model that you expect to be exactly identical (initializing a BertForSequenceClassification model from a BertForSequenceClassification model).\n"
     ]
    },
    {
     "data": {
      "application/vnd.jupyter.widget-view+json": {
       "model_id": "dc601576909c4cde87f00f07f7420a80",
       "version_major": 2,
       "version_minor": 0
      },
      "text/plain": [
       "  0%|          | 0/5618 [00:00<?, ?it/s]"
      ]
     },
     "metadata": {},
     "output_type": "display_data"
    },
    {
     "name": "stdout",
     "output_type": "stream",
     "text": [
      "f1        (micro): 0.7517\n",
      "prec      (macro): 0.5695\n",
      "recall    (macro): 0.5204\n",
      "f1        (macro): 0.5227\n",
      "prec   (weighted): 0.7302\n",
      "recall (weighted): 0.7517\n",
      "f1     (weighted): 0.7351\n"
     ]
    }
   ],
   "source": [
    "run_id = \"9fb4e4dfc92f44fc9b080ee675492848\"\n",
    "ckpt_path = get_ckpt_path(log_dir=\"./logs\", run_id=run_id, load_best=True)\n",
    "model_hparams = get_model_hparams(\"./logs\", run_id, BaselineTrainerModel.MODEL_HPARAMS)\n",
    "le = get_label_encoder(\"./cache/label_encoder\")\n",
    "\n",
    "model_cls = (\n",
    "    BaselineModel\n",
    "    if model_hparams[\"model_name\"] == \"Baseline\"\n",
    "    else BaselineModelWithMLAttention\n",
    ")\n",
    "\n",
    "model = model_cls(\n",
    "    num_labels=len(le.classes_), **filter_arguments(model_hparams, model_cls)\n",
    ")\n",
    "\n",
    "load_model_state(model, ckpt_path, substitution=(r\"^model\\.\", \"\"))\n",
    "\n",
    "test_dataset = LotteQADataset(mode=\"test\")\n",
    "tokenizer = AutoTokenizer.from_pretrained(model_hparams[\"pretrained_model_name\"])\n",
    "test_dataloader = DataLoader(\n",
    "    test_dataset,\n",
    "    batch_size=16,\n",
    "    pin_memory=True,\n",
    "    num_workers=4,\n",
    "    collate_fn=partial(\n",
    "        collate_fn, tokenizer=tokenizer, le=le, max_length=model_hparams[\"max_length\"]\n",
    "    ),\n",
    ")\n",
    "\n",
    "device = torch.device(\"cuda\")\n",
    "\n",
    "model.to(device)\n",
    "model.eval()\n",
    "probs = []\n",
    "\n",
    "for batch_x, batch_y in tqdm(test_dataloader):\n",
    "    batch_x = {k: v.to(device) for k, v in batch_x.items()}\n",
    "    with torch.no_grad(), torch.cuda.amp.autocast():\n",
    "        outputs = model(batch_x)\n",
    "    probs.append(outputs.cpu())\n",
    "\n",
    "probs = np.concatenate(probs)\n",
    "predictions = probs.argmax(axis=-1)\n",
    "\n",
    "gt = le.transform(test_dataset.y)\n",
    "f1_micro = f1_score(gt, predictions, average=\"micro\")\n",
    "prec_macro, recall_macro, f1_macro, support = precision_recall_fscore_support(\n",
    "    gt,\n",
    "    predictions,\n",
    "    average=\"macro\",\n",
    "    zero_division=0,\n",
    ")\n",
    "prec_weighted, recall_weighted, f1_weighted, _ = precision_recall_fscore_support(\n",
    "    gt,\n",
    "    predictions,\n",
    "    average=\"weighted\",\n",
    "    zero_division=0,\n",
    ")\n",
    "prec, recall, f1, _ = precision_recall_fscore_support(\n",
    "    gt, predictions, average=None, zero_division=0\n",
    ")\n",
    "\n",
    "print(f\"f1        (micro): {f1_micro:.4f}\")\n",
    "print(f\"prec      (macro): {prec_macro:.4f}\")\n",
    "print(f\"recall    (macro): {recall_macro:.4f}\")\n",
    "print(f\"f1        (macro): {f1_macro:.4f}\")\n",
    "print(f\"prec   (weighted): {prec_weighted:.4f}\")\n",
    "print(f\"recall (weighted): {recall_weighted:.4f}\")\n",
    "print(f\"f1     (weighted): {f1_weighted:.4f}\")\n",
    "\n",
    "matrix = confusion_matrix(gt, predictions)\n",
    "\n",
    "data = {\n",
    "    \"intent\": le.classes_,\n",
    "    \"support\": matrix.sum(axis=-1),\n",
    "    \"# to tp\": np.diag(matrix),\n",
    "    \"# of predicted\": matrix.sum(axis=0),\n",
    "}\n",
    "\n",
    "df = pd.DataFrame(data)\n",
    "df.to_excel(\"outputs/predictions.xlsx\", index=False)"
   ]
  },
  {
   "cell_type": "code",
   "execution_count": 196,
   "id": "e419fdae-05b4-4a89-9a54-0b3c908c4e1f",
   "metadata": {},
   "outputs": [],
   "source": [
    "train_dataset = LotteQADataset(aug_filename=\"augmented.eda.v2.csv\")\n",
    "counter = Counter(le.transform(train_dataset.y))\n",
    "label, cnt = zip(*counter.items())\n",
    "label = np.array(label)\n",
    "cnt = np.array(cnt)\n",
    "idx = np.argsort(label)\n",
    "\n",
    "data = {\"intent\": le.classes_, \"# of samples\": cnt[idx]}\n",
    "df = pd.DataFrame(data)\n",
    "df.to_excel(\"outputs/cnt.xlsx\", index=False)"
   ]
  },
  {
   "cell_type": "markdown",
   "id": "3ee8487d-65cb-4895-8611-836c9d15297a",
   "metadata": {},
   "source": [
    "## Analysis Predictions"
   ]
  },
  {
   "cell_type": "code",
   "execution_count": 180,
   "id": "32dac133-50f4-41a6-8ee6-f91034a3edb4",
   "metadata": {
    "scrolled": true,
    "tags": []
   },
   "outputs": [
    {
     "data": {
      "text/html": [
       "<div>\n",
       "<style scoped>\n",
       "    .dataframe tbody tr th:only-of-type {\n",
       "        vertical-align: middle;\n",
       "    }\n",
       "\n",
       "    .dataframe tbody tr th {\n",
       "        vertical-align: top;\n",
       "    }\n",
       "\n",
       "    .dataframe thead th {\n",
       "        text-align: right;\n",
       "    }\n",
       "</style>\n",
       "<table border=\"1\" class=\"dataframe\">\n",
       "  <thead>\n",
       "    <tr style=\"text-align: right;\">\n",
       "      <th></th>\n",
       "      <th>intent</th>\n",
       "      <th># of predicted</th>\n",
       "    </tr>\n",
       "  </thead>\n",
       "  <tbody>\n",
       "    <tr>\n",
       "      <th>20</th>\n",
       "      <td>제품_정보</td>\n",
       "      <td>95</td>\n",
       "    </tr>\n",
       "    <tr>\n",
       "      <th>19</th>\n",
       "      <td>제품_재고</td>\n",
       "      <td>54</td>\n",
       "    </tr>\n",
       "    <tr>\n",
       "      <th>14</th>\n",
       "      <td>제품_방법</td>\n",
       "      <td>41</td>\n",
       "    </tr>\n",
       "    <tr>\n",
       "      <th>13</th>\n",
       "      <td>제품_구성</td>\n",
       "      <td>32</td>\n",
       "    </tr>\n",
       "    <tr>\n",
       "      <th>1</th>\n",
       "      <td>결제_일반</td>\n",
       "      <td>24</td>\n",
       "    </tr>\n",
       "    <tr>\n",
       "      <th>11</th>\n",
       "      <td>웹사이트_사용</td>\n",
       "      <td>14</td>\n",
       "    </tr>\n",
       "    <tr>\n",
       "      <th>9</th>\n",
       "      <td>배송_일반</td>\n",
       "      <td>9</td>\n",
       "    </tr>\n",
       "    <tr>\n",
       "      <th>22</th>\n",
       "      <td>제품_커스텀</td>\n",
       "      <td>7</td>\n",
       "    </tr>\n",
       "    <tr>\n",
       "      <th>18</th>\n",
       "      <td>제품_입고</td>\n",
       "      <td>7</td>\n",
       "    </tr>\n",
       "    <tr>\n",
       "      <th>21</th>\n",
       "      <td>제품_추천</td>\n",
       "      <td>5</td>\n",
       "    </tr>\n",
       "    <tr>\n",
       "      <th>15</th>\n",
       "      <td>제품_소재</td>\n",
       "      <td>4</td>\n",
       "    </tr>\n",
       "    <tr>\n",
       "      <th>27</th>\n",
       "      <td>행사_일반</td>\n",
       "      <td>4</td>\n",
       "    </tr>\n",
       "    <tr>\n",
       "      <th>17</th>\n",
       "      <td>제품_용도</td>\n",
       "      <td>3</td>\n",
       "    </tr>\n",
       "    <tr>\n",
       "      <th>5</th>\n",
       "      <td>매장_이용</td>\n",
       "      <td>3</td>\n",
       "    </tr>\n",
       "    <tr>\n",
       "      <th>4</th>\n",
       "      <td>구매_제품</td>\n",
       "      <td>3</td>\n",
       "    </tr>\n",
       "    <tr>\n",
       "      <th>23</th>\n",
       "      <td>제품_품질</td>\n",
       "      <td>3</td>\n",
       "    </tr>\n",
       "    <tr>\n",
       "      <th>0</th>\n",
       "      <td>AS_일반</td>\n",
       "      <td>3</td>\n",
       "    </tr>\n",
       "    <tr>\n",
       "      <th>8</th>\n",
       "      <td>배송_방법</td>\n",
       "      <td>2</td>\n",
       "    </tr>\n",
       "    <tr>\n",
       "      <th>2</th>\n",
       "      <td>교환|반품|환불_방법</td>\n",
       "      <td>2</td>\n",
       "    </tr>\n",
       "    <tr>\n",
       "      <th>25</th>\n",
       "      <td>포장_방식</td>\n",
       "      <td>2</td>\n",
       "    </tr>\n",
       "    <tr>\n",
       "      <th>12</th>\n",
       "      <td>웹사이트_오류</td>\n",
       "      <td>1</td>\n",
       "    </tr>\n",
       "    <tr>\n",
       "      <th>10</th>\n",
       "      <td>부가서비스_방법</td>\n",
       "      <td>1</td>\n",
       "    </tr>\n",
       "    <tr>\n",
       "      <th>7</th>\n",
       "      <td>배송_날짜</td>\n",
       "      <td>1</td>\n",
       "    </tr>\n",
       "    <tr>\n",
       "      <th>16</th>\n",
       "      <td>제품_시용</td>\n",
       "      <td>1</td>\n",
       "    </tr>\n",
       "    <tr>\n",
       "      <th>6</th>\n",
       "      <td>매장_정보</td>\n",
       "      <td>1</td>\n",
       "    </tr>\n",
       "    <tr>\n",
       "      <th>3</th>\n",
       "      <td>교환|반품|환불_일반</td>\n",
       "      <td>1</td>\n",
       "    </tr>\n",
       "    <tr>\n",
       "      <th>24</th>\n",
       "      <td>주문_제품</td>\n",
       "      <td>1</td>\n",
       "    </tr>\n",
       "    <tr>\n",
       "      <th>26</th>\n",
       "      <td>행사_기간</td>\n",
       "      <td>1</td>\n",
       "    </tr>\n",
       "  </tbody>\n",
       "</table>\n",
       "</div>"
      ],
      "text/plain": [
       "         intent  # of predicted\n",
       "20        제품_정보              95\n",
       "19        제품_재고              54\n",
       "14        제품_방법              41\n",
       "13        제품_구성              32\n",
       "1         결제_일반              24\n",
       "11      웹사이트_사용              14\n",
       "9         배송_일반               9\n",
       "22       제품_커스텀               7\n",
       "18        제품_입고               7\n",
       "21        제품_추천               5\n",
       "15        제품_소재               4\n",
       "27        행사_일반               4\n",
       "17        제품_용도               3\n",
       "5         매장_이용               3\n",
       "4         구매_제품               3\n",
       "23        제품_품질               3\n",
       "0         AS_일반               3\n",
       "8         배송_방법               2\n",
       "2   교환|반품|환불_방법               2\n",
       "25        포장_방식               2\n",
       "12      웹사이트_오류               1\n",
       "10     부가서비스_방법               1\n",
       "7         배송_날짜               1\n",
       "16        제품_시용               1\n",
       "6         매장_정보               1\n",
       "3   교환|반품|환불_일반               1\n",
       "24        주문_제품               1\n",
       "26        행사_기간               1"
      ]
     },
     "execution_count": 180,
     "metadata": {},
     "output_type": "execute_result"
    }
   ],
   "source": [
    "label_idx = le.transform([\"제품_일반\"])[0]\n",
    "predicted_label_idx = np.where(matrix[:, label_idx] != 0)[0]\n",
    "predicted_label_idx = predicted_label_idx[np.where(predicted_label_idx != label_idx)[0]]\n",
    "predicted = matrix[:, label_idx][predicted_label_idx]\n",
    "\n",
    "df = pd.DataFrame(\n",
    "    {\"intent\": le.classes_[predicted_label_idx], \"# of predicted\": predicted}\n",
    ")\n",
    "df.sort_values(by=\"# of predicted\", ascending=False)"
   ]
  },
  {
   "cell_type": "markdown",
   "id": "0225f29f-0900-4cd6-ae5e-d3ccd706ec9b",
   "metadata": {},
   "source": [
    "# Easy Data Augmentation"
   ]
  },
  {
   "cell_type": "code",
   "execution_count": 88,
   "id": "0f98efff-1b93-4c78-a35e-9936e3b72a55",
   "metadata": {},
   "outputs": [],
   "source": [
    "train_dataset = LotteQADataset()"
   ]
  },
  {
   "cell_type": "code",
   "execution_count": 193,
   "id": "1eccb8cb-62f7-488c-8a9c-0412e951be5c",
   "metadata": {},
   "outputs": [
    {
     "name": "stdout",
     "output_type": "stream",
     "text": [
      "Original text:\n",
      "그레이 커튼이 흰색이 아니고 회색이네요 잘못 건가요?\n",
      "\n",
      "Augmented text:\n",
      "그레이 커튼이 잘못 아니고 회색이네요 흰색이 건가요?\n",
      "그레이 아니고 잘못 건가요?\n"
     ]
    }
   ],
   "source": [
    "eda = EDA(num_aug=3, p_sr=0, p_ri=0, p_rd=0.5, p_rs=0.5)\n",
    "original = train_dataset[2][0]\n",
    "augmented = eda(original)\n",
    "\n",
    "print(\"Original text:\")\n",
    "print(original)\n",
    "print()\n",
    "print(\"Augmented text:\")\n",
    "print(\"\\n\".join(augmented))"
   ]
  },
  {
   "cell_type": "code",
   "execution_count": 194,
   "id": "ee7f1f79-a533-4184-89ba-10bb3a51ccd3",
   "metadata": {},
   "outputs": [
    {
     "data": {
      "application/vnd.jupyter.widget-view+json": {
       "model_id": "ee408ce4574549efb8e806085351068e",
       "version_major": 2,
       "version_minor": 0
      },
      "text/plain": [
       "  0%|          | 0/715049 [00:00<?, ?it/s]"
      ]
     },
     "metadata": {},
     "output_type": "display_data"
    }
   ],
   "source": [
    "eda = EDA(num_aug=3, p_sr=0, p_ri=0, p_rd=0.5, p_rs=0.5)\n",
    "train_dataset = LotteQADataset()\n",
    "augmented = []\n",
    "for text, label in tqdm(train_dataset):\n",
    "    aug = eda(text)\n",
    "    augmented.extend([(t, label) for t in aug])"
   ]
  },
  {
   "cell_type": "code",
   "execution_count": 195,
   "id": "85e9cf53-5e10-4fa4-adaa-ff98387af717",
   "metadata": {},
   "outputs": [],
   "source": [
    "text, labels = zip(*augmented)\n",
    "df = pd.DataFrame({\"발화문\": text, \"인텐트\": labels})\n",
    "df.to_csv('data/augmented.eda.v2.csv', index=False)"
   ]
  },
  {
   "cell_type": "code",
   "execution_count": 394,
   "id": "47818c06-f2a6-45b5-9846-b5c382251b0d",
   "metadata": {},
   "outputs": [
    {
     "data": {
      "application/vnd.jupyter.widget-view+json": {
       "model_id": "2075741a9c2c4d11ae4ac11123b30996",
       "version_major": 2,
       "version_minor": 0
      },
      "text/plain": [
       "  0%|          | 0/28087 [00:01<?, ?it/s]"
      ]
     },
     "metadata": {},
     "output_type": "display_data"
    },
    {
     "name": "stdout",
     "output_type": "stream",
     "text": [
      "f1 (micro): 0.7305\n",
      "f1 (macro): 0.5125\n"
     ]
    }
   ],
   "source": [
    "model.eval()\n",
    "predictions = []\n",
    "\n",
    "for batch_x, batch_y in tqdm(test_dataloader):\n",
    "    batch_x = {k: v.to(device) for k, v in batch_x.items()}\n",
    "    with torch.no_grad():\n",
    "        outputs = model(batch_x)\n",
    "    predictions.append(outputs.argmax(dim=-1).cpu())\n",
    "\n",
    "predictions = np.concatenate(predictions)\n",
    "\n",
    "le = get_label_encoder('./cache/label_encoder')\n",
    "gt = le.transform(test_dataset.y)\n",
    "f1_micro = f1_score(gt, predictions, average='micro')\n",
    "f1_macro = f1_score(gt, predictions, average='macro')\n",
    "f1 = f1_score(gt, predictions, average=None)\n",
    "\n",
    "print(f\"f1 (micro): {f1_micro:.4f}\")\n",
    "print(f\"f1 (macro): {f1_macro:.4f}\")"
   ]
  },
  {
   "cell_type": "code",
   "execution_count": 396,
   "id": "c8e4dc08-b82d-4dcd-aedd-9f1568160fea",
   "metadata": {},
   "outputs": [],
   "source": [
    "counter = Counter(gt)\n",
    "\n",
    "label, cnt = zip(*counter.items())\n",
    "label = np.array(label)\n",
    "cnt = np.array(cnt)\n",
    "idx = np.argsort(label)\n",
    "\n",
    "data = {\"intent\": le.classes_, \"f1\": f1, \"support\": cnt[idx]}\n",
    "df = pd.DataFrame(data)\n",
    "df.to_excel(\"predictions.xlsx\", index=False)"
   ]
  },
  {
   "cell_type": "markdown",
   "id": "9a82d44b-cc72-4624-927e-4b119c56465a",
   "metadata": {},
   "source": [
    "# Backtranslation"
   ]
  },
  {
   "cell_type": "code",
   "execution_count": 4,
   "id": "ceb50ce2-d40d-4202-8951-8333b6f3e13e",
   "metadata": {},
   "outputs": [],
   "source": [
    "device = torch.device(\"cuda\")\n",
    "\n",
    "def collate_fn_seq2seq(\n",
    "    batch: Iterable[Tuple[str, str]],\n",
    "    tokenizer: PreTrainedTokenizerBase,\n",
    ") -> Tuple[Dict[str, torch.Tensor]]:\n",
    "    x = [b[0] for b in batch]\n",
    "    inputs = tokenizer(x, padding=True, return_tensors=\"pt\")\n",
    "    return inputs"
   ]
  },
  {
   "cell_type": "code",
   "execution_count": 3,
   "id": "ae38b996-4ccf-497f-89ed-bb4665f52d56",
   "metadata": {
    "scrolled": true,
    "tags": []
   },
   "outputs": [],
   "source": [
    "src_model_name = \"Helsinki-NLP/opus-mt-ko-en\"\n",
    "src_tokenizer = AutoTokenizer.from_pretrained(src_model_name)\n",
    "src_model = MarianMTModel.from_pretrained(src_model_name)\n",
    "_ = src_model.to(device)"
   ]
  },
  {
   "cell_type": "code",
   "execution_count": 310,
   "id": "670df08f-b35a-4064-8030-67eac9c8371c",
   "metadata": {
    "scrolled": true,
    "tags": []
   },
   "outputs": [
    {
     "name": "stderr",
     "output_type": "stream",
     "text": [
      "loading configuration file ../Opus-MT/models/en-ko-2/config.json\n",
      "Model config MarianConfig {\n",
      "  \"_name_or_path\": \"../Opus-MT/models/en-ko-2\",\n",
      "  \"activation_dropout\": 0.0,\n",
      "  \"activation_function\": \"relu\",\n",
      "  \"architectures\": [\n",
      "    \"MarianMTModel\"\n",
      "  ],\n",
      "  \"attention_dropout\": 0.0,\n",
      "  \"bad_words_ids\": [\n",
      "    [\n",
      "      32000\n",
      "    ]\n",
      "  ],\n",
      "  \"bos_token_id\": 0,\n",
      "  \"classifier_dropout\": 0.0,\n",
      "  \"d_model\": 1024,\n",
      "  \"decoder_attention_heads\": 16,\n",
      "  \"decoder_ffn_dim\": 4096,\n",
      "  \"decoder_layerdrop\": 0.0,\n",
      "  \"decoder_layers\": 6,\n",
      "  \"decoder_start_token_id\": 32000,\n",
      "  \"decoder_vocab_size\": 32001,\n",
      "  \"dropout\": 0.1,\n",
      "  \"encoder_attention_heads\": 16,\n",
      "  \"encoder_ffn_dim\": 4096,\n",
      "  \"encoder_layerdrop\": 0.0,\n",
      "  \"encoder_layers\": 6,\n",
      "  \"eos_token_id\": 2,\n",
      "  \"forced_eos_token_id\": 2,\n",
      "  \"init_std\": 0.02,\n",
      "  \"is_encoder_decoder\": true,\n",
      "  \"max_length\": 512,\n",
      "  \"max_position_embeddings\": 1024,\n",
      "  \"model_type\": \"marian\",\n",
      "  \"normalize_embedding\": false,\n",
      "  \"num_beams\": 4,\n",
      "  \"num_hidden_layers\": 6,\n",
      "  \"pad_token_id\": 32000,\n",
      "  \"scale_embedding\": true,\n",
      "  \"share_encoder_decoder_embeddings\": true,\n",
      "  \"static_position_embeddings\": true,\n",
      "  \"torch_dtype\": \"float16\",\n",
      "  \"transformers_version\": \"4.20.1\",\n",
      "  \"use_cache\": true,\n",
      "  \"vocab_size\": 32001\n",
      "}\n",
      "\n",
      "Didn't find file ../Opus-MT/models/en-ko-2/added_tokens.json. We won't load it.\n",
      "Didn't find file ../Opus-MT/models/en-ko-2/special_tokens_map.json. We won't load it.\n",
      "loading file ../Opus-MT/models/en-ko-2/source.spm\n",
      "loading file ../Opus-MT/models/en-ko-2/target.spm\n",
      "loading file ../Opus-MT/models/en-ko-2/vocab.json\n",
      "loading file ../Opus-MT/models/en-ko-2/target_vocab.json\n",
      "loading file ../Opus-MT/models/en-ko-2/tokenizer_config.json\n",
      "loading file None\n",
      "loading file None\n",
      "loading configuration file ../Opus-MT/models/en-ko-2/config.json\n",
      "Model config MarianConfig {\n",
      "  \"_name_or_path\": \"../Opus-MT/models/en-ko-2\",\n",
      "  \"activation_dropout\": 0.0,\n",
      "  \"activation_function\": \"relu\",\n",
      "  \"architectures\": [\n",
      "    \"MarianMTModel\"\n",
      "  ],\n",
      "  \"attention_dropout\": 0.0,\n",
      "  \"bad_words_ids\": [\n",
      "    [\n",
      "      32000\n",
      "    ]\n",
      "  ],\n",
      "  \"bos_token_id\": 0,\n",
      "  \"classifier_dropout\": 0.0,\n",
      "  \"d_model\": 1024,\n",
      "  \"decoder_attention_heads\": 16,\n",
      "  \"decoder_ffn_dim\": 4096,\n",
      "  \"decoder_layerdrop\": 0.0,\n",
      "  \"decoder_layers\": 6,\n",
      "  \"decoder_start_token_id\": 32000,\n",
      "  \"decoder_vocab_size\": 32001,\n",
      "  \"dropout\": 0.1,\n",
      "  \"encoder_attention_heads\": 16,\n",
      "  \"encoder_ffn_dim\": 4096,\n",
      "  \"encoder_layerdrop\": 0.0,\n",
      "  \"encoder_layers\": 6,\n",
      "  \"eos_token_id\": 2,\n",
      "  \"forced_eos_token_id\": 2,\n",
      "  \"init_std\": 0.02,\n",
      "  \"is_encoder_decoder\": true,\n",
      "  \"max_length\": 512,\n",
      "  \"max_position_embeddings\": 1024,\n",
      "  \"model_type\": \"marian\",\n",
      "  \"normalize_embedding\": false,\n",
      "  \"num_beams\": 4,\n",
      "  \"num_hidden_layers\": 6,\n",
      "  \"pad_token_id\": 32000,\n",
      "  \"scale_embedding\": true,\n",
      "  \"share_encoder_decoder_embeddings\": true,\n",
      "  \"static_position_embeddings\": true,\n",
      "  \"torch_dtype\": \"float16\",\n",
      "  \"transformers_version\": \"4.20.1\",\n",
      "  \"use_cache\": true,\n",
      "  \"vocab_size\": 32001\n",
      "}\n",
      "\n",
      "loading configuration file https://huggingface.co/Helsinki-NLP/opus-mt-tc-big-en-ko/resolve/main/config.json from cache at /home/jovyan/.cache/huggingface/transformers/80ab0a4c982950d12ee751214cc64a6550396fbab5d0514f74a18fe6cf7cf67b.bf4a834e1fd3d3bebc10ac998d378814df14bb56bf3a59a0e4a7be1c86d039bb\n",
      "Model config MarianConfig {\n",
      "  \"_name_or_path\": \"/tmp/Helsinki-NLP/opus-mt-tc-big-en-ko\",\n",
      "  \"activation_dropout\": 0.0,\n",
      "  \"activation_function\": \"relu\",\n",
      "  \"architectures\": [\n",
      "    \"MarianMTModel\"\n",
      "  ],\n",
      "  \"attention_dropout\": 0.0,\n",
      "  \"bad_words_ids\": [\n",
      "    [\n",
      "      32000\n",
      "    ]\n",
      "  ],\n",
      "  \"bos_token_id\": 0,\n",
      "  \"classifier_dropout\": 0.0,\n",
      "  \"d_model\": 1024,\n",
      "  \"decoder_attention_heads\": 16,\n",
      "  \"decoder_ffn_dim\": 4096,\n",
      "  \"decoder_layerdrop\": 0.0,\n",
      "  \"decoder_layers\": 6,\n",
      "  \"decoder_start_token_id\": 32000,\n",
      "  \"decoder_vocab_size\": 32001,\n",
      "  \"dropout\": 0.1,\n",
      "  \"encoder_attention_heads\": 16,\n",
      "  \"encoder_ffn_dim\": 4096,\n",
      "  \"encoder_layerdrop\": 0.0,\n",
      "  \"encoder_layers\": 6,\n",
      "  \"eos_token_id\": 2,\n",
      "  \"forced_eos_token_id\": 2,\n",
      "  \"init_std\": 0.02,\n",
      "  \"is_encoder_decoder\": true,\n",
      "  \"max_length\": 512,\n",
      "  \"max_position_embeddings\": 1024,\n",
      "  \"model_type\": \"marian\",\n",
      "  \"normalize_embedding\": false,\n",
      "  \"num_beams\": 4,\n",
      "  \"num_hidden_layers\": 6,\n",
      "  \"pad_token_id\": 32000,\n",
      "  \"scale_embedding\": true,\n",
      "  \"share_encoder_decoder_embeddings\": true,\n",
      "  \"static_position_embeddings\": true,\n",
      "  \"torch_dtype\": \"float16\",\n",
      "  \"transformers_version\": \"4.20.1\",\n",
      "  \"use_cache\": true,\n",
      "  \"vocab_size\": 32001\n",
      "}\n",
      "\n",
      "loading weights file https://huggingface.co/Helsinki-NLP/opus-mt-tc-big-en-ko/resolve/main/pytorch_model.bin from cache at /home/jovyan/.cache/huggingface/transformers/0753c359bc3b0d01e44b0713df5f94a2946f2aecb10fbd4d9cae4acd09714c6e.90f60e70f4f77ffb0ec2aa4c50261a3defc7210749194f305ed1aa23dac90c8d\n",
      "All model checkpoint weights were used when initializing MarianMTModel.\n",
      "\n",
      "All the weights of MarianMTModel were initialized from the model checkpoint at Helsinki-NLP/opus-mt-tc-big-en-ko.\n",
      "If your task is similar to the task the model of the checkpoint was trained on, you can already use MarianMTModel for predictions without further training.\n"
     ]
    }
   ],
   "source": [
    "tgt_model_name = \"Helsinki-NLP/opus-mt-tc-big-en-ko\"\n",
    "tgt_tokenizer = AutoTokenizer.from_pretrained(\"../Opus-MT/models/en-ko-2\")\n",
    "tgt_model = MarianMTModel.from_pretrained(tgt_model_name)\n",
    "_ = tgt_model.to(device)"
   ]
  },
  {
   "cell_type": "code",
   "execution_count": 313,
   "id": "e28c50cd-3854-4805-bd41-9433da90941c",
   "metadata": {},
   "outputs": [],
   "source": [
    "train_dataset = LotteQADataset()\n",
    "train_dataloader = DataLoader(\n",
    "    train_dataset,\n",
    "    batch_size=32,\n",
    "    collate_fn=partial(collate_fn_seq2seq, tokenizer=src_tokenizer),\n",
    "    pin_memory=True,\n",
    "    num_workers=6,\n",
    ")"
   ]
  },
  {
   "cell_type": "code",
   "execution_count": null,
   "id": "76201a69-f165-484a-b331-faa0ac21d256",
   "metadata": {},
   "outputs": [],
   "source": [
    "src_translated = []\n",
    "\n",
    "src_model.eval()\n",
    "\n",
    "for batch_x in tqdm(train_dataloader):\n",
    "    batch_x = {k: v.to(device) for k, v in batch_x.items()}\n",
    "    with torch.no_grad():\n",
    "        encoded = src_model.generate(**batch_x)\n",
    "    with src_tokenizer.as_target_tokenizer():\n",
    "        src_translated.append(\n",
    "            src_tokenizer.batch_decode(encoded.cpu(), skip_special_tokens=True)\n",
    "        )"
   ]
  },
  {
   "cell_type": "code",
   "execution_count": 101,
   "id": "5dbfba0c-7b5f-48de-b823-eab3bb190ebb",
   "metadata": {},
   "outputs": [
    {
     "data": {
      "text/plain": [
       "['높이 길이를 좀 더 길게 해주실 수 있나요?',\n",
       " '그레이 커튼을 배송받았는데요레이스 커튼이 흰색이 아니고 회색이네요 잘못 온 건가요?',\n",
       " '거실 총길이가 가로 480세로 230인데 어떤 걸로 신청해야 하나요?',\n",
       " '레이스 커튼만 개별 구매 안 될까요?',\n",
       " '화이트 구입 시 봉색이 화이트로 오나요?',\n",
       " '화이트 구매 안 되나요?',\n",
       " '주문 가능할까요?',\n",
       " '똑같은 회사에 똑같은 상품인데 2만원 더 비싼데 혹시 상품 이 틀리나요?',\n",
       " '사이즈를 몇으로 사야 하나요?',\n",
       " '검수 잘해서 배송 부탁드립니다 그리고 배송 날짜가 좀 늦게 뜨는 데 이번 주에 받을 수 있을까요?',\n",
       " '대형 사려고 하는데 커튼봉을 시중에 파는 3.5미리로 바꾸어도 커튼 구멍에 맞을까요?',\n",
       " '화이트는 언제 입고되나요?',\n",
       " '냄새가 많이 나는데 세탁을 하고 사용해야 하나요?',\n",
       " '핀 형도 가능한가요?',\n",
       " '겨울 방풍 효과도 있나요?',\n",
       " '길이 250으로는 안 되나요?',\n",
       " '로제2와 로즈마리의 차이점은 뭔가요?',\n",
       " '가로490문의요 중형 2개를 사면 커텐봉을 하나로 연결할 수 있나요?',\n",
       " '베이지 주문했는데 타이백은 어떤 색 그리고 어떤 게오나요?',\n",
       " '가로길이가 340인데 사이즈뭘로 해야 되나요?']"
      ]
     },
     "execution_count": 101,
     "metadata": {},
     "output_type": "execute_result"
    }
   ],
   "source": [
    "texts = train_dataset.x[:20].tolist()\n",
    "texts"
   ]
  },
  {
   "cell_type": "code",
   "execution_count": 103,
   "id": "1ab74f05-ce65-4729-ac23-30b62ea17e36",
   "metadata": {},
   "outputs": [
    {
     "data": {
      "text/plain": [
       "['Can you give me a little longer?',\n",
       " \"The lace curtains are not white, they're gray.\",\n",
       " 'The total length of the living room is 480 years and 230, what should I apply for?',\n",
       " \"Can't we just buy a lace curtain?\",\n",
       " 'When you buy white, does the bag come to white?',\n",
       " \"Can't we buy a white one?\",\n",
       " 'Can you order it?',\n",
       " \"It's the same company and it's worth 20 bucks more, but is it wrong?\",\n",
       " 'What size do I have to buy?',\n",
       " \"I'd like you to take care of it, and do you mind if I take it this week when the delivery date's up a little late?\",\n",
       " \"I'm trying to buy a big one, but will I fit the curtain hole in a three-and-a-half-a-half-year-old market with a curtain bar?\",\n",
       " 'When are you wearing white?',\n",
       " 'You smell a lot, so should I wash it and use it?',\n",
       " 'Is Finn available, too?',\n",
       " 'Is there a winter wind effect?',\n",
       " 'Is it 250 feet long?',\n",
       " \"What's the difference between Roger II and Rosemary?\",\n",
       " '490 across. If you buy two mediums, can you connect them together?',\n",
       " \"I ordered a bag of beige. What's the color and what's the thing?\",\n",
       " \"It's 340 widths, so what's the size of it?\"]"
      ]
     },
     "execution_count": 103,
     "metadata": {},
     "output_type": "execute_result"
    }
   ],
   "source": [
    "encoded = src_tokenizer(texts, padding=True, return_tensors='pt')\n",
    "translated = src_model.generate(**encoded)\n",
    "src_text = src_tokenizer.batch_decode(translated, skip_special_tokens=True)\n",
    "src_text"
   ]
  },
  {
   "cell_type": "code",
   "execution_count": 297,
   "id": "56397b9b-ad50-49dd-9638-1e2fed1e1f69",
   "metadata": {},
   "outputs": [
    {
     "data": {
      "text/plain": [
       "['조금만 더 기다려 주시겠어요?',\n",
       " '레이스 커튼은 흰색이 아니라 회색입니다.',\n",
       " '거실의 총 길이는 480 년과 230 년이며, 무엇을 신청해야합니까?',\n",
       " '그냥 커튼 하나 사면 안 돼?',\n",
       " '흰색을 구입하면 가방이 흰색으로 나오나요?',\n",
       " '흰색 하나 사면 안 돼?',\n",
       " '당신은 그것을 주문할 수 있습니까?',\n",
       " '같은 회사이고 20 달러 더 가치가 있지만 잘못 되었습니까?',\n",
       " '어떤 사이즈를 구매해야 하나요?',\n",
       " '난 당신이 그것을 처리 하 고 싶습니다., 배달 날짜가 조금 늦게 이번 주에 그것을 받아도 될까요?',\n",
       " '나는 큰 것을 사려고 노력하고있다. 그러나 나는 커튼 막대가있는 3 년 반의 시장에 커튼 구멍을 넣을 것인가?',\n",
       " '흰색은 언제 입고되나요?',\n",
       " '냄새를 많이 맡으셨는데, 씻어서 사용해도 되나요?',\n",
       " '핀도 사용할 수 있습니까?',\n",
       " '겨울 바람의 영향이 있습니까?',\n",
       " '길이가 250 피트입니까?',\n",
       " 'Roger II와 Rosemary의 차이점은 무엇입니까?',\n",
       " '490 가로로. 두 개의 매체를 구입하면 함께 연결할 수 있습니까?',\n",
       " '베이지색 가방을 주문했는데 무슨 색이고 무슨 일이에요?',\n",
       " '폭이 340개인데 크기가 어떻게 되나요?']"
      ]
     },
     "execution_count": 297,
     "metadata": {},
     "output_type": "execute_result"
    }
   ],
   "source": [
    "encoded = target_tokenizer(src_text, padding=True, return_tensors=\"pt\")\n",
    "translated = target_model.generate(**encoded)\n",
    "with target_tokenizer.as_target_tokenizer():\n",
    "    tgt_text = target_tokenizer.batch_decode(translated, skip_special_tokens=True)\n",
    "tgt_text"
   ]
  },
  {
   "cell_type": "markdown",
   "id": "59f92698-25de-40e9-a6d0-58320a4c278b",
   "metadata": {},
   "source": [
    "---"
   ]
  },
  {
   "cell_type": "code",
   "execution_count": 31,
   "id": "a3a5870d-4b03-47c7-9a2c-414214b8aed8",
   "metadata": {},
   "outputs": [],
   "source": [
    "src_translated = joblib.load(\"./outputs/backtranslation/src_translated.joblib\")\n",
    "tgt_translated = joblib.load(\"./outputs/backtranslation/tgt_translated.joblib\")"
   ]
  },
  {
   "cell_type": "code",
   "execution_count": 23,
   "id": "e215e95c-c0a2-48b2-9f99-f1b5976dc167",
   "metadata": {},
   "outputs": [],
   "source": [
    "train_dataset = LotteQADataset()"
   ]
  },
  {
   "cell_type": "code",
   "execution_count": 60,
   "id": "4c102137-f109-4135-8b95-f23f34c6e745",
   "metadata": {
    "scrolled": true,
    "tags": []
   },
   "outputs": [
    {
     "data": {
      "text/html": [
       "<div>\n",
       "<style scoped>\n",
       "    .dataframe tbody tr th:only-of-type {\n",
       "        vertical-align: middle;\n",
       "    }\n",
       "\n",
       "    .dataframe tbody tr th {\n",
       "        vertical-align: top;\n",
       "    }\n",
       "\n",
       "    .dataframe thead th {\n",
       "        text-align: right;\n",
       "    }\n",
       "</style>\n",
       "<table border=\"1\" class=\"dataframe\">\n",
       "  <thead>\n",
       "    <tr style=\"text-align: right;\">\n",
       "      <th></th>\n",
       "      <th>ko</th>\n",
       "      <th>en</th>\n",
       "      <th>ko (back)</th>\n",
       "      <th>intent</th>\n",
       "    </tr>\n",
       "  </thead>\n",
       "  <tbody>\n",
       "    <tr>\n",
       "      <th>0</th>\n",
       "      <td>높이 길이를 좀 더 길게 해주실 수 있나요?</td>\n",
       "      <td>Can you give me a little longer?</td>\n",
       "      <td>조금만 더 기다려 주시겠어요?</td>\n",
       "      <td>제품_정보</td>\n",
       "    </tr>\n",
       "    <tr>\n",
       "      <th>1</th>\n",
       "      <td>그레이 커튼을 배송받았는데요레이스 커튼이 흰색이 아니고 회색이네요 잘못 온 건가요?</td>\n",
       "      <td>The lace curtains are not white, they're gray.</td>\n",
       "      <td>레이스 커튼은 흰색이 아니라 회색입니다.</td>\n",
       "      <td>배송_오류</td>\n",
       "    </tr>\n",
       "    <tr>\n",
       "      <th>2</th>\n",
       "      <td>거실 총길이가 가로 480세로 230인데 어떤 걸로 신청해야 하나요?</td>\n",
       "      <td>The total length of the living room is 480 yea...</td>\n",
       "      <td>거실의 총 길이는 480 년과 230 년이며, 무엇을 신청해야합니까?</td>\n",
       "      <td>제품_정보</td>\n",
       "    </tr>\n",
       "    <tr>\n",
       "      <th>3</th>\n",
       "      <td>레이스 커튼만 개별 구매 안 될까요?</td>\n",
       "      <td>Can't we just buy a lace curtain?</td>\n",
       "      <td>그냥 커튼 하나 사면 안 돼?</td>\n",
       "      <td>구매_제품</td>\n",
       "    </tr>\n",
       "    <tr>\n",
       "      <th>4</th>\n",
       "      <td>화이트 구입 시 봉색이 화이트로 오나요?</td>\n",
       "      <td>When you buy white, does the bag come to white?</td>\n",
       "      <td>흰색을 구입하면 가방이 흰색으로 나오나요?</td>\n",
       "      <td>제품_구성</td>\n",
       "    </tr>\n",
       "    <tr>\n",
       "      <th>...</th>\n",
       "      <td>...</td>\n",
       "      <td>...</td>\n",
       "      <td>...</td>\n",
       "      <td>...</td>\n",
       "    </tr>\n",
       "    <tr>\n",
       "      <th>715044</th>\n",
       "      <td>일반 간이영수증에 찍으려고 하는데 사이즈 뭐로 해야 하나요?</td>\n",
       "      <td>I'm trying to get a normal liver receipt, but ...</td>\n",
       "      <td>나는 정상적인 간 영수증을 얻으려고 노력하고 있지만 그 크기는 얼마입니까?</td>\n",
       "      <td>제품_추천</td>\n",
       "    </tr>\n",
       "    <tr>\n",
       "      <th>715045</th>\n",
       "      <td>oo o+전서체로 이쁘게 해서 보내주세요 그리고 언제쯤 받아볼 수 있나요?</td>\n",
       "      <td>Send it to me with your oo-o+ telegraph, and w...</td>\n",
       "      <td>Oo-o+ 전신으로 나에게 보내면 언제 얻을 수 있습니까?</td>\n",
       "      <td>배송_날짜</td>\n",
       "    </tr>\n",
       "    <tr>\n",
       "      <th>715046</th>\n",
       "      <td>입력 내용 다시 입력해야 되나요?</td>\n",
       "      <td>Do I have to re-enter the input?</td>\n",
       "      <td>입력을 다시 입력해야 하나요?</td>\n",
       "      <td>제품_일반</td>\n",
       "    </tr>\n",
       "    <tr>\n",
       "      <th>715047</th>\n",
       "      <td>지금 주문하면 언제 보내주세요?</td>\n",
       "      <td>If you order now, when will you let me go?</td>\n",
       "      <td>지금 주문하면 언제 날 보내줄 거야?</td>\n",
       "      <td>배송_날짜</td>\n",
       "    </tr>\n",
       "    <tr>\n",
       "      <th>715048</th>\n",
       "      <td>816번 언제품절 풀릴까요?</td>\n",
       "      <td>When will 816 be free?</td>\n",
       "      <td>816 언제 배송되나요?</td>\n",
       "      <td>제품_입고</td>\n",
       "    </tr>\n",
       "  </tbody>\n",
       "</table>\n",
       "<p>715049 rows × 4 columns</p>\n",
       "</div>"
      ],
      "text/plain": [
       "                                                    ko  \\\n",
       "0                             높이 길이를 좀 더 길게 해주실 수 있나요?   \n",
       "1       그레이 커튼을 배송받았는데요레이스 커튼이 흰색이 아니고 회색이네요 잘못 온 건가요?   \n",
       "2               거실 총길이가 가로 480세로 230인데 어떤 걸로 신청해야 하나요?   \n",
       "3                                 레이스 커튼만 개별 구매 안 될까요?   \n",
       "4                               화이트 구입 시 봉색이 화이트로 오나요?   \n",
       "...                                                ...   \n",
       "715044               일반 간이영수증에 찍으려고 하는데 사이즈 뭐로 해야 하나요?   \n",
       "715045       oo o+전서체로 이쁘게 해서 보내주세요 그리고 언제쯤 받아볼 수 있나요?   \n",
       "715046                              입력 내용 다시 입력해야 되나요?   \n",
       "715047                               지금 주문하면 언제 보내주세요?   \n",
       "715048                                 816번 언제품절 풀릴까요?   \n",
       "\n",
       "                                                       en  \\\n",
       "0                        Can you give me a little longer?   \n",
       "1          The lace curtains are not white, they're gray.   \n",
       "2       The total length of the living room is 480 yea...   \n",
       "3                       Can't we just buy a lace curtain?   \n",
       "4         When you buy white, does the bag come to white?   \n",
       "...                                                   ...   \n",
       "715044  I'm trying to get a normal liver receipt, but ...   \n",
       "715045  Send it to me with your oo-o+ telegraph, and w...   \n",
       "715046                   Do I have to re-enter the input?   \n",
       "715047         If you order now, when will you let me go?   \n",
       "715048                             When will 816 be free?   \n",
       "\n",
       "                                        ko (back) intent  \n",
       "0                                조금만 더 기다려 주시겠어요?  제품_정보  \n",
       "1                          레이스 커튼은 흰색이 아니라 회색입니다.  배송_오류  \n",
       "2          거실의 총 길이는 480 년과 230 년이며, 무엇을 신청해야합니까?  제품_정보  \n",
       "3                                그냥 커튼 하나 사면 안 돼?  구매_제품  \n",
       "4                         흰색을 구입하면 가방이 흰색으로 나오나요?  제품_구성  \n",
       "...                                           ...    ...  \n",
       "715044  나는 정상적인 간 영수증을 얻으려고 노력하고 있지만 그 크기는 얼마입니까?  제품_추천  \n",
       "715045           Oo-o+ 전신으로 나에게 보내면 언제 얻을 수 있습니까?  배송_날짜  \n",
       "715046                           입력을 다시 입력해야 하나요?  제품_일반  \n",
       "715047                       지금 주문하면 언제 날 보내줄 거야?  배송_날짜  \n",
       "715048                              816 언제 배송되나요?  제품_입고  \n",
       "\n",
       "[715049 rows x 4 columns]"
      ]
     },
     "execution_count": 60,
     "metadata": {},
     "output_type": "execute_result"
    }
   ],
   "source": [
    "df = pd.DataFrame(\n",
    "    data={\n",
    "        \"ko\": train_dataset.x,\n",
    "        \"en\": src_translated,\n",
    "        \"ko (back)\": tgt_translated,\n",
    "        \"intent\": train_dataset.y,\n",
    "    }\n",
    ")\n",
    "\n",
    "df"
   ]
  },
  {
   "cell_type": "code",
   "execution_count": 65,
   "id": "764c7829-2387-4aac-9bb3-4f8e0e43d31d",
   "metadata": {},
   "outputs": [
    {
     "data": {
      "text/html": [
       "<div>\n",
       "<style scoped>\n",
       "    .dataframe tbody tr th:only-of-type {\n",
       "        vertical-align: middle;\n",
       "    }\n",
       "\n",
       "    .dataframe tbody tr th {\n",
       "        vertical-align: top;\n",
       "    }\n",
       "\n",
       "    .dataframe thead th {\n",
       "        text-align: right;\n",
       "    }\n",
       "</style>\n",
       "<table border=\"1\" class=\"dataframe\">\n",
       "  <thead>\n",
       "    <tr style=\"text-align: right;\">\n",
       "      <th></th>\n",
       "      <th>ko</th>\n",
       "      <th>en</th>\n",
       "      <th>ko (back)</th>\n",
       "      <th>intent</th>\n",
       "    </tr>\n",
       "  </thead>\n",
       "  <tbody>\n",
       "  </tbody>\n",
       "</table>\n",
       "</div>"
      ],
      "text/plain": [
       "Empty DataFrame\n",
       "Columns: [ko, en, ko (back), intent]\n",
       "Index: []"
      ]
     },
     "execution_count": 65,
     "metadata": {},
     "output_type": "execute_result"
    }
   ],
   "source": [
    "df[df['en'].isnull()]"
   ]
  },
  {
   "cell_type": "code",
   "execution_count": 36,
   "id": "b77c5051-15d6-44d2-921c-4e56dbe57718",
   "metadata": {},
   "outputs": [],
   "source": [
    "x = np.concatenate([train_dataset.x, tgt_translated])"
   ]
  },
  {
   "cell_type": "code",
   "execution_count": 43,
   "id": "c1e0e59e-d5af-4874-afd3-ffa4685d63fa",
   "metadata": {},
   "outputs": [],
   "source": [
    "y = np.concatenate([train_dataset.y, train_dataset.y])"
   ]
  },
  {
   "cell_type": "code",
   "execution_count": 46,
   "id": "67520ea4-0a41-4396-a68e-25809dacb7e0",
   "metadata": {},
   "outputs": [],
   "source": [
    "idx = np.arange(len(x))\n",
    "np.random.shuffle(idx)"
   ]
  },
  {
   "cell_type": "code",
   "execution_count": 47,
   "id": "121d3fdf-9d5c-431d-8166-6de24a1184d4",
   "metadata": {},
   "outputs": [
    {
     "data": {
      "text/plain": [
       "array([ 857385, 1027034,  692522, ...,  585390,  448823,   80854])"
      ]
     },
     "execution_count": 47,
     "metadata": {},
     "output_type": "execute_result"
    }
   ],
   "source": [
    "idx"
   ]
  },
  {
   "cell_type": "code",
   "execution_count": 48,
   "id": "f5da21b3-798b-4de4-80ef-03489f96c955",
   "metadata": {},
   "outputs": [],
   "source": [
    "x = x[idx]\n",
    "y = y[idx]"
   ]
  },
  {
   "cell_type": "code",
   "execution_count": 85,
   "id": "5bab7e54-b908-4291-a069-f163d8656af4",
   "metadata": {},
   "outputs": [],
   "source": [
    "df = pd.DataFrame(data={\"발화문\": x, \"인텐트\": y})"
   ]
  },
  {
   "cell_type": "code",
   "execution_count": 94,
   "id": "9de211e2-caf1-4ecd-af9d-8c0fa66cd065",
   "metadata": {},
   "outputs": [],
   "source": [
    "df.to_csv(\"data/augmented.backtranslation.v1.csv\", index=False)"
   ]
  },
  {
   "cell_type": "markdown",
   "id": "b8000bcb-b823-481c-b777-b0e3a0795f87",
   "metadata": {},
   "source": [
    "# M2m"
   ]
  },
  {
   "cell_type": "code",
   "execution_count": 23,
   "id": "35ebf679-3f18-4279-be30-5a9763bf77bb",
   "metadata": {},
   "outputs": [],
   "source": [
    "train_dataset = LotteQADataset()\n",
    "le = get_label_encoder(\"cache/label_encoder.joblib\")\n",
    "y = le.transform(train_dataset.y)"
   ]
  },
  {
   "cell_type": "code",
   "execution_count": 24,
   "id": "51d51db6-c152-473d-9b9a-2a74c464dac4",
   "metadata": {},
   "outputs": [],
   "source": [
    "counter = Counter(y)\n",
    "idx, n_samples = zip(*counter.items())\n",
    "idx = np.array(idx)\n",
    "n_samples = np.array(n_samples)\n",
    "n_samples = n_samples[np.argsort(idx)]\n",
    "n_samples = torch.from_numpy(n_samples)"
   ]
  },
  {
   "cell_type": "code",
   "execution_count": 57,
   "id": "76e190d0-f3f5-4504-96e2-27ce899433aa",
   "metadata": {},
   "outputs": [
    {
     "data": {
      "text/plain": [
       "tensor([   500,   1858,   1371,    827,   4003,    313,    155,    454,    202,\n",
       "           255,   6047,    177,    898,   1804,   1223,   5446,   2915,   4971,\n",
       "         11123,    141,    556,   3415,   1276,    795,    181,     64,    161,\n",
       "        153516,   5287,  12500,  13651,  12422,   2845,   2485,    570,   1419,\n",
       "           633,   2727,    379,   6373,  46528,   2799,  42915,  15572,   7786,\n",
       "          2531,  10440,   2880,  33130,  34191,  12886, 124759,  39719,   1224,\n",
       "         14910,  33519,    132,    106,    429,    103,   1664,    125,    849,\n",
       "          5508,    496,   2860,   7676,   3374])"
      ]
     },
     "execution_count": 57,
     "metadata": {},
     "output_type": "execute_result"
    }
   ],
   "source": [
    "n_samples"
   ]
  },
  {
   "cell_type": "code",
   "execution_count": 56,
   "id": "386c2b1a-72ae-47f9-ab7b-12649a91d60b",
   "metadata": {},
   "outputs": [
    {
     "data": {
      "text/plain": [
       "tensor([0., 0., 0., 1., 1., 1., 0., 0., 1., 1., 1., 1., 1., 1., 1., 0., 1., 1.,\n",
       "        1., 1., 1., 1., 1., 1., 1., 1., 1., 1., 1., 1., 1., 1., 1., 1., 1., 1.,\n",
       "        1., 1., 1., 1., 1., 0., 1., 1., 1., 1., 1., 1., 1., 0., 1., 1., 1., 1.,\n",
       "        1., 1., 1., 1., 1., 1., 1., 1., 1., 1., 1., 1., 1., 1.])"
      ]
     },
     "execution_count": 56,
     "metadata": {},
     "output_type": "execute_result"
    }
   ],
   "source": [
    "torch.bernoulli(n_samples[n_samples.argsort(descending=True)] / n_samples.max())"
   ]
  },
  {
   "cell_type": "code",
   "execution_count": 113,
   "id": "2b92ba3c-886f-4331-9a48-f735970f906f",
   "metadata": {},
   "outputs": [],
   "source": [
    "y_sample = torch.from_numpy(y[:32])"
   ]
  },
  {
   "cell_type": "markdown",
   "id": "f6a08d62-f4a5-4560-bc25-6e27964ffdae",
   "metadata": {},
   "source": [
    "# Label Distribution"
   ]
  },
  {
   "cell_type": "markdown",
   "id": "c6fbd609-47a9-4183-932f-b252c5001a51",
   "metadata": {},
   "source": [
    "## Original Dataset"
   ]
  },
  {
   "cell_type": "code",
   "execution_count": 419,
   "id": "3db441d4-15bd-487f-a7c6-fc0d6651dd93",
   "metadata": {},
   "outputs": [
    {
     "data": {
      "text/plain": [
       "<AxesSubplot:>"
      ]
     },
     "execution_count": 419,
     "metadata": {},
     "output_type": "execute_result"
    },
    {
     "data": {
      "image/png": "[encoded data removed]",
      "text/plain": [
       "<Figure size 1152x576 with 1 Axes>"
      ]
     },
     "metadata": {
      "needs_background": "light"
     },
     "output_type": "display_data"
    }
   ],
   "source": [
    "orig_df = pd.concat(\n",
    "    [\n",
    "        pd.read_csv(\"data/train01.csv\", low_memory=False),\n",
    "        pd.read_csv(\"data/train02.csv\", low_memory=False),\n",
    "    ]\n",
    ")\n",
    "orig_df = orig_df[orig_df[\"QA여부\"] == \"q\"]\n",
    "orig_df = orig_df[[\"발화문\", \"인텐트\"]]\n",
    "\n",
    "orig_value_counts = pd.DataFrame(orig_df[\"인텐트\"].value_counts())\n",
    "\n",
    "plt.figure(figsize=(16, 8))\n",
    "sns.barplot(x=np.arange(len(orig_value_counts)), y=orig_value_counts[\"인텐트\"].to_numpy())"
   ]
  },
  {
   "cell_type": "markdown",
   "id": "f52c978a-0755-4b68-b2e1-70e2c93b0b06",
   "metadata": {},
   "source": [
    "## EDA v1"
   ]
  },
  {
   "cell_type": "code",
   "execution_count": 307,
   "id": "1210bf88-78dc-4377-854a-d27eff2aeed4",
   "metadata": {},
   "outputs": [
    {
     "data": {
      "text/plain": [
       "<AxesSubplot:>"
      ]
     },
     "execution_count": 307,
     "metadata": {},
     "output_type": "execute_result"
    },
    {
     "data": {
      "image/png": "[encoded data removed]",
      "text/plain": [
       "<Figure size 1152x576 with 1 Axes>"
      ]
     },
     "metadata": {
      "needs_background": "light"
     },
     "output_type": "display_data"
    }
   ],
   "source": [
    "df = pd.read_csv(\"data/augmented.eda.v1.csv\")\n",
    "value_counts = pd.DataFrame(df[\"인텐트\"].value_counts())\n",
    "plt.figure(figsize=(16, 8))\n",
    "sns.barplot(x=np.arange(len(value_counts)), y=value_counts[\"인텐트\"].to_numpy())"
   ]
  },
  {
   "cell_type": "markdown",
   "id": "60018f49-7e2e-4052-8215-6596a104992b",
   "metadata": {},
   "source": [
    "## Backtranslation v1"
   ]
  },
  {
   "cell_type": "code",
   "execution_count": 305,
   "id": "4bbe6aff-e162-457b-b084-5494ec12d764",
   "metadata": {},
   "outputs": [
    {
     "data": {
      "text/plain": [
       "<AxesSubplot:>"
      ]
     },
     "execution_count": 305,
     "metadata": {},
     "output_type": "execute_result"
    },
    {
     "data": {
      "image/png": "[encoded data removed]",
      "text/plain": [
       "<Figure size 1152x576 with 1 Axes>"
      ]
     },
     "metadata": {
      "needs_background": "light"
     },
     "output_type": "display_data"
    }
   ],
   "source": [
    "df = pd.read_csv(\"data/augmented.backtranslation.v1.csv\")\n",
    "value_counts = pd.DataFrame(df[\"인텐트\"].value_counts())\n",
    "plt.figure(figsize=(16, 8))\n",
    "sns.barplot(x=np.arange(len(value_counts)), y=value_counts[\"인텐트\"].to_numpy())"
   ]
  },
  {
   "cell_type": "markdown",
   "id": "f19ad153-cf3e-4a83-ab77-bd771fb26f55",
   "metadata": {},
   "source": [
    "## Backtranslation v2"
   ]
  },
  {
   "cell_type": "code",
   "execution_count": 415,
   "id": "deb6e8c9-7cc6-4eb6-80be-aed4248aa21b",
   "metadata": {},
   "outputs": [
    {
     "data": {
      "text/plain": [
       "<AxesSubplot:>"
      ]
     },
     "execution_count": 415,
     "metadata": {},
     "output_type": "execute_result"
    },
    {
     "data": {
      "image/png": "[encoded data removed]",
      "text/plain": [
       "<Figure size 1152x576 with 1 Axes>"
      ]
     },
     "metadata": {
      "needs_background": "light"
     },
     "output_type": "display_data"
    }
   ],
   "source": [
    "back_translated = joblib.load(\"outputs/backtranslation/back_translated.joblib\")\n",
    "texts, intents = zip(*back_translated)\n",
    "df = pd.DataFrame({\"발화문\": texts, \"인텐트\": intents})\n",
    "value_counts = pd.DataFrame(df[\"인텐트\"].value_counts())\n",
    "plt.figure(figsize=(16, 8))\n",
    "sns.barplot(x=np.arange(len(value_counts)), y=value_counts[\"인텐트\"].to_numpy())"
   ]
  },
  {
   "cell_type": "markdown",
   "id": "fe7fbbf4-4bdc-4a6a-9bf7-e3c7c7b2e693",
   "metadata": {},
   "source": [
    "## Sampling Orignial"
   ]
  },
  {
   "cell_type": "code",
   "execution_count": 385,
   "id": "822c12ec-78d5-430f-8020-f5d4c1bc7d94",
   "metadata": {},
   "outputs": [],
   "source": [
    "idx = np.random.choice(len(orig_df), replace=False, size=len(df))\n",
    "sub_orig_df = orig_df.iloc[idx]\n",
    "value_counts = pd.DataFrame(sub_orig_df[\"인텐트\"].value_counts())\n",
    "plt.figure(figsize=(16, 8))\n",
    "sns.barplot(x=np.arange(len(value_counts)), y=value_counts[\"인텐트\"].to_numpy())\n",
    "sub_orig_df.to_csv(\"data/train.v2.csv\", index=False)"
   ]
  },
  {
   "cell_type": "code",
   "execution_count": 388,
   "id": "e2debad5-f1c5-47ff-ac8d-6333409e0a63",
   "metadata": {},
   "outputs": [],
   "source": [
    "train_back_df = pd.concat([sub_orig_df, df])\n",
    "train_back_df.to_csv('data/train+back.v2.csv', index=False)"
   ]
  },
  {
   "cell_type": "code",
   "execution_count": 403,
   "id": "3b232124-88ec-4370-90a5-286e6f0ebbfa",
   "metadata": {},
   "outputs": [],
   "source": [
    "tmp_df = pd.read_csv('data/train+back.v2.csv')\n",
    "tmp_df = tmp_df.dropna()\n",
    "tmp_df[tmp_df.isna().any(axis=1)]\n",
    "tmp_df.to_csv(\"data/train+back.v2.csv\", index=False)"
   ]
  },
  {
   "cell_type": "markdown",
   "id": "56ecd19e-0fa5-49c1-87db-2e3a83b52668",
   "metadata": {},
   "source": [
    "---"
   ]
  },
  {
   "cell_type": "code",
   "execution_count": null,
   "id": "578c1fc7-2c8e-4287-b23c-40a81aa4567c",
   "metadata": {},
   "outputs": [],
   "source": [
    "idx = np.random.choice(len(orig_df), replace=False, size=len(df) * 2)\n",
    "sub_orig_df = orig_df.iloc[idx]\n",
    "value_counts = pd.DataFrame(sub_orig_df[\"인텐트\"].value_counts())\n",
    "plt.figure(figsize=(16, 8))\n",
    "sns.barplot(x=np.arange(len(value_counts)), y=value_counts[\"인텐트\"].to_numpy())\n",
    "sub_orig_df.to_csv(\"data/train.v2-1.csv\", index=False)"
   ]
  },
  {
   "cell_type": "code",
   "execution_count": 435,
   "id": "0dec81c5-2a2c-41c6-87e9-0d3a1370e0b2",
   "metadata": {},
   "outputs": [],
   "source": [
    "orig_df = pd.concat(\n",
    "    [\n",
    "        pd.read_csv(\"data/train01.csv\", low_memory=False),\n",
    "        pd.read_csv(\"data/train02.csv\", low_memory=False),\n",
    "    ]\n",
    ")\n",
    "\n",
    "orig_df[\"인텐트\"] = orig_df[\"인텐트\"].apply(lambda x: x.split(\"_\")[0])\n",
    "\n",
    "orig_df.to_csv('data/train.csv', index=False)"
   ]
  },
  {
   "cell_type": "code",
   "execution_count": 434,
   "id": "c49292aa-45ab-48eb-ab18-ccdabc7040f6",
   "metadata": {},
   "outputs": [],
   "source": [
    "tst_df = pd.read_csv('data/test.original.csv', low_memory=False)\n",
    "\n",
    "tst_df[\"인텐트\"] = tst_df[\"인텐트\"].apply(lambda x: x.split(\"_\")[0])\n",
    "\n",
    "tst_df.to_csv('data/test.csv', index=False)"
   ]
  }
 ],
 "metadata": {
  "kernelspec": {
   "display_name": "Python [conda env:algorima]",
   "language": "python",
   "name": "conda-env-algorima-py"
  },
  "language_info": {
   "codemirror_mode": {
    "name": "ipython",
    "version": 3
   },
   "file_extension": ".py",
   "mimetype": "text/x-python",
   "name": "python",
   "nbconvert_exporter": "python",
   "pygments_lexer": "ipython3",
   "version": "3.7.2"
  }
 },
 "nbformat": 4,
 "nbformat_minor": 5
}
