{
 "cells": [
  {
   "cell_type": "code",
   "execution_count": 1,
   "id": "eb9b8859-cfe0-4677-89ce-78ae23c5d3d1",
   "metadata": {},
   "outputs": [
    {
     "name": "stdout",
     "output_type": "stream",
     "text": [
      "/jupyter-lab/repo/bigstar\n"
     ]
    }
   ],
   "source": [
    "%load_ext autoreload\n",
    "%autoreload 2\n",
    "%config Completer.use_jedi = False\n",
    "%cd .."
   ]
  },
  {
   "cell_type": "markdown",
   "id": "84b649be-3f49-4a3f-9ee5-20a74a6071d1",
   "metadata": {
    "jp-MarkdownHeadingCollapsed": true,
    "tags": []
   },
   "source": [
    "# Import Modules"
   ]
  },
  {
   "cell_type": "code",
   "execution_count": 2,
   "id": "d0118613-f1dd-48ce-929d-c8907e4e0ced",
   "metadata": {},
   "outputs": [],
   "source": [
    "import os\n",
    "\n",
    "os.environ[\"TOKENIZERS_PARALLELISM\"] = \"false\"\n",
    "os.environ[\"TRANSFORMERS_VERBOSITY\"] = \"error\"\n",
    "\n",
    "import pickle\n",
    "from collections import Counter\n",
    "from functools import partial\n",
    "from itertools import chain\n",
    "from pathlib import Path\n",
    "from typing import Dict, Iterable, Tuple\n",
    "\n",
    "import joblib\n",
    "import matplotlib.pyplot as plt\n",
    "import mecab_ko as mecab\n",
    "import nlpaug.augmenter.word as naw\n",
    "import numpy as np\n",
    "import pandas as pd\n",
    "import scipy.special as sp\n",
    "import seaborn as sns\n",
    "import torch\n",
    "import torch.nn as nn\n",
    "import torch.nn.functional as F\n",
    "from nlpaug.util import Action\n",
    "from scipy.sparse import csr_matrix\n",
    "from scipy.special import softmax\n",
    "from sklearn.metrics import (\n",
    "    accuracy_score,\n",
    "    confusion_matrix,\n",
    "    f1_score,\n",
    "    precision_recall_fscore_support,\n",
    "    precision_score,\n",
    "    recall_score,\n",
    ")\n",
    "from sklearn.model_selection import train_test_split\n",
    "from sklearn.preprocessing import LabelEncoder, MultiLabelBinarizer\n",
    "from src.base_trainer import get_ckpt_path, get_model_hparams, get_run, load_model_state\n",
    "from src.baseline.models import BaselineModel, BaselineModelWithMLAttention\n",
    "from src.baseline.trainer import BaselineTrainerModel\n",
    "from src.datasets import LotteQADataset, collate_fn\n",
    "from src.eda import EDA\n",
    "from src.utils import (\n",
    "    delete_list_elements,\n",
    "    filter_arguments,\n",
    "    get_label_encoder,\n",
    "    get_n_samples,\n",
    "    get_num_batches,\n",
    ")\n",
    "from torch.utils.data import DataLoader, Dataset, TensorDataset\n",
    "from tqdm.auto import tqdm\n",
    "from transformers import (\n",
    "    AutoConfig,\n",
    "    AutoModel,\n",
    "    AutoModelForCausalLM,\n",
    "    AutoModelForMaskedLM,\n",
    "    AutoTokenizer,\n",
    "    MarianMTModel,\n",
    ")\n",
    "from transformers.models.marian.convert_marian_to_pytorch import (\n",
    "    load_config_from_state_dict,\n",
    ")\n",
    "from transformers.tokenization_utils_base import PreTrainedTokenizerBase\n",
    "\n",
    "from datasets import load_dataset\n",
    "\n",
    "plt.rcParams[\"font.family\"] = \"NanumGothic\""
   ]
  },
  {
   "cell_type": "markdown",
   "id": "788bb096-cf69-4be0-b2d9-0ecaa48e1a44",
   "metadata": {
    "jp-MarkdownHeadingCollapsed": true,
    "tags": []
   },
   "source": [
    "# Functions"
   ]
  },
  {
   "cell_type": "code",
   "execution_count": 119,
   "id": "2eadd08f-dac7-4ab9-87cb-68a55411f19c",
   "metadata": {
    "scrolled": true,
    "tags": []
   },
   "outputs": [],
   "source": [
    "def predict(\n",
    "    run_id, device=torch.device(\"cuda\"), mode=\"train\", aug_filename=None, df=None\n",
    "):\n",
    "    filename = f\"mode={mode}-aug_filename={aug_filename}.joblib\"\n",
    "    run = get_run(log_dir=\"./logs\", run_id=run_id)\n",
    "\n",
    "    filepath = os.path.join(\n",
    "        \"./logs\", run.info.experiment_id, run_id, \"artifacts\", filename\n",
    "    )\n",
    "\n",
    "    if not os.path.exists(filepath) or df is not None:\n",
    "        ckpt_path = get_ckpt_path(log_dir=\"./logs\", run_id=run_id, load_best=True)\n",
    "        model_hparams = get_model_hparams(\n",
    "            \"./logs\", run_id, BaselineTrainerModel.MODEL_HPARAMS\n",
    "        )\n",
    "        le = get_label_encoder(\"./cache/label_encoder.joblib\")\n",
    "\n",
    "        model_cls = (\n",
    "            BaselineModel\n",
    "            if model_hparams[\"model_name\"] == \"Baseline\"\n",
    "            else BaselineModelWithMLAttention\n",
    "        )\n",
    "\n",
    "        model = model_cls(\n",
    "            num_labels=len(le.classes_), **filter_arguments(model_hparams, model_cls)\n",
    "        )\n",
    "\n",
    "        load_model_state(model, ckpt_path, substitution=(r\"^model\\.\", \"\"))\n",
    "\n",
    "        test_dataset = LotteQADataset(mode=mode, aug_filename=aug_filename, df=df)\n",
    "        tokenizer = AutoTokenizer.from_pretrained(\n",
    "            model_hparams[\"pretrained_model_name\"]\n",
    "        )\n",
    "        test_dataloader = DataLoader(\n",
    "            test_dataset,\n",
    "            batch_size=16,\n",
    "            pin_memory=True,\n",
    "            num_workers=4,\n",
    "            collate_fn=partial(\n",
    "                collate_fn,\n",
    "                tokenizer=tokenizer,\n",
    "                le=le,\n",
    "                max_length=model_hparams[\"max_length\"],\n",
    "            ),\n",
    "        )\n",
    "\n",
    "        model.to(device)\n",
    "        model.eval()\n",
    "        logits = []\n",
    "\n",
    "        for batch_x, batch_y in tqdm(test_dataloader):\n",
    "            batch_x = {k: v.to(device) for k, v in batch_x.items()}\n",
    "            with torch.no_grad(), torch.cuda.amp.autocast():\n",
    "                outputs = model(batch_x)\n",
    "            logits.append(outputs.cpu())\n",
    "\n",
    "        logits = np.concatenate(logits)\n",
    "        predictions = logits.argmax(axis=-1)\n",
    "\n",
    "        gt = le.transform(test_dataset.y)\n",
    "        f1_micro = f1_score(gt, predictions, average=\"micro\")\n",
    "        prec_macro, recall_macro, f1_macro, support = precision_recall_fscore_support(\n",
    "            gt,\n",
    "            predictions,\n",
    "            average=\"macro\",\n",
    "            zero_division=0,\n",
    "        )\n",
    "        (\n",
    "            prec_weighted,\n",
    "            recall_weighted,\n",
    "            f1_weighted,\n",
    "            _,\n",
    "        ) = precision_recall_fscore_support(\n",
    "            gt,\n",
    "            predictions,\n",
    "            average=\"weighted\",\n",
    "            zero_division=0,\n",
    "        )\n",
    "        prec, recall, f1, _ = precision_recall_fscore_support(\n",
    "            gt, predictions, average=None, zero_division=0\n",
    "        )\n",
    "\n",
    "        matrix = confusion_matrix(gt, predictions)\n",
    "\n",
    "        df = pd.DataFrame(\n",
    "            {\n",
    "                \"intent\": le.classes_,\n",
    "                \"support\": matrix.sum(axis=-1),\n",
    "                \"# to tp\": np.diag(matrix),\n",
    "                \"# of predicted\": matrix.sum(axis=0),\n",
    "            }\n",
    "        )\n",
    "\n",
    "        result = {\n",
    "            \"df\": df,\n",
    "            \"matrix\": matrix,\n",
    "            \"f1_micro\": f1_micro,\n",
    "            \"prec_macro\": prec_macro,\n",
    "            \"recall_macro\": recall_macro,\n",
    "            \"f1_macro\": f1_macro,\n",
    "            \"prec_weighted\": prec_weighted,\n",
    "            \"recall_weighted\": recall_weighted,\n",
    "            \"f1_weighted\": f1_weighted,\n",
    "            \"prec\": prec,\n",
    "            \"recall\": recall,\n",
    "            \"f1\": f1,\n",
    "            \"gt\": gt,\n",
    "            \"predictions\": predictions,\n",
    "            \"logits\": logits,\n",
    "        }\n",
    "        if df is None:\n",
    "            joblib.dump(result, filepath)\n",
    "    else:\n",
    "        result = joblib.load(filepath)\n",
    "\n",
    "    print(f\"f1        (micro): {result['f1_micro']:.4f}\")\n",
    "    print(f\"prec      (macro): {result['prec_macro']:.4f}\")\n",
    "    print(f\"recall    (macro): {result['recall_macro']:.4f}\")\n",
    "    print(f\"f1        (macro): {result['f1_macro']:.4f}\")\n",
    "    print(f\"prec   (weighted): {result['prec_weighted']:.4f}\")\n",
    "    print(f\"recall (weighted): {result['recall_weighted']:.4f}\")\n",
    "    print(f\"f1     (weighted): {result['f1_weighted']:.4f}\")\n",
    "\n",
    "    return result\n",
    "\n",
    "\n",
    "def plot_label_distribution(df, key=\"인텐트\", columns=None, figsize=(12, 4), **kwargs):\n",
    "    value_counts = df[key].value_counts()\n",
    "    if columns is not None:\n",
    "        value_counts = value_counts.loc[columns]\n",
    "    plt.figure(figsize=figsize)\n",
    "    ax = plt.gca()\n",
    "    ax.set(**kwargs)\n",
    "    sns.barplot(x=value_counts.index, y=value_counts.to_numpy(), ax=ax)\n",
    "\n",
    "\n",
    "def get_result_df(result, data_df, le):\n",
    "    gt = result[\"gt\"]\n",
    "    predictions = result[\"predictions\"]\n",
    "    logits = result[\"logits\"]\n",
    "\n",
    "    df = data_df.copy()\n",
    "    probs = sp.softmax(logits.astype(np.float32), axis=-1)\n",
    "    ranks = np.where(probs.argsort(axis=-1)[..., ::-1] == gt[..., None])[1] + 1\n",
    "\n",
    "    df[\"prediction\"] = le.classes_[predictions]\n",
    "    df[\"probs (gt)\"] = probs[(np.arange(len(gt)), gt)]\n",
    "    df[\"probs (pred)\"] = probs.max(axis=-1)\n",
    "    df[\"rank (gt)\"] = ranks\n",
    "\n",
    "    return df"
   ]
  },
  {
   "cell_type": "code",
   "execution_count": null,
   "id": "4349d189-3842-4ae8-aae0-5e767a577cff",
   "metadata": {},
   "outputs": [],
   "source": [
    "train_df.copy()"
   ]
  },
  {
   "cell_type": "markdown",
   "id": "f57d282d-ef00-442f-9f5c-fe30915a20ac",
   "metadata": {},
   "source": [
    "# Load Dataset"
   ]
  },
  {
   "cell_type": "code",
   "execution_count": 120,
   "id": "1cbdc476-043d-42d0-978b-60c26d84def1",
   "metadata": {
    "scrolled": true,
    "tags": []
   },
   "outputs": [],
   "source": [
    "train_df = LotteQADataset().df\n",
    "val_df = LotteQADataset(mode=\"val\").df\n",
    "test_df = LotteQADataset(mode=\"test\").df\n",
    "le = get_label_encoder(\"cache/label_encoder.joblib\")\n",
    "mlb = get_label_encoder(\"cache/label_encoder_mlb.joblib\", is_multilabel=True)"
   ]
  },
  {
   "cell_type": "markdown",
   "id": "7d1879b0-9fac-4418-9492-c0724c909e2c",
   "metadata": {},
   "source": [
    "# Set Some Variables"
   ]
  },
  {
   "cell_type": "code",
   "execution_count": 5,
   "id": "139d666d-c0cf-4ec6-b784-ba6495d6b72d",
   "metadata": {},
   "outputs": [],
   "source": [
    "device = torch.device(\"cuda:0\")"
   ]
  },
  {
   "cell_type": "markdown",
   "id": "79ab98cb-0312-4db2-abbf-91bcda8d3109",
   "metadata": {},
   "source": [
    "# Analysis"
   ]
  },
  {
   "cell_type": "code",
   "execution_count": 4,
   "id": "4b940022-fab4-451b-ad38-6f36a67e1694",
   "metadata": {},
   "outputs": [],
   "source": [
    "results = joblib.load(\"outputs/pred.joblib\")\n",
    "results1 = results[0]  # Baseline prediction (test set)\n",
    "results2 = results[1]  # Prediction trained with augmented train+back.v9 (test set)\n",
    "results3 = results[2]  # Prediction trained with original (back.v1)"
   ]
  },
  {
   "cell_type": "code",
   "execution_count": 39,
   "id": "f67ec4c2-5eb3-448f-889d-b93978c0a74e",
   "metadata": {},
   "outputs": [
    {
     "data": {
      "image/png": "[encoded data removed]",
      "text/plain": [
       "<Figure size 864x288 with 1 Axes>"
      ]
     },
     "metadata": {
      "needs_background": "light"
     },
     "output_type": "display_data"
    }
   ],
   "source": [
    "plot_label_distribution(train_df, title=\"train set\")"
   ]
  },
  {
   "cell_type": "code",
   "execution_count": 40,
   "id": "331e1153-9c5b-41e1-b8f7-5d741e8de37c",
   "metadata": {},
   "outputs": [
    {
     "data": {
      "image/png": "[encoded data removed]",
      "text/plain": [
       "<Figure size 864x288 with 1 Axes>"
      ]
     },
     "metadata": {
      "needs_background": "light"
     },
     "output_type": "display_data"
    }
   ],
   "source": [
    "back_v1_df = pd.read_csv(\"data/back.v1.csv\")\n",
    "columns = train_df['인텐트'].value_counts().index\n",
    "plot_label_distribution(back_v1_df, columns=columns, title=\"back.v1\")"
   ]
  },
  {
   "cell_type": "code",
   "execution_count": 41,
   "id": "7338183b-e5bd-42a5-8298-e57575d71889",
   "metadata": {},
   "outputs": [
    {
     "data": {
      "application/vnd.jupyter.widget-view+json": {
       "model_id": "cbcf8fbb01fe4de98a789aaba76ced85",
       "version_major": 2,
       "version_minor": 0
      },
      "text/plain": [
       "  0%|          | 0/5301 [00:00<?, ?it/s]"
      ]
     },
     "metadata": {},
     "output_type": "display_data"
    },
    {
     "name": "stdout",
     "output_type": "stream",
     "text": [
      "f1        (micro): 0.9306\n",
      "prec      (macro): 0.6867\n",
      "recall    (macro): 0.5975\n",
      "f1        (macro): 0.6195\n",
      "prec   (weighted): 0.9276\n",
      "recall (weighted): 0.9306\n",
      "f1     (weighted): 0.9281\n"
     ]
    }
   ],
   "source": [
    "train_back_v10_results = predict(run_id=\"d44ead9cc64f42a480fa728ce63025a0\", mode=\"test\")\n",
    "train_back_v10_results[\"df\"].to_excel(\"outputs/predictions.xlsx\", index=False)"
   ]
  },
  {
   "cell_type": "code",
   "execution_count": 42,
   "id": "f572b4a4-32a7-4626-b2d5-e1d31e62e4da",
   "metadata": {},
   "outputs": [
    {
     "data": {
      "application/vnd.jupyter.widget-view+json": {
       "model_id": "2f0c66f11e2d48a396f1d7471b51c437",
       "version_major": 2,
       "version_minor": 0
      },
      "text/plain": [
       "  0%|          | 0/40813 [00:00<?, ?it/s]"
      ]
     },
     "metadata": {},
     "output_type": "display_data"
    },
    {
     "name": "stdout",
     "output_type": "stream",
     "text": [
      "f1        (micro): 0.9333\n",
      "prec      (macro): 0.7475\n",
      "recall    (macro): 0.6330\n",
      "f1        (macro): 0.6575\n",
      "prec   (weighted): 0.9299\n",
      "recall (weighted): 0.9333\n",
      "f1     (weighted): 0.9301\n"
     ]
    }
   ],
   "source": [
    "# Baseline\n",
    "train_results = predict(run_id=\"d44ead9cc64f42a480fa728ce63025a0\", mode=\"train\")"
   ]
  },
  {
   "cell_type": "code",
   "execution_count": 87,
   "id": "faef58cc-65f8-41ca-9ea6-c1af584797ad",
   "metadata": {},
   "outputs": [
    {
     "data": {
      "application/vnd.jupyter.widget-view+json": {
       "model_id": "717c2d82001b40b7bedc84c4e7bb8423",
       "version_major": 2,
       "version_minor": 0
      },
      "text/plain": [
       "  0%|          | 0/40813 [00:00<?, ?it/s]"
      ]
     },
     "metadata": {},
     "output_type": "display_data"
    },
    {
     "name": "stdout",
     "output_type": "stream",
     "text": [
      "f1        (micro): 0.9398\n",
      "prec      (macro): 0.7373\n",
      "recall    (macro): 0.6057\n",
      "f1        (macro): 0.6461\n",
      "prec   (weighted): 0.9346\n",
      "recall (weighted): 0.9398\n",
      "f1     (weighted): 0.9351\n"
     ]
    }
   ],
   "source": [
    "# BaselineWithMLAttention\n",
    "train_results2 = predict(run_id=\"f19847f8ba794b2492f184ee8f26ba9e\", mode=\"train\")"
   ]
  },
  {
   "cell_type": "code",
   "execution_count": 103,
   "id": "7a326c3b-9929-49ef-a430-13522c026240",
   "metadata": {
    "tags": []
   },
   "outputs": [
    {
     "name": "stdout",
     "output_type": "stream",
     "text": [
      "f1        (micro): 0.9392\n",
      "prec      (macro): 0.7374\n",
      "recall    (macro): 0.6216\n",
      "f1        (macro): 0.6594\n",
      "prec   (weighted): 0.9345\n",
      "recall (weighted): 0.9392\n",
      "f1     (weighted): 0.9351\n"
     ]
    },
    {
     "data": {
      "text/html": [
       "<div>\n",
       "<style scoped>\n",
       "    .dataframe tbody tr th:only-of-type {\n",
       "        vertical-align: middle;\n",
       "    }\n",
       "\n",
       "    .dataframe tbody tr th {\n",
       "        vertical-align: top;\n",
       "    }\n",
       "\n",
       "    .dataframe thead th {\n",
       "        text-align: right;\n",
       "    }\n",
       "</style>\n",
       "<table border=\"1\" class=\"dataframe\">\n",
       "  <thead>\n",
       "    <tr style=\"text-align: right;\">\n",
       "      <th></th>\n",
       "      <th>intent</th>\n",
       "      <th>support</th>\n",
       "      <th># to tp</th>\n",
       "      <th># of predicted</th>\n",
       "    </tr>\n",
       "  </thead>\n",
       "  <tbody>\n",
       "    <tr>\n",
       "      <th>0</th>\n",
       "      <td>AS</td>\n",
       "      <td>8261</td>\n",
       "      <td>6511</td>\n",
       "      <td>8207</td>\n",
       "    </tr>\n",
       "    <tr>\n",
       "      <th>1</th>\n",
       "      <td>결제</td>\n",
       "      <td>11332</td>\n",
       "      <td>4220</td>\n",
       "      <td>6175</td>\n",
       "    </tr>\n",
       "    <tr>\n",
       "      <th>2</th>\n",
       "      <td>교환|반품|환불</td>\n",
       "      <td>23707</td>\n",
       "      <td>20773</td>\n",
       "      <td>24559</td>\n",
       "    </tr>\n",
       "    <tr>\n",
       "      <th>3</th>\n",
       "      <td>구매</td>\n",
       "      <td>4088</td>\n",
       "      <td>2265</td>\n",
       "      <td>2679</td>\n",
       "    </tr>\n",
       "    <tr>\n",
       "      <th>4</th>\n",
       "      <td>매장</td>\n",
       "      <td>2059</td>\n",
       "      <td>1522</td>\n",
       "      <td>1689</td>\n",
       "    </tr>\n",
       "    <tr>\n",
       "      <th>5</th>\n",
       "      <td>멤버십</td>\n",
       "      <td>404</td>\n",
       "      <td>164</td>\n",
       "      <td>233</td>\n",
       "    </tr>\n",
       "    <tr>\n",
       "      <th>6</th>\n",
       "      <td>배송</td>\n",
       "      <td>156965</td>\n",
       "      <td>150736</td>\n",
       "      <td>160571</td>\n",
       "    </tr>\n",
       "    <tr>\n",
       "      <th>7</th>\n",
       "      <td>부가서비스</td>\n",
       "      <td>2578</td>\n",
       "      <td>1385</td>\n",
       "      <td>1815</td>\n",
       "    </tr>\n",
       "    <tr>\n",
       "      <th>8</th>\n",
       "      <td>웹사이트</td>\n",
       "      <td>3089</td>\n",
       "      <td>482</td>\n",
       "      <td>860</td>\n",
       "    </tr>\n",
       "    <tr>\n",
       "      <th>9</th>\n",
       "      <td>제품</td>\n",
       "      <td>417927</td>\n",
       "      <td>406276</td>\n",
       "      <td>423079</td>\n",
       "    </tr>\n",
       "    <tr>\n",
       "      <th>10</th>\n",
       "      <td>주문</td>\n",
       "      <td>760</td>\n",
       "      <td>0</td>\n",
       "      <td>0</td>\n",
       "    </tr>\n",
       "    <tr>\n",
       "      <th>11</th>\n",
       "      <td>포장</td>\n",
       "      <td>2586</td>\n",
       "      <td>2189</td>\n",
       "      <td>2871</td>\n",
       "    </tr>\n",
       "    <tr>\n",
       "      <th>12</th>\n",
       "      <td>행사</td>\n",
       "      <td>19238</td>\n",
       "      <td>16787</td>\n",
       "      <td>20256</td>\n",
       "    </tr>\n",
       "  </tbody>\n",
       "</table>\n",
       "</div>"
      ],
      "text/plain": [
       "      intent  support  # to tp  # of predicted\n",
       "0         AS     8261     6511            8207\n",
       "1         결제    11332     4220            6175\n",
       "2   교환|반품|환불    23707    20773           24559\n",
       "3         구매     4088     2265            2679\n",
       "4         매장     2059     1522            1689\n",
       "5        멤버십      404      164             233\n",
       "6         배송   156965   150736          160571\n",
       "7      부가서비스     2578     1385            1815\n",
       "8       웹사이트     3089      482             860\n",
       "9         제품   417927   406276          423079\n",
       "10        주문      760        0               0\n",
       "11        포장     2586     2189            2871\n",
       "12        행사    19238    16787           20256"
      ]
     },
     "execution_count": 103,
     "metadata": {},
     "output_type": "execute_result"
    }
   ],
   "source": [
    "logits = (train_results[\"logits\"] + train_results2[\"logits\"]) / 2\n",
    "gt = train_results[\"gt\"]\n",
    "predictions = logits.argmax(axis=-1)\n",
    "matrix = confusion_matrix(train_results[\"gt\"], predictions)\n",
    "\n",
    "f1_micro = f1_score(gt, predictions, average=\"micro\")\n",
    "prec_macro, recall_macro, f1_macro, support = precision_recall_fscore_support(\n",
    "    gt,\n",
    "    predictions,\n",
    "    average=\"macro\",\n",
    "    zero_division=0,\n",
    ")\n",
    "prec_weighted, recall_weighted, f1_weighted, _ = precision_recall_fscore_support(\n",
    "    gt,\n",
    "    predictions,\n",
    "    average=\"weighted\",\n",
    "    zero_division=0,\n",
    ")\n",
    "prec, recall, f1, _ = precision_recall_fscore_support(\n",
    "    gt, predictions, average=None, zero_division=0\n",
    ")\n",
    "\n",
    "print(f\"f1        (micro): {f1_micro:.4f}\")\n",
    "print(f\"prec      (macro): {prec_macro:.4f}\")\n",
    "print(f\"recall    (macro): {recall_macro:.4f}\")\n",
    "print(f\"f1        (macro): {f1_macro:.4f}\")\n",
    "print(f\"prec   (weighted): {prec_weighted:.4f}\")\n",
    "print(f\"recall (weighted): {recall_weighted:.4f}\")\n",
    "print(f\"f1     (weighted): {f1_weighted:.4f}\")\n",
    "\n",
    "pd.DataFrame(\n",
    "    {\n",
    "        \"intent\": le.classes_,\n",
    "        \"support\": matrix.sum(axis=-1),\n",
    "        \"# to tp\": np.diag(matrix),\n",
    "        \"# of predicted\": matrix.sum(axis=0),\n",
    "    }\n",
    ")"
   ]
  },
  {
   "cell_type": "code",
   "execution_count": 157,
   "id": "92ab37c3-fc23-44fb-9e9c-5b90da5875bc",
   "metadata": {},
   "outputs": [
    {
     "data": {
      "application/vnd.jupyter.widget-view+json": {
       "model_id": "babb553baf13410abe727f84b3aecd11",
       "version_major": 2,
       "version_minor": 0
      },
      "text/plain": [
       "  0%|          | 0/5301 [00:00<?, ?it/s]"
      ]
     },
     "metadata": {},
     "output_type": "display_data"
    },
    {
     "name": "stdout",
     "output_type": "stream",
     "text": [
      "f1        (micro): 0.9374\n",
      "prec      (macro): 0.7294\n",
      "recall    (macro): 0.5675\n",
      "f1        (macro): 0.6161\n",
      "prec   (weighted): 0.9324\n",
      "recall (weighted): 0.9374\n",
      "f1     (weighted): 0.9327\n"
     ]
    }
   ],
   "source": [
    "# BaselineWithMLAttention + Label Smoothing\n",
    "test_results3 = predict(run_id=\"0ef0a6f1a5fc45b88ebf64d92dd6e8e6\", mode=\"test\")"
   ]
  },
  {
   "cell_type": "code",
   "execution_count": 175,
   "id": "a989d9e0-6155-4485-a148-a9ecb550b7e9",
   "metadata": {},
   "outputs": [
    {
     "data": {
      "application/vnd.jupyter.widget-view+json": {
       "model_id": "861593c286b2415eb14aa6cb421ccdcf",
       "version_major": 2,
       "version_minor": 0
      },
      "text/plain": [
       "  0%|          | 0/40813 [00:00<?, ?it/s]"
      ]
     },
     "metadata": {},
     "output_type": "display_data"
    },
    {
     "name": "stdout",
     "output_type": "stream",
     "text": [
      "f1        (micro): 0.9436\n",
      "prec      (macro): 0.7666\n",
      "recall    (macro): 0.6061\n",
      "f1        (macro): 0.6580\n",
      "prec   (weighted): 0.9388\n",
      "recall (weighted): 0.9436\n",
      "f1     (weighted): 0.9390\n"
     ]
    }
   ],
   "source": [
    "# BaselineWithMLAttention + Label Smoothing\n",
    "train_results3 = predict(run_id=\"0ef0a6f1a5fc45b88ebf64d92dd6e8e6\", mode=\"train\")"
   ]
  },
  {
   "cell_type": "code",
   "execution_count": 256,
   "id": "d89ba71e-e881-4b56-af0e-9f3a3322f624",
   "metadata": {},
   "outputs": [
    {
     "data": {
      "application/vnd.jupyter.widget-view+json": {
       "model_id": "8c08af40e5c348849a43c93274321452",
       "version_major": 2,
       "version_minor": 0
      },
      "text/plain": [
       "  0%|          | 0/26514 [00:00<?, ?it/s]"
      ]
     },
     "metadata": {},
     "output_type": "display_data"
    },
    {
     "name": "stdout",
     "output_type": "stream",
     "text": [
      "f1        (micro): 0.5301\n",
      "prec      (macro): 0.4740\n",
      "recall    (macro): 0.3239\n",
      "f1        (macro): 0.3150\n",
      "prec   (weighted): 0.7630\n",
      "recall (weighted): 0.5301\n",
      "f1     (weighted): 0.6068\n"
     ]
    }
   ],
   "source": [
    "# BaselineWithMLAttention + Label Smoothing over augmented data by backtranslation\n",
    "back_v1_results = predict(run_id=\"0ef0a6f1a5fc45b88ebf64d92dd6e8e6\", aug_filename=\"back.v1.csv\")"
   ]
  },
  {
   "cell_type": "code",
   "execution_count": 259,
   "id": "a6808bdb-6a0e-4c09-904c-133886876e2b",
   "metadata": {},
   "outputs": [
    {
     "data": {
      "text/html": [
       "<div>\n",
       "<style scoped>\n",
       "    .dataframe tbody tr th:only-of-type {\n",
       "        vertical-align: middle;\n",
       "    }\n",
       "\n",
       "    .dataframe tbody tr th {\n",
       "        vertical-align: top;\n",
       "    }\n",
       "\n",
       "    .dataframe thead th {\n",
       "        text-align: right;\n",
       "    }\n",
       "</style>\n",
       "<table border=\"1\" class=\"dataframe\">\n",
       "  <thead>\n",
       "    <tr style=\"text-align: right;\">\n",
       "      <th></th>\n",
       "      <th>intent</th>\n",
       "      <th>support</th>\n",
       "      <th># to tp</th>\n",
       "      <th># of predicted</th>\n",
       "      <th>f1</th>\n",
       "    </tr>\n",
       "  </thead>\n",
       "  <tbody>\n",
       "    <tr>\n",
       "      <th>0</th>\n",
       "      <td>AS</td>\n",
       "      <td>19917</td>\n",
       "      <td>8034</td>\n",
       "      <td>13906</td>\n",
       "      <td>0.475061</td>\n",
       "    </tr>\n",
       "    <tr>\n",
       "      <th>1</th>\n",
       "      <td>결제</td>\n",
       "      <td>27632</td>\n",
       "      <td>6084</td>\n",
       "      <td>14703</td>\n",
       "      <td>0.287422</td>\n",
       "    </tr>\n",
       "    <tr>\n",
       "      <th>2</th>\n",
       "      <td>교환|반품|환불</td>\n",
       "      <td>61100</td>\n",
       "      <td>19546</td>\n",
       "      <td>24351</td>\n",
       "      <td>0.457479</td>\n",
       "    </tr>\n",
       "    <tr>\n",
       "      <th>3</th>\n",
       "      <td>구매</td>\n",
       "      <td>9562</td>\n",
       "      <td>2501</td>\n",
       "      <td>5533</td>\n",
       "      <td>0.331368</td>\n",
       "    </tr>\n",
       "    <tr>\n",
       "      <th>4</th>\n",
       "      <td>매장</td>\n",
       "      <td>4310</td>\n",
       "      <td>1639</td>\n",
       "      <td>4213</td>\n",
       "      <td>0.384606</td>\n",
       "    </tr>\n",
       "    <tr>\n",
       "      <th>5</th>\n",
       "      <td>멤버십</td>\n",
       "      <td>960</td>\n",
       "      <td>80</td>\n",
       "      <td>211</td>\n",
       "      <td>0.136635</td>\n",
       "    </tr>\n",
       "    <tr>\n",
       "      <th>6</th>\n",
       "      <td>배송</td>\n",
       "      <td>229806</td>\n",
       "      <td>167957</td>\n",
       "      <td>194632</td>\n",
       "      <td>0.791432</td>\n",
       "    </tr>\n",
       "    <tr>\n",
       "      <th>7</th>\n",
       "      <td>부가서비스</td>\n",
       "      <td>6005</td>\n",
       "      <td>899</td>\n",
       "      <td>1373</td>\n",
       "      <td>0.243697</td>\n",
       "    </tr>\n",
       "    <tr>\n",
       "      <th>8</th>\n",
       "      <td>웹사이트</td>\n",
       "      <td>7947</td>\n",
       "      <td>294</td>\n",
       "      <td>1524</td>\n",
       "      <td>0.062084</td>\n",
       "    </tr>\n",
       "    <tr>\n",
       "      <th>9</th>\n",
       "      <td>제품</td>\n",
       "      <td>1654</td>\n",
       "      <td>1572</td>\n",
       "      <td>142512</td>\n",
       "      <td>0.021808</td>\n",
       "    </tr>\n",
       "    <tr>\n",
       "      <th>10</th>\n",
       "      <td>주문</td>\n",
       "      <td>1823</td>\n",
       "      <td>0</td>\n",
       "      <td>3</td>\n",
       "      <td>0.000000</td>\n",
       "    </tr>\n",
       "    <tr>\n",
       "      <th>11</th>\n",
       "      <td>포장</td>\n",
       "      <td>6487</td>\n",
       "      <td>2468</td>\n",
       "      <td>3923</td>\n",
       "      <td>0.474159</td>\n",
       "    </tr>\n",
       "    <tr>\n",
       "      <th>12</th>\n",
       "      <td>행사</td>\n",
       "      <td>47017</td>\n",
       "      <td>13810</td>\n",
       "      <td>17336</td>\n",
       "      <td>0.429195</td>\n",
       "    </tr>\n",
       "  </tbody>\n",
       "</table>\n",
       "</div>"
      ],
      "text/plain": [
       "      intent  support  # to tp  # of predicted        f1\n",
       "0         AS    19917     8034           13906  0.475061\n",
       "1         결제    27632     6084           14703  0.287422\n",
       "2   교환|반품|환불    61100    19546           24351  0.457479\n",
       "3         구매     9562     2501            5533  0.331368\n",
       "4         매장     4310     1639            4213  0.384606\n",
       "5        멤버십      960       80             211  0.136635\n",
       "6         배송   229806   167957          194632  0.791432\n",
       "7      부가서비스     6005      899            1373  0.243697\n",
       "8       웹사이트     7947      294            1524  0.062084\n",
       "9         제품     1654     1572          142512  0.021808\n",
       "10        주문     1823        0               3  0.000000\n",
       "11        포장     6487     2468            3923  0.474159\n",
       "12        행사    47017    13810           17336  0.429195"
      ]
     },
     "execution_count": 259,
     "metadata": {},
     "output_type": "execute_result"
    }
   ],
   "source": [
    "pd.concat([back_v1_results['df'], pd.DataFrame({'f1': back_v1_results['f1']})], axis=1)"
   ]
  },
  {
   "cell_type": "code",
   "execution_count": 183,
   "id": "61f6a649-53f3-4ae2-9508-f9bee30a39d7",
   "metadata": {},
   "outputs": [
    {
     "data": {
      "text/html": [
       "<div>\n",
       "<style scoped>\n",
       "    .dataframe tbody tr th:only-of-type {\n",
       "        vertical-align: middle;\n",
       "    }\n",
       "\n",
       "    .dataframe tbody tr th {\n",
       "        vertical-align: top;\n",
       "    }\n",
       "\n",
       "    .dataframe thead th {\n",
       "        text-align: right;\n",
       "    }\n",
       "</style>\n",
       "<table border=\"1\" class=\"dataframe\">\n",
       "  <thead>\n",
       "    <tr style=\"text-align: right;\">\n",
       "      <th></th>\n",
       "      <th>인텐트</th>\n",
       "    </tr>\n",
       "  </thead>\n",
       "  <tbody>\n",
       "    <tr>\n",
       "      <th>제품</th>\n",
       "      <td>7967</td>\n",
       "    </tr>\n",
       "    <tr>\n",
       "      <th>결제</th>\n",
       "      <td>7052</td>\n",
       "    </tr>\n",
       "    <tr>\n",
       "      <th>배송</th>\n",
       "      <td>6542</td>\n",
       "    </tr>\n",
       "    <tr>\n",
       "      <th>교환|반품|환불</th>\n",
       "      <td>3031</td>\n",
       "    </tr>\n",
       "    <tr>\n",
       "      <th>웹사이트</th>\n",
       "      <td>2642</td>\n",
       "    </tr>\n",
       "    <tr>\n",
       "      <th>행사</th>\n",
       "      <td>2338</td>\n",
       "    </tr>\n",
       "    <tr>\n",
       "      <th>구매</th>\n",
       "      <td>1935</td>\n",
       "    </tr>\n",
       "    <tr>\n",
       "      <th>AS</th>\n",
       "      <td>1930</td>\n",
       "    </tr>\n",
       "    <tr>\n",
       "      <th>부가서비스</th>\n",
       "      <td>1251</td>\n",
       "    </tr>\n",
       "    <tr>\n",
       "      <th>주문</th>\n",
       "      <td>760</td>\n",
       "    </tr>\n",
       "    <tr>\n",
       "      <th>매장</th>\n",
       "      <td>596</td>\n",
       "    </tr>\n",
       "    <tr>\n",
       "      <th>포장</th>\n",
       "      <td>494</td>\n",
       "    </tr>\n",
       "    <tr>\n",
       "      <th>멤버십</th>\n",
       "      <td>267</td>\n",
       "    </tr>\n",
       "  </tbody>\n",
       "</table>\n",
       "</div>"
      ],
      "text/plain": [
       "           인텐트\n",
       "제품        7967\n",
       "결제        7052\n",
       "배송        6542\n",
       "교환|반품|환불  3031\n",
       "웹사이트      2642\n",
       "행사        2338\n",
       "구매        1935\n",
       "AS        1930\n",
       "부가서비스     1251\n",
       "주문         760\n",
       "매장         596\n",
       "포장         494\n",
       "멤버십        267"
      ]
     },
     "execution_count": 183,
     "metadata": {},
     "output_type": "execute_result"
    }
   ],
   "source": [
    "# Count incorrect predictions\n",
    "results = back_v1_results\n",
    "incorrect = np.where(results['gt'] != results['predictions'])[0]\n",
    "pd.DataFrame(train_df.iloc[incorrect]['인텐트'].value_counts())"
   ]
  },
  {
   "cell_type": "code",
   "execution_count": 232,
   "id": "6539f86a-11ea-4ed5-ae5b-bcab91974d65",
   "metadata": {
    "scrolled": true,
    "tags": []
   },
   "outputs": [
    {
     "data": {
      "text/html": [
       "<div>\n",
       "<style scoped>\n",
       "    .dataframe tbody tr th:only-of-type {\n",
       "        vertical-align: middle;\n",
       "    }\n",
       "\n",
       "    .dataframe tbody tr th {\n",
       "        vertical-align: top;\n",
       "    }\n",
       "\n",
       "    .dataframe thead th {\n",
       "        text-align: right;\n",
       "    }\n",
       "</style>\n",
       "<table border=\"1\" class=\"dataframe\">\n",
       "  <thead>\n",
       "    <tr style=\"text-align: right;\">\n",
       "      <th></th>\n",
       "      <th>발화문</th>\n",
       "      <th>인텐트</th>\n",
       "      <th>prediction</th>\n",
       "      <th>probs</th>\n",
       "    </tr>\n",
       "  </thead>\n",
       "  <tbody>\n",
       "    <tr>\n",
       "      <th>126</th>\n",
       "      <td>혹시 세로 길이 연장 가능한가요?</td>\n",
       "      <td>AS</td>\n",
       "      <td>제품</td>\n",
       "      <td>0.893867</td>\n",
       "    </tr>\n",
       "    <tr>\n",
       "      <th>212</th>\n",
       "      <td>스냅은 상품당 3개 오는 건가요?</td>\n",
       "      <td>행사</td>\n",
       "      <td>제품</td>\n",
       "      <td>0.877267</td>\n",
       "    </tr>\n",
       "    <tr>\n",
       "      <th>246</th>\n",
       "      <td>기장을 33CM 정도로 더 짧게 하고 싶은데 가능한가요?</td>\n",
       "      <td>구매</td>\n",
       "      <td>제품</td>\n",
       "      <td>0.871912</td>\n",
       "    </tr>\n",
       "    <tr>\n",
       "      <th>335</th>\n",
       "      <td>설치하려면 벽 뚫어야 하나요?</td>\n",
       "      <td>부가서비스</td>\n",
       "      <td>제품</td>\n",
       "      <td>0.830732</td>\n",
       "    </tr>\n",
       "    <tr>\n",
       "      <th>342</th>\n",
       "      <td>이 커튼봉도 같이 주문하면 되는 건가요?</td>\n",
       "      <td>구매</td>\n",
       "      <td>제품</td>\n",
       "      <td>0.866472</td>\n",
       "    </tr>\n",
       "    <tr>\n",
       "      <th>...</th>\n",
       "      <td>...</td>\n",
       "      <td>...</td>\n",
       "      <td>...</td>\n",
       "      <td>...</td>\n",
       "    </tr>\n",
       "    <tr>\n",
       "      <th>652538</th>\n",
       "      <td>116CM 인데 어떻게 주문해야 할지요?</td>\n",
       "      <td>결제</td>\n",
       "      <td>제품</td>\n",
       "      <td>0.833460</td>\n",
       "    </tr>\n",
       "    <tr>\n",
       "      <th>652540</th>\n",
       "      <td>길이 225CM 인데 구매 가능한가요?</td>\n",
       "      <td>결제</td>\n",
       "      <td>제품</td>\n",
       "      <td>0.817429</td>\n",
       "    </tr>\n",
       "    <tr>\n",
       "      <th>652542</th>\n",
       "      <td>폭이 116이면 어케 구매 하나요?</td>\n",
       "      <td>결제</td>\n",
       "      <td>제품</td>\n",
       "      <td>0.833325</td>\n",
       "    </tr>\n",
       "    <tr>\n",
       "      <th>652899</th>\n",
       "      <td>2센티220 보슬이 10개 5센티 80까슬이 2개 맞죠?</td>\n",
       "      <td>결제</td>\n",
       "      <td>제품</td>\n",
       "      <td>0.903465</td>\n",
       "    </tr>\n",
       "    <tr>\n",
       "      <th>652933</th>\n",
       "      <td>지름 20센티 정도 한 묶음 다 풀어서, 길이 재볼까요?</td>\n",
       "      <td>배송</td>\n",
       "      <td>제품</td>\n",
       "      <td>0.910386</td>\n",
       "    </tr>\n",
       "  </tbody>\n",
       "</table>\n",
       "<p>9481 rows × 4 columns</p>\n",
       "</div>"
      ],
      "text/plain": [
       "                                    발화문    인텐트 prediction     probs\n",
       "126                  혹시 세로 길이 연장 가능한가요?     AS         제품  0.893867\n",
       "212                  스냅은 상품당 3개 오는 건가요?     행사         제품  0.877267\n",
       "246     기장을 33CM 정도로 더 짧게 하고 싶은데 가능한가요?     구매         제품  0.871912\n",
       "335                    설치하려면 벽 뚫어야 하나요?  부가서비스         제품  0.830732\n",
       "342              이 커튼봉도 같이 주문하면 되는 건가요?     구매         제품  0.866472\n",
       "...                                 ...    ...        ...       ...\n",
       "652538           116CM 인데 어떻게 주문해야 할지요?     결제         제품  0.833460\n",
       "652540            길이 225CM 인데 구매 가능한가요?     결제         제품  0.817429\n",
       "652542              폭이 116이면 어케 구매 하나요?     결제         제품  0.833325\n",
       "652899  2센티220 보슬이 10개 5센티 80까슬이 2개 맞죠?     결제         제품  0.903465\n",
       "652933  지름 20센티 정도 한 묶음 다 풀어서, 길이 재볼까요?     배송         제품  0.910386\n",
       "\n",
       "[9481 rows x 4 columns]"
      ]
     },
     "execution_count": 232,
     "metadata": {},
     "output_type": "execute_result"
    }
   ],
   "source": [
    "df = train_df.loc[incorrect]\n",
    "probs = sp.expit(train_results3[\"logits\"][incorrect].astype(np.float32)).max(\n",
    "    axis=-1\n",
    ")\n",
    "df[\"prediction\"] = le.classes_[train_results3[\"predictions\"][incorrect]]\n",
    "df[\"probs\"] = probs\n",
    "df[df[\"probs\"] >= 0.8]"
   ]
  },
  {
   "cell_type": "code",
   "execution_count": 250,
   "id": "4bb96fae-ff82-404d-9931-eed79ed895be",
   "metadata": {},
   "outputs": [
    {
     "name": "stdout",
     "output_type": "stream",
     "text": [
      "제품: 0.5833\n",
      "교환|반품|환불: 0.2144\n",
      "주문: 0.0981\n",
      "구매: 0.0380\n",
      "결제: 0.0180\n",
      "배송: 0.0078\n",
      "행사: 0.0062\n",
      "웹사이트: 0.0061\n",
      "AS: 0.0059\n",
      "포장: 0.0058\n",
      "부가서비스: 0.0058\n",
      "매장: 0.0058\n",
      "멤버십: 0.0058\n"
     ]
    }
   ],
   "source": [
    "probs = sp.expit(train_results3['logits'].astype(np.float32))\n",
    "prob = probs[61703]\n",
    "for l, p in zip(le.classes_[prob.argsort()[::-1]], prob[prob.argsort()[::-1]]):\n",
    "    print(f\"{l}: {p:.4f}\")"
   ]
  },
  {
   "cell_type": "code",
   "execution_count": 21,
   "id": "32206e80-094d-4c5e-bfad-951a6ba442fe",
   "metadata": {},
   "outputs": [
    {
     "data": {
      "application/vnd.jupyter.widget-view+json": {
       "model_id": "7370682f374d4ad48be080263115eee5",
       "version_major": 2,
       "version_minor": 0
      },
      "text/plain": [
       "  0%|          | 0/40813 [00:00<?, ?it/s]"
      ]
     },
     "metadata": {},
     "output_type": "display_data"
    },
    {
     "name": "stdout",
     "output_type": "stream",
     "text": [
      "f1        (micro): 0.9448\n",
      "prec      (macro): 0.7393\n",
      "recall    (macro): 0.6571\n",
      "f1        (macro): 0.6845\n",
      "prec   (weighted): 0.9408\n",
      "recall (weighted): 0.9448\n",
      "f1     (weighted): 0.9415\n"
     ]
    }
   ],
   "source": [
    "train_results = predict(\n",
    "    run_id=\"ca49adf0b85642a5bf22d86cfbe3782a\", device=device, mode=\"train\"\n",
    ")"
   ]
  },
  {
   "cell_type": "code",
   "execution_count": 81,
   "id": "290bf3aa-1246-44fb-bb01-ed19f43367e5",
   "metadata": {},
   "outputs": [
    {
     "data": {
      "text/html": [
       "<div>\n",
       "<style scoped>\n",
       "    .dataframe tbody tr th:only-of-type {\n",
       "        vertical-align: middle;\n",
       "    }\n",
       "\n",
       "    .dataframe tbody tr th {\n",
       "        vertical-align: top;\n",
       "    }\n",
       "\n",
       "    .dataframe thead th {\n",
       "        text-align: right;\n",
       "    }\n",
       "</style>\n",
       "<table border=\"1\" class=\"dataframe\">\n",
       "  <thead>\n",
       "    <tr style=\"text-align: right;\">\n",
       "      <th></th>\n",
       "      <th>intent</th>\n",
       "      <th>support</th>\n",
       "      <th># to tp</th>\n",
       "      <th># of predicted</th>\n",
       "      <th>precision</th>\n",
       "      <th>recall</th>\n",
       "      <th>f1</th>\n",
       "    </tr>\n",
       "  </thead>\n",
       "  <tbody>\n",
       "    <tr>\n",
       "      <th>0</th>\n",
       "      <td>AS</td>\n",
       "      <td>8261</td>\n",
       "      <td>6700</td>\n",
       "      <td>8297</td>\n",
       "      <td>0.807521</td>\n",
       "      <td>0.811040</td>\n",
       "      <td>0.809276</td>\n",
       "    </tr>\n",
       "    <tr>\n",
       "      <th>1</th>\n",
       "      <td>결제</td>\n",
       "      <td>11332</td>\n",
       "      <td>4558</td>\n",
       "      <td>6568</td>\n",
       "      <td>0.693971</td>\n",
       "      <td>0.402224</td>\n",
       "      <td>0.509274</td>\n",
       "    </tr>\n",
       "    <tr>\n",
       "      <th>2</th>\n",
       "      <td>교환|반품|환불</td>\n",
       "      <td>23707</td>\n",
       "      <td>21014</td>\n",
       "      <td>24482</td>\n",
       "      <td>0.858345</td>\n",
       "      <td>0.886405</td>\n",
       "      <td>0.872149</td>\n",
       "    </tr>\n",
       "    <tr>\n",
       "      <th>3</th>\n",
       "      <td>구매</td>\n",
       "      <td>4088</td>\n",
       "      <td>2521</td>\n",
       "      <td>3005</td>\n",
       "      <td>0.838935</td>\n",
       "      <td>0.616683</td>\n",
       "      <td>0.710842</td>\n",
       "    </tr>\n",
       "    <tr>\n",
       "      <th>4</th>\n",
       "      <td>매장</td>\n",
       "      <td>2059</td>\n",
       "      <td>1656</td>\n",
       "      <td>1835</td>\n",
       "      <td>0.902452</td>\n",
       "      <td>0.804274</td>\n",
       "      <td>0.850539</td>\n",
       "    </tr>\n",
       "    <tr>\n",
       "      <th>5</th>\n",
       "      <td>멤버십</td>\n",
       "      <td>404</td>\n",
       "      <td>160</td>\n",
       "      <td>232</td>\n",
       "      <td>0.689655</td>\n",
       "      <td>0.396040</td>\n",
       "      <td>0.503145</td>\n",
       "    </tr>\n",
       "    <tr>\n",
       "      <th>6</th>\n",
       "      <td>배송</td>\n",
       "      <td>156965</td>\n",
       "      <td>150139</td>\n",
       "      <td>157537</td>\n",
       "      <td>0.953040</td>\n",
       "      <td>0.956513</td>\n",
       "      <td>0.954773</td>\n",
       "    </tr>\n",
       "    <tr>\n",
       "      <th>7</th>\n",
       "      <td>부가서비스</td>\n",
       "      <td>2578</td>\n",
       "      <td>1728</td>\n",
       "      <td>2473</td>\n",
       "      <td>0.698746</td>\n",
       "      <td>0.670287</td>\n",
       "      <td>0.684221</td>\n",
       "    </tr>\n",
       "    <tr>\n",
       "      <th>8</th>\n",
       "      <td>웹사이트</td>\n",
       "      <td>3089</td>\n",
       "      <td>752</td>\n",
       "      <td>1263</td>\n",
       "      <td>0.595408</td>\n",
       "      <td>0.243444</td>\n",
       "      <td>0.345588</td>\n",
       "    </tr>\n",
       "    <tr>\n",
       "      <th>9</th>\n",
       "      <td>제품</td>\n",
       "      <td>417927</td>\n",
       "      <td>408158</td>\n",
       "      <td>423804</td>\n",
       "      <td>0.963082</td>\n",
       "      <td>0.976625</td>\n",
       "      <td>0.969806</td>\n",
       "    </tr>\n",
       "    <tr>\n",
       "      <th>10</th>\n",
       "      <td>주문</td>\n",
       "      <td>760</td>\n",
       "      <td>0</td>\n",
       "      <td>1</td>\n",
       "      <td>0.000000</td>\n",
       "      <td>0.000000</td>\n",
       "      <td>0.000000</td>\n",
       "    </tr>\n",
       "    <tr>\n",
       "      <th>11</th>\n",
       "      <td>포장</td>\n",
       "      <td>2586</td>\n",
       "      <td>2278</td>\n",
       "      <td>2965</td>\n",
       "      <td>0.768297</td>\n",
       "      <td>0.880897</td>\n",
       "      <td>0.820753</td>\n",
       "    </tr>\n",
       "    <tr>\n",
       "      <th>12</th>\n",
       "      <td>행사</td>\n",
       "      <td>19238</td>\n",
       "      <td>17266</td>\n",
       "      <td>20532</td>\n",
       "      <td>0.840931</td>\n",
       "      <td>0.897495</td>\n",
       "      <td>0.868293</td>\n",
       "    </tr>\n",
       "  </tbody>\n",
       "</table>\n",
       "</div>"
      ],
      "text/plain": [
       "      intent  support  # to tp  # of predicted  precision    recall        f1\n",
       "0         AS     8261     6700            8297   0.807521  0.811040  0.809276\n",
       "1         결제    11332     4558            6568   0.693971  0.402224  0.509274\n",
       "2   교환|반품|환불    23707    21014           24482   0.858345  0.886405  0.872149\n",
       "3         구매     4088     2521            3005   0.838935  0.616683  0.710842\n",
       "4         매장     2059     1656            1835   0.902452  0.804274  0.850539\n",
       "5        멤버십      404      160             232   0.689655  0.396040  0.503145\n",
       "6         배송   156965   150139          157537   0.953040  0.956513  0.954773\n",
       "7      부가서비스     2578     1728            2473   0.698746  0.670287  0.684221\n",
       "8       웹사이트     3089      752            1263   0.595408  0.243444  0.345588\n",
       "9         제품   417927   408158          423804   0.963082  0.976625  0.969806\n",
       "10        주문      760        0               1   0.000000  0.000000  0.000000\n",
       "11        포장     2586     2278            2965   0.768297  0.880897  0.820753\n",
       "12        행사    19238    17266           20532   0.840931  0.897495  0.868293"
      ]
     },
     "execution_count": 81,
     "metadata": {},
     "output_type": "execute_result"
    }
   ],
   "source": [
    "df = train_results[\"df\"]\n",
    "df[\"precision\"] = train_results[\"prec\"]\n",
    "df[\"recall\"] = train_results[\"recall\"]\n",
    "df[\"f1\"] = train_results[\"f1\"]\n",
    "df"
   ]
  },
  {
   "cell_type": "code",
   "execution_count": 78,
   "id": "35fc4628-a91e-4bf6-ba8b-7eccb89ec426",
   "metadata": {
    "scrolled": true,
    "tags": []
   },
   "outputs": [
    {
     "data": {
      "text/html": [
       "<div>\n",
       "<style scoped>\n",
       "    .dataframe tbody tr th:only-of-type {\n",
       "        vertical-align: middle;\n",
       "    }\n",
       "\n",
       "    .dataframe tbody tr th {\n",
       "        vertical-align: top;\n",
       "    }\n",
       "\n",
       "    .dataframe thead th {\n",
       "        text-align: right;\n",
       "    }\n",
       "</style>\n",
       "<table border=\"1\" class=\"dataframe\">\n",
       "  <thead>\n",
       "    <tr style=\"text-align: right;\">\n",
       "      <th></th>\n",
       "      <th>발화문</th>\n",
       "      <th>인텐트</th>\n",
       "      <th>prediction</th>\n",
       "      <th>probs (gt)</th>\n",
       "      <th>probs (pred)</th>\n",
       "      <th>rank (gt)</th>\n",
       "    </tr>\n",
       "  </thead>\n",
       "  <tbody>\n",
       "    <tr>\n",
       "      <th>6</th>\n",
       "      <td>주문 가능할까요?</td>\n",
       "      <td>주문</td>\n",
       "      <td>제품</td>\n",
       "      <td>0.217310</td>\n",
       "      <td>0.537848</td>\n",
       "      <td>2</td>\n",
       "    </tr>\n",
       "    <tr>\n",
       "      <th>44</th>\n",
       "      <td>제가 잘못 이해하고 주문한 걸까요?</td>\n",
       "      <td>주문</td>\n",
       "      <td>결제</td>\n",
       "      <td>0.065040</td>\n",
       "      <td>0.544570</td>\n",
       "      <td>4</td>\n",
       "    </tr>\n",
       "    <tr>\n",
       "      <th>239</th>\n",
       "      <td>아이보리좌, 우각각 270으로 주문했는데요 이렇게 하는 게 맞는 것인가요?</td>\n",
       "      <td>주문</td>\n",
       "      <td>제품</td>\n",
       "      <td>0.221664</td>\n",
       "      <td>0.652782</td>\n",
       "      <td>2</td>\n",
       "    </tr>\n",
       "    <tr>\n",
       "      <th>272</th>\n",
       "      <td>작년 12월 제품 주문하여 아주 잘 사용하고 있습니다 대형 하나만 필요한데 한 개만...</td>\n",
       "      <td>주문</td>\n",
       "      <td>제품</td>\n",
       "      <td>0.109709</td>\n",
       "      <td>0.597731</td>\n",
       "      <td>3</td>\n",
       "    </tr>\n",
       "    <tr>\n",
       "      <th>293</th>\n",
       "      <td>두 장으로 가능하까요 아님네 장하는 게 졸까요?</td>\n",
       "      <td>주문</td>\n",
       "      <td>제품</td>\n",
       "      <td>0.063245</td>\n",
       "      <td>0.730189</td>\n",
       "      <td>3</td>\n",
       "    </tr>\n",
       "    <tr>\n",
       "      <th>...</th>\n",
       "      <td>...</td>\n",
       "      <td>...</td>\n",
       "      <td>...</td>\n",
       "      <td>...</td>\n",
       "      <td>...</td>\n",
       "      <td>...</td>\n",
       "    </tr>\n",
       "    <tr>\n",
       "      <th>61080</th>\n",
       "      <td>방금 핑크로 주문했는데요블루로 바꿀 수 있나요?</td>\n",
       "      <td>주문</td>\n",
       "      <td>제품</td>\n",
       "      <td>0.169609</td>\n",
       "      <td>0.527558</td>\n",
       "      <td>3</td>\n",
       "    </tr>\n",
       "    <tr>\n",
       "      <th>61131</th>\n",
       "      <td>두 세트 주문했는데 그럼 100개 아닌가요?</td>\n",
       "      <td>주문</td>\n",
       "      <td>배송</td>\n",
       "      <td>0.021442</td>\n",
       "      <td>0.485875</td>\n",
       "      <td>4</td>\n",
       "    </tr>\n",
       "    <tr>\n",
       "      <th>61425</th>\n",
       "      <td>프레임만 주문 가능한지요?</td>\n",
       "      <td>주문</td>\n",
       "      <td>제품</td>\n",
       "      <td>0.070103</td>\n",
       "      <td>0.634659</td>\n",
       "      <td>3</td>\n",
       "    </tr>\n",
       "    <tr>\n",
       "      <th>61703</th>\n",
       "      <td>그린주문했는데 혹시 핑크색으로 변경 가능한가요?</td>\n",
       "      <td>주문</td>\n",
       "      <td>제품</td>\n",
       "      <td>0.187044</td>\n",
       "      <td>0.549752</td>\n",
       "      <td>3</td>\n",
       "    </tr>\n",
       "    <tr>\n",
       "      <th>61752</th>\n",
       "      <td>어제.주문했는데요. 색상을 블루로 변경해 주실 수 있을까요?</td>\n",
       "      <td>주문</td>\n",
       "      <td>제품</td>\n",
       "      <td>0.145092</td>\n",
       "      <td>0.559464</td>\n",
       "      <td>3</td>\n",
       "    </tr>\n",
       "  </tbody>\n",
       "</table>\n",
       "<p>760 rows × 6 columns</p>\n",
       "</div>"
      ],
      "text/plain": [
       "                                                     발화문 인텐트 prediction  \\\n",
       "6                                              주문 가능할까요?  주문         제품   \n",
       "44                                   제가 잘못 이해하고 주문한 걸까요?  주문         결제   \n",
       "239            아이보리좌, 우각각 270으로 주문했는데요 이렇게 하는 게 맞는 것인가요?  주문         제품   \n",
       "272    작년 12월 제품 주문하여 아주 잘 사용하고 있습니다 대형 하나만 필요한데 한 개만...  주문         제품   \n",
       "293                           두 장으로 가능하까요 아님네 장하는 게 졸까요?  주문         제품   \n",
       "...                                                  ...  ..        ...   \n",
       "61080                         방금 핑크로 주문했는데요블루로 바꿀 수 있나요?  주문         제품   \n",
       "61131                           두 세트 주문했는데 그럼 100개 아닌가요?  주문         배송   \n",
       "61425                                     프레임만 주문 가능한지요?  주문         제품   \n",
       "61703                         그린주문했는데 혹시 핑크색으로 변경 가능한가요?  주문         제품   \n",
       "61752                  어제.주문했는데요. 색상을 블루로 변경해 주실 수 있을까요?  주문         제품   \n",
       "\n",
       "       probs (gt)  probs (pred)  rank (gt)  \n",
       "6        0.217310      0.537848          2  \n",
       "44       0.065040      0.544570          4  \n",
       "239      0.221664      0.652782          2  \n",
       "272      0.109709      0.597731          3  \n",
       "293      0.063245      0.730189          3  \n",
       "...           ...           ...        ...  \n",
       "61080    0.169609      0.527558          3  \n",
       "61131    0.021442      0.485875          4  \n",
       "61425    0.070103      0.634659          3  \n",
       "61703    0.187044      0.549752          3  \n",
       "61752    0.145092      0.559464          3  \n",
       "\n",
       "[760 rows x 6 columns]"
      ]
     },
     "execution_count": 78,
     "metadata": {},
     "output_type": "execute_result"
    }
   ],
   "source": [
    "gt = train_results[\"gt\"]\n",
    "predictions = train_results[\"predictions\"]\n",
    "logits = train_results[\"logits\"]\n",
    "\n",
    "incorrect = np.where(gt != predictions)[0]\n",
    "\n",
    "df = train_df.loc[incorrect]\n",
    "probs = sp.softmax(logits[incorrect].astype(np.float32), axis=-1)\n",
    "ranks = np.where(probs.argsort(axis=-1)[..., ::-1] == gt[incorrect, None])[1] + 1\n",
    "\n",
    "df[\"prediction\"] = le.classes_[predictions[incorrect]]\n",
    "df[\"probs (gt)\"] = probs[(np.arange(len(incorrect)), gt[incorrect])]\n",
    "df[\"probs (pred)\"] = probs.max(axis=-1)\n",
    "df[\"rank (gt)\"] = ranks\n",
    "df[(df[\"인텐트\"] == \"주문\") & (df[\"probs (pred)\"] > 0)]"
   ]
  },
  {
   "cell_type": "code",
   "execution_count": 210,
   "id": "656aab29-680c-49d7-8074-d2d2139fd820",
   "metadata": {},
   "outputs": [
    {
     "data": {
      "text/plain": [
       "제품          680\n",
       "배송           29\n",
       "결제           27\n",
       "행사            7\n",
       "AS            6\n",
       "구매            5\n",
       "교환|반품|환불      4\n",
       "웹사이트          2\n",
       "Name: prediction, dtype: int64"
      ]
     },
     "execution_count": 210,
     "metadata": {},
     "output_type": "execute_result"
    }
   ],
   "source": [
    "df[df['인텐트'] == '주문']['prediction'].value_counts()"
   ]
  },
  {
   "cell_type": "markdown",
   "id": "93693af3-6173-42f7-b9f4-9e66d624f3eb",
   "metadata": {},
   "source": [
    "# Backtranslation"
   ]
  },
  {
   "cell_type": "code",
   "execution_count": 9,
   "id": "d9df7c13-a37a-4720-890e-159de1a73734",
   "metadata": {},
   "outputs": [],
   "source": [
    "ridx = np.random.choice(len(train_df), size=100, replace=False)\n",
    "filtered_df = train_df.loc[ridx]"
   ]
  },
  {
   "cell_type": "code",
   "execution_count": 11,
   "id": "62924429-0bae-43b0-bcc1-c05f61c6b1b0",
   "metadata": {},
   "outputs": [],
   "source": [
    "filtered_df.to_csv(\"data/train_sampling.csv\", index=False)"
   ]
  },
  {
   "cell_type": "code",
   "execution_count": 63,
   "id": "6c17ecd3-930f-4599-8db7-80c32f88ba36",
   "metadata": {},
   "outputs": [
    {
     "name": "stdout",
     "output_type": "stream",
     "text": [
      "# of augmented data: 458,451\n",
      "# of remaining train set: 468,245\n",
      "CPU times: user 11.2 s, sys: 132 ms, total: 11.3 s\n",
      "Wall time: 11.2 s\n"
     ]
    },
    {
     "data": {
      "text/html": [
       "<div>\n",
       "<style scoped>\n",
       "    .dataframe tbody tr th:only-of-type {\n",
       "        vertical-align: middle;\n",
       "    }\n",
       "\n",
       "    .dataframe tbody tr th {\n",
       "        vertical-align: top;\n",
       "    }\n",
       "\n",
       "    .dataframe thead th {\n",
       "        text-align: right;\n",
       "    }\n",
       "</style>\n",
       "<table border=\"1\" class=\"dataframe\">\n",
       "  <thead>\n",
       "    <tr style=\"text-align: right;\">\n",
       "      <th></th>\n",
       "      <th>intent</th>\n",
       "    </tr>\n",
       "  </thead>\n",
       "  <tbody>\n",
       "    <tr>\n",
       "      <th>제품</th>\n",
       "      <td>417905</td>\n",
       "    </tr>\n",
       "    <tr>\n",
       "      <th>배송</th>\n",
       "      <td>50340</td>\n",
       "    </tr>\n",
       "  </tbody>\n",
       "</table>\n",
       "</div>"
      ],
      "text/plain": [
       "    intent\n",
       "제품  417905\n",
       "배송   50340"
      ]
     },
     "execution_count": 63,
     "metadata": {},
     "output_type": "execute_result"
    }
   ],
   "source": [
    "%%time\n",
    "\n",
    "augmented_data = joblib.load(\"outputs/backtranslation/back_translated.v4.joblib\")\n",
    "data = joblib.load(\"cache/ccf8721efb9be116be1cff94d0b2b5b1/data.joblib\")\n",
    "\n",
    "print(f\"# of augmented data: {len(augmented_data):,}\")\n",
    "print(f\"# of remaining train set: {len(data['xs']):,}\")\n",
    "\n",
    "pd.DataFrame(pd.DataFrame({\"intent\": data[\"ys\"]})[\"intent\"].value_counts())"
   ]
  },
  {
   "cell_type": "code",
   "execution_count": 82,
   "id": "65026528-c5f4-432e-8dff-39d07033601a",
   "metadata": {},
   "outputs": [],
   "source": [
    "augmented_data = joblib.load(\"outputs/backtranslation/back_translated.v4.joblib\")\n",
    "texts, labels = zip(*augmented_data)\n",
    "df = pd.DataFrame({\"발화문\": texts, \"인텐트\": labels})\n",
    "df['발화문'] = df['발화문'].apply(lambda t: np.nan if t.strip() == \"\" else t)\n",
    "df = df.dropna().drop_duplicates().reset_index(drop=True)\n",
    "df.to_csv(\"data/back.v11.csv\", index=False)"
   ]
  },
  {
   "cell_type": "code",
   "execution_count": 83,
   "id": "56d8ca8c-31d5-421d-a92c-05edeea37882",
   "metadata": {},
   "outputs": [
    {
     "data": {
      "application/vnd.jupyter.widget-view+json": {
       "model_id": "",
       "version_major": 2,
       "version_minor": 0
      },
      "text/plain": [
       "  0%|          | 0/28653 [00:00<?, ?it/s]"
      ]
     },
     "metadata": {},
     "output_type": "display_data"
    },
    {
     "name": "stdout",
     "output_type": "stream",
     "text": [
      "f1        (micro): 0.5530\n",
      "prec      (macro): 0.4860\n",
      "recall    (macro): 0.3495\n",
      "f1        (macro): 0.3301\n",
      "prec   (weighted): 0.7691\n",
      "recall (weighted): 0.5530\n",
      "f1     (weighted): 0.6252\n"
     ]
    }
   ],
   "source": [
    "back_v11_results = predict(\n",
    "    run_id=\"ca49adf0b85642a5bf22d86cfbe3782a\", device, aug_filename=\"back.v11.csv\"\n",
    ")"
   ]
  },
  {
   "cell_type": "code",
   "execution_count": 117,
   "id": "edb1e879-50be-46bd-aeb3-06292c07c1a4",
   "metadata": {},
   "outputs": [],
   "source": [
    "probs = sp.softmax(back_v11_results[\"logits\"].astype(np.float32), axis=-1).max(axis=-1)\n",
    "predictions = back_v11_results[\"predictions\"]\n",
    "gt = back_v11_results[\"gt\"]\n",
    "correct = np.where(gt == predictions)[0]\n",
    "tmp_df = pd.concat([df, pd.DataFrame({\"prob\": probs})], axis=1)\n",
    "filtered_df = tmp_df.loc[correct]\n",
    "filtered_df = filtered_df[filtered_df[\"prob\"] >= 0.7]\n",
    "\n",
    "merged_df = (\n",
    "    pd.concat([train_df, filtered_df[[\"발화문\", \"인텐트\"]]])\n",
    "    .dropna()\n",
    "    .drop_duplicates()\n",
    "    .reset_index(drop=True)\n",
    ")\n",
    "merged_df.to_csv(\"data/train+back.v11.csv\", index=False)"
   ]
  },
  {
   "cell_type": "markdown",
   "id": "a179d86e-47b0-4c70-9b11-5acbe8202356",
   "metadata": {},
   "source": [
    "---"
   ]
  },
  {
   "cell_type": "markdown",
   "id": "d25bc7b2-5214-45ea-b23b-3057bdcb4938",
   "metadata": {},
   "source": [
    "# GPT2"
   ]
  },
  {
   "cell_type": "markdown",
   "id": "c418914b-0778-450a-be1e-0437317d2261",
   "metadata": {},
   "source": [
    "## Load Model & Tokenizer"
   ]
  },
  {
   "cell_type": "code",
   "execution_count": 6,
   "id": "8eff6599-8bdf-4a5d-b8d6-e488ab359d72",
   "metadata": {},
   "outputs": [],
   "source": [
    "pretrained_model_name = \"skt/kogpt2-base-v2\"\n",
    "tokenizer = AutoTokenizer.from_pretrained(\n",
    "    pretrained_model_name,\n",
    "    bos_token=\"</s>\",\n",
    "    eos_token=\"</s>\",\n",
    "    unk_token=\"<unk>\",\n",
    "    pad_token=\"<pad>\",\n",
    "    mask_token=\"<mask>\",\n",
    ")\n",
    "model = AutoModelForCausalLM.from_pretrained(pretrained_model_name)\n",
    "_ = model.to(device)"
   ]
  },
  {
   "cell_type": "code",
   "execution_count": 7,
   "id": "5ccabded-5c94-4e1c-b47b-2a63a60e3a4e",
   "metadata": {},
   "outputs": [],
   "source": [
    "run_id = \"ff7662944c014a1d9d774fd8e7edff8b\"\n",
    "ckpt_path = get_ckpt_path(log_dir=\"./logs\", run_id=run_id)\n",
    "load_model_state(model, ckpt_path, substitution=(r\"^model\\.\", \"\"))"
   ]
  },
  {
   "cell_type": "markdown",
   "id": "f3095411-25d9-4260-9a9e-d9d0606476e3",
   "metadata": {
    "tags": []
   },
   "source": [
    "## Preprocessing Data"
   ]
  },
  {
   "cell_type": "code",
   "execution_count": 227,
   "id": "a31618b0-a7be-4637-90cb-410e40b6a986",
   "metadata": {},
   "outputs": [
    {
     "name": "stdout",
     "output_type": "stream",
     "text": [
      "CPU times: user 1min 25s, sys: 4.57 s, total: 1min 29s\n",
      "Wall time: 34 s\n"
     ]
    }
   ],
   "source": [
    "%%time\n",
    "\n",
    "# <unused1> ~ <unused13>\n",
    "label_token_id_map = {le.classes_[i]: 10 + i for i in range(le.classes_.size)}\n",
    "\n",
    "# <unused0>\n",
    "sep_token_id = 9\n",
    "\n",
    "os.environ[\"TOKENIZERS_PARALLELISM\"] = \"true\"\n",
    "\n",
    "inputs = tokenizer(train_df[\"발화문\"].tolist())\n",
    "\n",
    "y = train_df[\"인텐트\"].tolist()\n",
    "input_ids = list(\n",
    "    chain(\n",
    "        *[\n",
    "            [label_token_id_map[y[i]]] + [sep_token_id] + ids + [tokenizer.eos_token_id]\n",
    "            for i, ids in enumerate(inputs[\"input_ids\"])\n",
    "        ]\n",
    "    )\n",
    ")\n",
    "\n",
    "block_size = 128\n",
    "total_length = len(input_ids)\n",
    "num_blocks = get_num_batches(block_size, total_length)\n",
    "input_ids = [\n",
    "    input_ids[i * block_size : (i + 1) * block_size] for i in range(num_blocks)\n",
    "]\n",
    "input_ids[-1].extend([tokenizer.pad_token_id] * (block_size - len(input_ids[-1])))\n",
    "input_ids = torch.tensor(input_ids)\n",
    "attention_mask = torch.ones(len(result), block_size, dtype=torch.long)\n",
    "attention_mask[-1, -num_pads:] = 0"
   ]
  },
  {
   "cell_type": "code",
   "execution_count": 217,
   "id": "fcc277fc-d2ca-40a1-a19b-ec324723da47",
   "metadata": {},
   "outputs": [],
   "source": [
    "batch_size = 8\n",
    "batch_input_ids = torch.tensor(input_ids[:batch_size])\n",
    "batch_attention_mask = attention_mask[:batch_size]\n",
    "\n",
    "output = model(\n",
    "    input_ids=batch_input_ids.to(device),\n",
    "    attention_mask=batch_attention_mask.to(device),\n",
    "    labels=batch_input_ids.to(device),\n",
    ")"
   ]
  },
  {
   "cell_type": "markdown",
   "id": "0875f62b-1cbd-442a-94a6-59f1863fec91",
   "metadata": {},
   "source": [
    "---"
   ]
  },
  {
   "cell_type": "code",
   "execution_count": 16,
   "id": "f7e4708f-9c02-4cd0-9336-3f48230a5a18",
   "metadata": {},
   "outputs": [
    {
     "name": "stdout",
     "output_type": "stream",
     "text": [
      "AS: <unused1>\n",
      "결제: <unused2>\n",
      "교환|반품|환불: <unused3>\n",
      "구매: <unused4>\n",
      "매장: <unused5>\n",
      "멤버십: <unused6>\n",
      "배송: <unused7>\n",
      "부가서비스: <unused8>\n",
      "웹사이트: <unused9>\n",
      "제품: <unused10>\n",
      "주문: <unused11>\n",
      "포장: <unused12>\n",
      "행사: <unused13>\n"
     ]
    }
   ],
   "source": [
    "for i, label in enumerate(le.classes_, start=1):\n",
    "    print(f\"{label}: <unused{i}>\")"
   ]
  },
  {
   "cell_type": "code",
   "execution_count": 88,
   "id": "aa88dad8-d991-4b1a-a5e7-17da6d0a76a4",
   "metadata": {},
   "outputs": [
    {
     "data": {
      "text/html": [
       "<div>\n",
       "<style scoped>\n",
       "    .dataframe tbody tr th:only-of-type {\n",
       "        vertical-align: middle;\n",
       "    }\n",
       "\n",
       "    .dataframe tbody tr th {\n",
       "        vertical-align: top;\n",
       "    }\n",
       "\n",
       "    .dataframe thead th {\n",
       "        text-align: right;\n",
       "    }\n",
       "</style>\n",
       "<table border=\"1\" class=\"dataframe\">\n",
       "  <thead>\n",
       "    <tr style=\"text-align: right;\">\n",
       "      <th></th>\n",
       "      <th>발화문</th>\n",
       "      <th>인텐트</th>\n",
       "    </tr>\n",
       "  </thead>\n",
       "  <tbody>\n",
       "    <tr>\n",
       "      <th>217</th>\n",
       "      <td>빨리 주문해야 담주 안에 설치할 수 있지 않을까요?</td>\n",
       "      <td>부가서비스</td>\n",
       "    </tr>\n",
       "    <tr>\n",
       "      <th>226</th>\n",
       "      <td>드레스룸의 작은 창에 설치하고 싶은데요 주문 가능할까요?</td>\n",
       "      <td>부가서비스</td>\n",
       "    </tr>\n",
       "    <tr>\n",
       "      <th>335</th>\n",
       "      <td>설치하려면 벽 뚫어야 하나요?</td>\n",
       "      <td>부가서비스</td>\n",
       "    </tr>\n",
       "    <tr>\n",
       "      <th>496</th>\n",
       "      <td>롯데 상품 4 - 5개 구입 예정인데.설치가 눙할까요?</td>\n",
       "      <td>부가서비스</td>\n",
       "    </tr>\n",
       "    <tr>\n",
       "      <th>749</th>\n",
       "      <td>봉 설치 부자재도 오는 거 맞지요?</td>\n",
       "      <td>부가서비스</td>\n",
       "    </tr>\n",
       "    <tr>\n",
       "      <th>...</th>\n",
       "      <td>...</td>\n",
       "      <td>...</td>\n",
       "    </tr>\n",
       "    <tr>\n",
       "      <th>412373</th>\n",
       "      <td>윈도우 10 설치 비용은 얼마로 책정되었나요?</td>\n",
       "      <td>부가서비스</td>\n",
       "    </tr>\n",
       "    <tr>\n",
       "      <th>412436</th>\n",
       "      <td>에어컨 수거서비스 신청시 비용 발생해요?</td>\n",
       "      <td>부가서비스</td>\n",
       "    </tr>\n",
       "    <tr>\n",
       "      <th>412437</th>\n",
       "      <td>이 매장에서 에어컨 샀는데 기존 에어컨 수거는 무료인가요?</td>\n",
       "      <td>부가서비스</td>\n",
       "    </tr>\n",
       "    <tr>\n",
       "      <th>412448</th>\n",
       "      <td>에어컨 설치하러 10월 28일에 오시는 거죠?</td>\n",
       "      <td>부가서비스</td>\n",
       "    </tr>\n",
       "    <tr>\n",
       "      <th>412449</th>\n",
       "      <td>오늘 수거서비스 신청하면 내일 수거하러 오시나요?</td>\n",
       "      <td>부가서비스</td>\n",
       "    </tr>\n",
       "  </tbody>\n",
       "</table>\n",
       "<p>2578 rows × 2 columns</p>\n",
       "</div>"
      ],
      "text/plain": [
       "                                     발화문    인텐트\n",
       "217         빨리 주문해야 담주 안에 설치할 수 있지 않을까요?  부가서비스\n",
       "226      드레스룸의 작은 창에 설치하고 싶은데요 주문 가능할까요?  부가서비스\n",
       "335                     설치하려면 벽 뚫어야 하나요?  부가서비스\n",
       "496       롯데 상품 4 - 5개 구입 예정인데.설치가 눙할까요?  부가서비스\n",
       "749                  봉 설치 부자재도 오는 거 맞지요?  부가서비스\n",
       "...                                  ...    ...\n",
       "412373         윈도우 10 설치 비용은 얼마로 책정되었나요?  부가서비스\n",
       "412436            에어컨 수거서비스 신청시 비용 발생해요?  부가서비스\n",
       "412437  이 매장에서 에어컨 샀는데 기존 에어컨 수거는 무료인가요?  부가서비스\n",
       "412448         에어컨 설치하러 10월 28일에 오시는 거죠?  부가서비스\n",
       "412449       오늘 수거서비스 신청하면 내일 수거하러 오시나요?  부가서비스\n",
       "\n",
       "[2578 rows x 2 columns]"
      ]
     },
     "execution_count": 88,
     "metadata": {},
     "output_type": "execute_result"
    }
   ],
   "source": [
    "train_df[train_df['인텐트'] == '부가서비스']"
   ]
  },
  {
   "cell_type": "code",
   "execution_count": 101,
   "id": "2b088d01-ae70-4d5a-86c2-147913a28855",
   "metadata": {},
   "outputs": [
    {
     "name": "stdout",
     "output_type": "stream",
     "text": [
      "0:\n",
      "혹시 배송 중일 시에 배송이 어려울까요?\n",
      "\n",
      "1:\n",
      "혹시 지금 결제하고 바로 설치 가능한지요?\n",
      "\n",
      "2:\n",
      "혹시 위의 사진대로 화이트+화이트로 변경 가능한가요?\n",
      "\n",
      "3:\n",
      "빠른 처리 부탁드리구요. 상품 구매 목록에 W3 화이트는 현재 품절로 확인되는데 교환 가능한가요?\n",
      "\n",
      "4:\n",
      "혹시 오늘 배송해 주시는지요?\n",
      "\n"
     ]
    }
   ],
   "source": [
    "text = [\"<unused8><unused0>\"]\n",
    "inputs = tokenizer(text, return_tensors=\"pt\")\n",
    "output = model.generate(\n",
    "    inputs[\"input_ids\"].to(device),\n",
    "    max_length=100,\n",
    "    do_sample=True,\n",
    "    # num_beams=5,\n",
    "    # num_beam_groups=2,\n",
    "    top_k=50,\n",
    "    top_p=0.95,\n",
    "    # typical_p=0.5,\n",
    "    num_return_sequences=5,\n",
    "    # repetition_penalty=2.0,\n",
    "    # temperature=0.7,\n",
    "    early_stopping=True,\n",
    "    pad_token_id=tokenizer.pad_token_id,\n",
    "    eos_token_id=tokenizer.eos_token_id,\n",
    "    bos_token_id=tokenizer.bos_token_id,\n",
    ")\n",
    "sentences = tokenizer.batch_decode(output, skip_special_tokens=True)\n",
    "\n",
    "for i, sentence in enumerate(sentences):\n",
    "    print(f\"{i}:\\n{sentence}\\n\")"
   ]
  },
  {
   "cell_type": "code",
   "execution_count": 8,
   "id": "70798ed7-c0ee-4cd7-b295-a57467ff2059",
   "metadata": {},
   "outputs": [],
   "source": [
    "aug_data = joblib.load(\"outputs/gpt2_aug_data.joblib\")"
   ]
  },
  {
   "cell_type": "code",
   "execution_count": 10,
   "id": "09412730-2c1c-4529-961d-38089b426e40",
   "metadata": {
    "scrolled": true,
    "tags": []
   },
   "outputs": [
    {
     "data": {
      "application/vnd.jupyter.widget-view+json": {
       "model_id": "31102387f760400dbac3f000bffb6f6e",
       "version_major": 2,
       "version_minor": 0
      },
      "text/plain": [
       "  0%|          | 0/500000 [00:00<?, ?it/s]"
      ]
     },
     "metadata": {},
     "output_type": "display_data"
    },
    {
     "name": "stdout",
     "output_type": "stream",
     "text": [
      "CPU times: user 3h 13min, sys: 17min 23s, total: 3h 30min 23s\n",
      "Wall time: 3h 30min 12s\n"
     ]
    },
    {
     "data": {
      "text/html": [
       "<div>\n",
       "<style scoped>\n",
       "    .dataframe tbody tr th:only-of-type {\n",
       "        vertical-align: middle;\n",
       "    }\n",
       "\n",
       "    .dataframe tbody tr th {\n",
       "        vertical-align: top;\n",
       "    }\n",
       "\n",
       "    .dataframe thead th {\n",
       "        text-align: right;\n",
       "    }\n",
       "</style>\n",
       "<table border=\"1\" class=\"dataframe\">\n",
       "  <thead>\n",
       "    <tr style=\"text-align: right;\">\n",
       "      <th></th>\n",
       "      <th>발화문</th>\n",
       "      <th>인텐트</th>\n",
       "    </tr>\n",
       "  </thead>\n",
       "  <tbody>\n",
       "    <tr>\n",
       "      <th>0</th>\n",
       "      <td>빠른 처리 부탁드리며 오늘 배송 예약 햇는데 혹시 오늘 출고되는 건가요?</td>\n",
       "      <td>AS</td>\n",
       "    </tr>\n",
       "    <tr>\n",
       "      <th>1</th>\n",
       "      <td>오늘 샀는데 한 박스에 더 담겨 오나요?</td>\n",
       "      <td>결제</td>\n",
       "    </tr>\n",
       "    <tr>\n",
       "      <th>2</th>\n",
       "      <td>빨리 주문해서 받으셔서 설치 잘 부탁드립니다. 배송비도 가능한지요?</td>\n",
       "      <td>부가서비스</td>\n",
       "    </tr>\n",
       "    <tr>\n",
       "      <th>3</th>\n",
       "      <td>지금 구매하고 차후 사은품도 받을 수 있나요?</td>\n",
       "      <td>행사</td>\n",
       "    </tr>\n",
       "    <tr>\n",
       "      <th>4</th>\n",
       "      <td>혹시 저희가 배송해주시는 칫솔모 따로 구매해야 하나요?</td>\n",
       "      <td>매장</td>\n",
       "    </tr>\n",
       "    <tr>\n",
       "      <th>...</th>\n",
       "      <td>...</td>\n",
       "      <td>...</td>\n",
       "    </tr>\n",
       "    <tr>\n",
       "      <th>500332</th>\n",
       "      <td>11번 구매 햇는데 옵션 번호로 주문하면 되는 건가요?</td>\n",
       "      <td>주문</td>\n",
       "    </tr>\n",
       "    <tr>\n",
       "      <th>500333</th>\n",
       "      <td>오늘 혹시 워머세트 선물포장하시는 건가요?</td>\n",
       "      <td>제품</td>\n",
       "    </tr>\n",
       "    <tr>\n",
       "      <th>500334</th>\n",
       "      <td>혹시 지금 결제한 건도 취소 가능한지요?</td>\n",
       "      <td>배송</td>\n",
       "    </tr>\n",
       "    <tr>\n",
       "      <th>500335</th>\n",
       "      <td>혹시 윈도우 탑재 제품 구매 시 기존 브라우저로 인한 문제 및 기기 이상 있는 건 ...</td>\n",
       "      <td>매장</td>\n",
       "    </tr>\n",
       "    <tr>\n",
       "      <th>500336</th>\n",
       "      <td>거치대 및 외장 하드 중 HDMI 케이블 하나 추가로 구매하면 10센치 사은품은 언...</td>\n",
       "      <td>웹사이트</td>\n",
       "    </tr>\n",
       "  </tbody>\n",
       "</table>\n",
       "<p>500337 rows × 2 columns</p>\n",
       "</div>"
      ],
      "text/plain": [
       "                                                      발화문    인텐트\n",
       "0                빠른 처리 부탁드리며 오늘 배송 예약 햇는데 혹시 오늘 출고되는 건가요?     AS\n",
       "1                                  오늘 샀는데 한 박스에 더 담겨 오나요?     결제\n",
       "2                   빨리 주문해서 받으셔서 설치 잘 부탁드립니다. 배송비도 가능한지요?  부가서비스\n",
       "3                               지금 구매하고 차후 사은품도 받을 수 있나요?     행사\n",
       "4                          혹시 저희가 배송해주시는 칫솔모 따로 구매해야 하나요?     매장\n",
       "...                                                   ...    ...\n",
       "500332                     11번 구매 햇는데 옵션 번호로 주문하면 되는 건가요?     주문\n",
       "500333                            오늘 혹시 워머세트 선물포장하시는 건가요?     제품\n",
       "500334                             혹시 지금 결제한 건도 취소 가능한지요?     배송\n",
       "500335  혹시 윈도우 탑재 제품 구매 시 기존 브라우저로 인한 문제 및 기기 이상 있는 건 ...     매장\n",
       "500336  거치대 및 외장 하드 중 HDMI 케이블 하나 추가로 구매하면 10센치 사은품은 언...   웹사이트\n",
       "\n",
       "[500337 rows x 2 columns]"
      ]
     },
     "execution_count": 10,
     "metadata": {},
     "output_type": "execute_result"
    }
   ],
   "source": [
    "%%time\n",
    "n_samples = 100\n",
    "label_token_map = {le.classes_[i]: f\"<unused{i+1}>\" for i in range(le.classes_.size)}\n",
    "sep_token = \"<unused0>\"\n",
    "max_samples = 500000\n",
    "\n",
    "# aug_data = set()\n",
    "with tqdm(total=max_samples) as pbar:\n",
    "    pbar.update(len(aug_data))\n",
    "\n",
    "    while len(aug_data) < max_samples:\n",
    "        for label in le.classes_:\n",
    "            text = [label_token_map[label] + sep_token]\n",
    "            inputs = tokenizer(text, return_tensors=\"pt\")\n",
    "            output = model.generate(\n",
    "                inputs[\"input_ids\"].to(device),\n",
    "                max_length=100,\n",
    "                do_sample=True,\n",
    "                # num_beams=5,\n",
    "                # num_beam_groups=2,\n",
    "                top_k=50,\n",
    "                top_p=0.95,\n",
    "                # typical_p=0.5,\n",
    "                num_return_sequences=n_samples,\n",
    "                # repetition_penalty=2.0,\n",
    "                # temperature=0.7,\n",
    "                pad_token_id=tokenizer.pad_token_id,\n",
    "                eos_token_id=tokenizer.eos_token_id,\n",
    "                bos_token_id=tokenizer.bos_token_id,\n",
    "            )\n",
    "            sentences = tokenizer.batch_decode(output, skip_special_tokens=True)\n",
    "            num_aug_data = len(aug_data)\n",
    "            aug_data.update(set(zip(sentences, [label] * len(sentences))))\n",
    "            pbar.update(len(aug_data) - num_aug_data)\n",
    "\n",
    "xs, ys = zip(*aug_data)\n",
    "df = pd.DataFrame({\"발화문\": xs, \"인텐트\": ys})\n",
    "df"
   ]
  },
  {
   "cell_type": "code",
   "execution_count": 11,
   "id": "eddf589f-986c-4fee-ac97-339375b71334",
   "metadata": {},
   "outputs": [
    {
     "data": {
      "text/plain": [
       "['outputs/gpt2_aug_data.v2.joblib']"
      ]
     },
     "execution_count": 11,
     "metadata": {},
     "output_type": "execute_result"
    }
   ],
   "source": [
    "joblib.dump(aug_data, \"outputs/gpt2_aug_data.v2.joblib\")"
   ]
  },
  {
   "cell_type": "code",
   "execution_count": 13,
   "id": "b52bf524-fde1-4587-8085-c9fd864643e9",
   "metadata": {},
   "outputs": [
    {
     "data": {
      "application/vnd.jupyter.widget-view+json": {
       "model_id": "bcd14a160454436aa8e5d21e131a4c88",
       "version_major": 2,
       "version_minor": 0
      },
      "text/plain": [
       "  0%|          | 0/31272 [00:00<?, ?it/s]"
      ]
     },
     "metadata": {},
     "output_type": "display_data"
    },
    {
     "name": "stdout",
     "output_type": "stream",
     "text": [
      "f1        (micro): 0.1597\n",
      "prec      (macro): 0.1503\n",
      "recall    (macro): 0.1585\n",
      "f1        (macro): 0.1218\n",
      "prec   (weighted): 0.1533\n",
      "recall (weighted): 0.1597\n",
      "f1     (weighted): 0.1204\n"
     ]
    },
    {
     "data": {
      "text/html": [
       "<div>\n",
       "<style scoped>\n",
       "    .dataframe tbody tr th:only-of-type {\n",
       "        vertical-align: middle;\n",
       "    }\n",
       "\n",
       "    .dataframe tbody tr th {\n",
       "        vertical-align: top;\n",
       "    }\n",
       "\n",
       "    .dataframe thead th {\n",
       "        text-align: right;\n",
       "    }\n",
       "</style>\n",
       "<table border=\"1\" class=\"dataframe\">\n",
       "  <thead>\n",
       "    <tr style=\"text-align: right;\">\n",
       "      <th></th>\n",
       "      <th>발화문</th>\n",
       "      <th>인텐트</th>\n",
       "      <th>prediction</th>\n",
       "      <th>probs (gt)</th>\n",
       "      <th>probs (pred)</th>\n",
       "      <th>rank (gt)</th>\n",
       "    </tr>\n",
       "  </thead>\n",
       "  <tbody>\n",
       "    <tr>\n",
       "      <th>0</th>\n",
       "      <td>빠른 처리 부탁드리며 오늘 배송 예약 햇는데 혹시 오늘 출고되는 건가요?</td>\n",
       "      <td>AS</td>\n",
       "      <td>배송</td>\n",
       "      <td>0.000069</td>\n",
       "      <td>0.998635</td>\n",
       "      <td>5</td>\n",
       "    </tr>\n",
       "    <tr>\n",
       "      <th>1</th>\n",
       "      <td>오늘 샀는데 한 박스에 더 담겨 오나요?</td>\n",
       "      <td>결제</td>\n",
       "      <td>포장</td>\n",
       "      <td>0.001455</td>\n",
       "      <td>0.842569</td>\n",
       "      <td>6</td>\n",
       "    </tr>\n",
       "    <tr>\n",
       "      <th>2</th>\n",
       "      <td>빨리 주문해서 받으셔서 설치 잘 부탁드립니다. 배송비도 가능한지요?</td>\n",
       "      <td>부가서비스</td>\n",
       "      <td>배송</td>\n",
       "      <td>0.072400</td>\n",
       "      <td>0.915355</td>\n",
       "      <td>2</td>\n",
       "    </tr>\n",
       "    <tr>\n",
       "      <th>3</th>\n",
       "      <td>지금 구매하고 차후 사은품도 받을 수 있나요?</td>\n",
       "      <td>행사</td>\n",
       "      <td>행사</td>\n",
       "      <td>0.936409</td>\n",
       "      <td>0.936409</td>\n",
       "      <td>1</td>\n",
       "    </tr>\n",
       "    <tr>\n",
       "      <th>4</th>\n",
       "      <td>혹시 저희가 배송해주시는 칫솔모 따로 구매해야 하나요?</td>\n",
       "      <td>매장</td>\n",
       "      <td>제품</td>\n",
       "      <td>0.000098</td>\n",
       "      <td>0.960782</td>\n",
       "      <td>10</td>\n",
       "    </tr>\n",
       "    <tr>\n",
       "      <th>...</th>\n",
       "      <td>...</td>\n",
       "      <td>...</td>\n",
       "      <td>...</td>\n",
       "      <td>...</td>\n",
       "      <td>...</td>\n",
       "      <td>...</td>\n",
       "    </tr>\n",
       "    <tr>\n",
       "      <th>500332</th>\n",
       "      <td>11번 구매 햇는데 옵션 번호로 주문하면 되는 건가요?</td>\n",
       "      <td>주문</td>\n",
       "      <td>제품</td>\n",
       "      <td>0.027748</td>\n",
       "      <td>0.590100</td>\n",
       "      <td>4</td>\n",
       "    </tr>\n",
       "    <tr>\n",
       "      <th>500333</th>\n",
       "      <td>오늘 혹시 워머세트 선물포장하시는 건가요?</td>\n",
       "      <td>제품</td>\n",
       "      <td>포장</td>\n",
       "      <td>0.002578</td>\n",
       "      <td>0.992635</td>\n",
       "      <td>2</td>\n",
       "    </tr>\n",
       "    <tr>\n",
       "      <th>500334</th>\n",
       "      <td>혹시 지금 결제한 건도 취소 가능한지요?</td>\n",
       "      <td>배송</td>\n",
       "      <td>결제</td>\n",
       "      <td>0.005875</td>\n",
       "      <td>0.800432</td>\n",
       "      <td>3</td>\n",
       "    </tr>\n",
       "    <tr>\n",
       "      <th>500335</th>\n",
       "      <td>혹시 윈도우 탑재 제품 구매 시 기존 브라우저로 인한 문제 및 기기 이상 있는 건 ...</td>\n",
       "      <td>매장</td>\n",
       "      <td>제품</td>\n",
       "      <td>0.000031</td>\n",
       "      <td>0.998391</td>\n",
       "      <td>9</td>\n",
       "    </tr>\n",
       "    <tr>\n",
       "      <th>500336</th>\n",
       "      <td>거치대 및 외장 하드 중 HDMI 케이블 하나 추가로 구매하면 10센치 사은품은 언...</td>\n",
       "      <td>웹사이트</td>\n",
       "      <td>배송</td>\n",
       "      <td>0.000370</td>\n",
       "      <td>0.655246</td>\n",
       "      <td>8</td>\n",
       "    </tr>\n",
       "  </tbody>\n",
       "</table>\n",
       "<p>500337 rows × 6 columns</p>\n",
       "</div>"
      ],
      "text/plain": [
       "                                                      발화문    인텐트 prediction  \\\n",
       "0                빠른 처리 부탁드리며 오늘 배송 예약 햇는데 혹시 오늘 출고되는 건가요?     AS         배송   \n",
       "1                                  오늘 샀는데 한 박스에 더 담겨 오나요?     결제         포장   \n",
       "2                   빨리 주문해서 받으셔서 설치 잘 부탁드립니다. 배송비도 가능한지요?  부가서비스         배송   \n",
       "3                               지금 구매하고 차후 사은품도 받을 수 있나요?     행사         행사   \n",
       "4                          혹시 저희가 배송해주시는 칫솔모 따로 구매해야 하나요?     매장         제품   \n",
       "...                                                   ...    ...        ...   \n",
       "500332                     11번 구매 햇는데 옵션 번호로 주문하면 되는 건가요?     주문         제품   \n",
       "500333                            오늘 혹시 워머세트 선물포장하시는 건가요?     제품         포장   \n",
       "500334                             혹시 지금 결제한 건도 취소 가능한지요?     배송         결제   \n",
       "500335  혹시 윈도우 탑재 제품 구매 시 기존 브라우저로 인한 문제 및 기기 이상 있는 건 ...     매장         제품   \n",
       "500336  거치대 및 외장 하드 중 HDMI 케이블 하나 추가로 구매하면 10센치 사은품은 언...   웹사이트         배송   \n",
       "\n",
       "        probs (gt)  probs (pred)  rank (gt)  \n",
       "0         0.000069      0.998635          5  \n",
       "1         0.001455      0.842569          6  \n",
       "2         0.072400      0.915355          2  \n",
       "3         0.936409      0.936409          1  \n",
       "4         0.000098      0.960782         10  \n",
       "...            ...           ...        ...  \n",
       "500332    0.027748      0.590100          4  \n",
       "500333    0.002578      0.992635          2  \n",
       "500334    0.005875      0.800432          3  \n",
       "500335    0.000031      0.998391          9  \n",
       "500336    0.000370      0.655246          8  \n",
       "\n",
       "[500337 rows x 6 columns]"
      ]
     },
     "execution_count": 13,
     "metadata": {},
     "output_type": "execute_result"
    }
   ],
   "source": [
    "aug_result = predict(run_id=\"ca49adf0b85642a5bf22d86cfbe3782a\", device=device, df=df)\n",
    "result_df = get_result_df(aug_result, df, le)\n",
    "result_df"
   ]
  },
  {
   "cell_type": "code",
   "execution_count": 14,
   "id": "cab25258-2a94-4e39-a6ef-398a4bf21b51",
   "metadata": {},
   "outputs": [
    {
     "name": "stdout",
     "output_type": "stream",
     "text": [
      "# of tp: 79,920\n"
     ]
    },
    {
     "data": {
      "text/html": [
       "<div>\n",
       "<style scoped>\n",
       "    .dataframe tbody tr th:only-of-type {\n",
       "        vertical-align: middle;\n",
       "    }\n",
       "\n",
       "    .dataframe tbody tr th {\n",
       "        vertical-align: top;\n",
       "    }\n",
       "\n",
       "    .dataframe thead th {\n",
       "        text-align: right;\n",
       "    }\n",
       "</style>\n",
       "<table border=\"1\" class=\"dataframe\">\n",
       "  <thead>\n",
       "    <tr style=\"text-align: right;\">\n",
       "      <th></th>\n",
       "      <th>인텐트</th>\n",
       "    </tr>\n",
       "  </thead>\n",
       "  <tbody>\n",
       "    <tr>\n",
       "      <th>제품</th>\n",
       "      <td>28955</td>\n",
       "    </tr>\n",
       "    <tr>\n",
       "      <th>배송</th>\n",
       "      <td>17265</td>\n",
       "    </tr>\n",
       "    <tr>\n",
       "      <th>행사</th>\n",
       "      <td>8545</td>\n",
       "    </tr>\n",
       "    <tr>\n",
       "      <th>포장</th>\n",
       "      <td>4824</td>\n",
       "    </tr>\n",
       "    <tr>\n",
       "      <th>매장</th>\n",
       "      <td>3621</td>\n",
       "    </tr>\n",
       "    <tr>\n",
       "      <th>AS</th>\n",
       "      <td>3363</td>\n",
       "    </tr>\n",
       "    <tr>\n",
       "      <th>멤버십</th>\n",
       "      <td>3341</td>\n",
       "    </tr>\n",
       "    <tr>\n",
       "      <th>결제</th>\n",
       "      <td>2727</td>\n",
       "    </tr>\n",
       "    <tr>\n",
       "      <th>부가서비스</th>\n",
       "      <td>2639</td>\n",
       "    </tr>\n",
       "    <tr>\n",
       "      <th>교환|반품|환불</th>\n",
       "      <td>2087</td>\n",
       "    </tr>\n",
       "    <tr>\n",
       "      <th>구매</th>\n",
       "      <td>2002</td>\n",
       "    </tr>\n",
       "    <tr>\n",
       "      <th>웹사이트</th>\n",
       "      <td>551</td>\n",
       "    </tr>\n",
       "  </tbody>\n",
       "</table>\n",
       "</div>"
      ],
      "text/plain": [
       "            인텐트\n",
       "제품        28955\n",
       "배송        17265\n",
       "행사         8545\n",
       "포장         4824\n",
       "매장         3621\n",
       "AS         3363\n",
       "멤버십        3341\n",
       "결제         2727\n",
       "부가서비스      2639\n",
       "교환|반품|환불   2087\n",
       "구매         2002\n",
       "웹사이트        551"
      ]
     },
     "execution_count": 14,
     "metadata": {},
     "output_type": "execute_result"
    }
   ],
   "source": [
    "correct = np.where(aug_result['gt'] == aug_result['predictions'])[0]\n",
    "print(f\"# of tp: {len(correct):,}\")\n",
    "correct_df = result_df.loc[correct]\n",
    "pd.DataFrame(correct_df['인텐트'].value_counts())"
   ]
  },
  {
   "cell_type": "code",
   "execution_count": 15,
   "id": "121e743c-6c7e-426c-9e3f-d0d42e9480f2",
   "metadata": {},
   "outputs": [],
   "source": [
    "correct_df.to_csv(\"data/gpt2_data.v2.csv\", index=False)"
   ]
  },
  {
   "cell_type": "code",
   "execution_count": 16,
   "id": "4bd54a74-55e8-40b6-9fed-7bb3f9938901",
   "metadata": {},
   "outputs": [],
   "source": [
    "merged_df = pd.concat([train_df, correct_df[['발화문', '인텐트']]]).drop_duplicates().dropna()\n",
    "merged_df.to_csv(\"data/train+gpt2.v2.csv\", index=False)"
   ]
  },
  {
   "cell_type": "code",
   "execution_count": 121,
   "id": "31503a3f-35b6-4b5d-874d-59ca972fe36e",
   "metadata": {},
   "outputs": [
    {
     "name": "stdout",
     "output_type": "stream",
     "text": [
      "f1        (micro): 0.9448\n",
      "prec      (macro): 0.7393\n",
      "recall    (macro): 0.6571\n",
      "f1        (macro): 0.6845\n",
      "prec   (weighted): 0.9408\n",
      "recall (weighted): 0.9448\n",
      "f1     (weighted): 0.9415\n"
     ]
    }
   ],
   "source": [
    "train_result = predict(run_id='ca49adf0b85642a5bf22d86cfbe3782a', device=device)\n",
    "train_result_df = get_result_df(train_result, train_df, le)"
   ]
  },
  {
   "cell_type": "code",
   "execution_count": 33,
   "id": "ed974b08-5162-41b5-a141-56f3e5be7c2e",
   "metadata": {},
   "outputs": [
    {
     "data": {
      "text/plain": [
       "제품          680\n",
       "배송           29\n",
       "결제           27\n",
       "행사            7\n",
       "AS            6\n",
       "구매            5\n",
       "교환|반품|환불      4\n",
       "웹사이트          2\n",
       "Name: prediction, dtype: int64"
      ]
     },
     "execution_count": 33,
     "metadata": {},
     "output_type": "execute_result"
    }
   ],
   "source": [
    "tmp_df = train_result_df\n",
    "tmp_df[tmp_df['인텐트'] == '주문']['prediction'].value_counts()"
   ]
  },
  {
   "cell_type": "markdown",
   "id": "54d33557-8cec-4392-a0ee-ef621b749881",
   "metadata": {},
   "source": [
    "---"
   ]
  },
  {
   "cell_type": "code",
   "execution_count": 159,
   "id": "a2988dea-d284-4be4-94a3-de36738712ff",
   "metadata": {},
   "outputs": [],
   "source": [
    "rng = np.random.default_rng(1234)\n",
    "n_samples = get_n_samples(train_df[\"인텐트\"].to_numpy()).min().item()\n",
    "indices = []\n",
    "\n",
    "for label in le.classes_:\n",
    "    df = train_df[train_df[\"인텐트\"] == label]\n",
    "    idx = df.index.to_numpy()\n",
    "    idx = rng.choice(idx, size=n_samples, replace=False)\n",
    "    indices.append(idx)\n",
    "\n",
    "indices = np.concatenate(indices)\n",
    "tmp_df = (\n",
    "    train_df.loc[indices]\n",
    "    .sample(frac=1.0, random_state=rng.bit_generator)\n",
    "    .dropna()\n",
    "    .drop_duplicates()\n",
    "    .reset_index(drop=True)\n",
    ")\n",
    "\n",
    "tmp_df.to_csv(\"data/train_sample.csv\", index=False)"
   ]
  }
 ],
 "metadata": {
  "kernelspec": {
   "display_name": "Python [conda env:algorima]",
   "language": "python",
   "name": "conda-env-algorima-py"
  },
  "language_info": {
   "codemirror_mode": {
    "name": "ipython",
    "version": 3
   },
   "file_extension": ".py",
   "mimetype": "text/x-python",
   "name": "python",
   "nbconvert_exporter": "python",
   "pygments_lexer": "ipython3",
   "version": "3.7.2"
  }
 },
 "nbformat": 4,
 "nbformat_minor": 5
}
